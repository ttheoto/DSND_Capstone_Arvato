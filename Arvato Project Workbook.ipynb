{
 "cells": [
  {
   "cell_type": "markdown",
   "metadata": {},
   "source": [
    "# Capstone Project: Create a Customer Segmentation Report for Arvato Financial Services\n",
    "\n",
    "In this project, you will analyze demographics data for customers of a mail-order sales company in Germany, comparing it against demographics information for the general population. You'll use unsupervised learning techniques to perform customer segmentation, identifying the parts of the population that best describe the core customer base of the company. Then, you'll apply what you've learned on a third dataset with demographics information for targets of a marketing campaign for the company, and use a model to predict which individuals are most likely to convert into becoming customers for the company. The data that you will use has been provided by our partners at Bertelsmann Arvato Analytics, and represents a real-life data science task.\n",
    "\n",
    "If you completed the first term of this program, you will be familiar with the first part of this project, from the unsupervised learning project. The versions of those two datasets used in this project will include many more features and has not been pre-cleaned. You are also free to choose whatever approach you'd like to analyzing the data rather than follow pre-determined steps. In your work on this project, make sure that you carefully document your steps and decisions, since your main deliverable for this project will be a blog post reporting your findings."
   ]
  },
  {
   "cell_type": "code",
   "execution_count": 1,
   "metadata": {
    "collapsed": true
   },
   "outputs": [],
   "source": [
    "# import libraries here; add more as necessary\n",
    "import numpy as np\n",
    "import pandas as pd\n",
    "import matplotlib.pyplot as plt\n",
    "import seaborn as sns\n",
    "import pprint\n",
    "import operator\n",
    "import time\n",
    "from sklearn.preprocessing import Imputer\n",
    "from sklearn.cluster import KMeans\n",
    "from sklearn.preprocessing import StandardScaler\n",
    "from sklearn.decomposition import PCA    \n",
    "from sklearn.preprocessing import LabelEncoder\n",
    "import random\n",
    "\n",
    "# magic word for producing visualizations in notebook\n",
    "%matplotlib inline"
   ]
  },
  {
   "cell_type": "markdown",
   "metadata": {},
   "source": [
    "## Part 0: Get to Know the Data\n",
    "\n",
    "There are four data files associated with this project:\n",
    "\n",
    "- `Udacity_AZDIAS_052018.csv`: Demographics data for the general population of Germany; 891 211 persons (rows) x 366 features (columns).\n",
    "- `Udacity_CUSTOMERS_052018.csv`: Demographics data for customers of a mail-order company; 191 652 persons (rows) x 369 features (columns).\n",
    "- `Udacity_MAILOUT_052018_TRAIN.csv`: Demographics data for individuals who were targets of a marketing campaign; 42 982 persons (rows) x 367 (columns).\n",
    "- `Udacity_MAILOUT_052018_TEST.csv`: Demographics data for individuals who were targets of a marketing campaign; 42 833 persons (rows) x 366 (columns).\n",
    "\n",
    "Each row of the demographics files represents a single person, but also includes information outside of individuals, including information about their household, building, and neighborhood. Use the information from the first two files to figure out how customers (\"CUSTOMERS\") are similar to or differ from the general population at large (\"AZDIAS\"), then use your analysis to make predictions on the other two files (\"MAILOUT\"), predicting which recipients are most likely to become a customer for the mail-order company.\n",
    "\n",
    "The \"CUSTOMERS\" file contains three extra columns ('CUSTOMER_GROUP', 'ONLINE_PURCHASE', and 'PRODUCT_GROUP'), which provide broad information about the customers depicted in the file. The original \"MAILOUT\" file included one additional column, \"RESPONSE\", which indicated whether or not each recipient became a customer of the company. For the \"TRAIN\" subset, this column has been retained, but in the \"TEST\" subset it has been removed; it is against that withheld column that your final predictions will be assessed in the Kaggle competition.\n",
    "\n",
    "Otherwise, all of the remaining columns are the same between the three data files. For more information about the columns depicted in the files, you can refer to two Excel spreadsheets provided in the workspace. [One of them](./DIAS Information Levels - Attributes 2017.xlsx) is a top-level list of attributes and descriptions, organized by informational category. [The other](./DIAS Attributes - Values 2017.xlsx) is a detailed mapping of data values for each feature in alphabetical order.\n",
    "\n",
    "In the below cell, we've provided some initial code to load in the first two datasets. Note for all of the `.csv` data files in this project that they're semicolon (`;`) delimited, so an additional argument in the [`read_csv()`](https://pandas.pydata.org/pandas-docs/stable/generated/pandas.read_csv.html) call has been included to read in the data properly. Also, considering the size of the datasets, it may take some time for them to load completely.\n",
    "\n",
    "You'll notice when the data is loaded in that a warning message will immediately pop up. Before you really start digging into the modeling and analysis, you're going to need to perform some cleaning. Take some time to browse the structure of the data and look over the informational spreadsheets to understand the data values. Make some decisions on which features to keep, which features to drop, and if any revisions need to be made on data formats. It'll be a good idea to create a function with pre-processing steps, since you'll need to clean all of the datasets before you work with them."
   ]
  },
  {
   "cell_type": "code",
   "execution_count": 2,
   "metadata": {
    "collapsed": true
   },
   "outputs": [
    {
     "name": "stderr",
     "output_type": "stream",
     "text": [
      "C:\\Users\\Theoto Tatiana\\AppData\\Local\\Continuum\\anaconda3\\lib\\site-packages\\IPython\\core\\interactiveshell.py:3058: DtypeWarning: Columns (18,19) have mixed types. Specify dtype option on import or set low_memory=False.\n",
      "  interactivity=interactivity, compiler=compiler, result=result)\n"
     ]
    }
   ],
   "source": [
    "# load in the data - I saved locally with \",\" as a separator\n",
    "# please change to \";\" for the original dataset\n",
    "\n",
    "try:\n",
    "    azdias = pd.read_csv('Udacity_AZDIAS_052018.csv', sep=',')\n",
    "    customers = pd.read_csv('Udacity_CUSTOMERS_052018.csv', sep=',')\n",
    "except:\n",
    "    print(\"You do not have access to the files.\")"
   ]
  },
  {
   "cell_type": "code",
   "execution_count": 3,
   "metadata": {
    "collapsed": true
   },
   "outputs": [],
   "source": [
    "# read excel information\n",
    "try:\n",
    "    feat_top = pd.read_excel('DIAS Information Levels - Attributes 2017.xlsx')\n",
    "    feat_det = pd.read_excel('DIAS Attributes - Values 2017.xlsx')\n",
    "except:\n",
    "    print(\"You do not have access to the files.\")"
   ]
  },
  {
   "cell_type": "markdown",
   "metadata": {},
   "source": [
    "### Part 0.0: Understanding feature information\n",
    "\n",
    "The provided Excel Data seem to contain important information about the values of each feature - notably, values that correspond to \"unknown\" data."
   ]
  },
  {
   "cell_type": "code",
   "execution_count": 4,
   "metadata": {
    "collapsed": true
   },
   "outputs": [
    {
     "name": "stdout",
     "output_type": "stream",
     "text": [
      "Detailed mapping of data values for each feature\n",
      "Number of rows: 2258\n",
      "Number of cols: 5\n",
      "   Unnamed: 0 Attribute         Description Value                     Meaning\n",
      "0         NaN  AGER_TYP  best-ager typology    -1                     unknown\n",
      "1         NaN       NaN                 NaN     0  no classification possible\n",
      "2         NaN       NaN                 NaN     1             passive elderly\n",
      "3         NaN       NaN                 NaN     2            cultural elderly\n",
      "4         NaN       NaN                 NaN     3   experience-driven elderly\n"
     ]
    }
   ],
   "source": [
    "f_rows, f_cols = feat_det.shape\n",
    "print(\"Detailed mapping of data values for each feature\")\n",
    "print(\"Number of rows: {}\".format(f_rows))\n",
    "print(\"Number of cols: {}\".format(f_cols))\n",
    "print(feat_det.head())"
   ]
  },
  {
   "cell_type": "code",
   "execution_count": 5,
   "metadata": {
    "collapsed": true
   },
   "outputs": [],
   "source": [
    "# Using forward fill to eliminate NaNs from Attribute Column\n",
    "feat_det['Attribute'].ffill(inplace = True)"
   ]
  },
  {
   "cell_type": "code",
   "execution_count": 6,
   "metadata": {
    "collapsed": true
   },
   "outputs": [
    {
     "name": "stdout",
     "output_type": "stream",
     "text": [
      "      Unnamed: 0        Attribute Description Value Meaning\n",
      "1906         NaN  LP_FAMILIE_GROB         NaN     4     NaN\n",
      "1907         NaN  LP_FAMILIE_GROB         NaN     5     NaN\n",
      "1909         NaN  LP_FAMILIE_GROB         NaN     7     NaN\n",
      "1910         NaN  LP_FAMILIE_GROB         NaN     8     NaN\n",
      "1912         NaN  LP_FAMILIE_GROB         NaN    10     NaN\n",
      "1913         NaN  LP_FAMILIE_GROB         NaN    11     NaN\n",
      "1977         NaN   LP_STATUS_GROB         NaN     2     NaN\n",
      "1979         NaN   LP_STATUS_GROB         NaN     4     NaN\n",
      "1980         NaN   LP_STATUS_GROB         NaN     5     NaN\n",
      "1982         NaN   LP_STATUS_GROB         NaN     7     NaN\n",
      "1984         NaN   LP_STATUS_GROB         NaN     9     NaN\n"
     ]
    }
   ],
   "source": [
    "# Correcting for \"GROB\" Categories - formatation error leads to \"NaN\" Values\n",
    "\n",
    "print(feat_det[feat_det['Meaning'].isna() == True])\n",
    "feat_det['Meaning'].ffill(inplace = True)"
   ]
  },
  {
   "cell_type": "code",
   "execution_count": 7,
   "metadata": {
    "collapsed": true
   },
   "outputs": [
    {
     "name": "stdout",
     "output_type": "stream",
     "text": [
      "True\n"
     ]
    }
   ],
   "source": [
    "# Creating a new data frame with \"unknown\" values - which are equivalent to NaN, but receive a number\n",
    "miss_val = feat_det[(feat_det['Meaning'] == 'unknown')][['Attribute', 'Value']].reset_index(drop=True)\n",
    "\n",
    "# Checking if there are any duplicated Attributes, that would need to be consolidated\n",
    "# True if no extra steps are required\n",
    "print(eval('miss_val[\\'Attribute\\'].nunique()==miss_val.shape[0]'))"
   ]
  },
  {
   "cell_type": "code",
   "execution_count": 8,
   "metadata": {
    "collapsed": true
   },
   "outputs": [],
   "source": [
    "# Transforming 'Value' Strings into lists of integers\n",
    "\n",
    "def split_transform(x):\n",
    "    try:\n",
    "        a_list = x.split(',')\n",
    "        map_object = map(int, a_list)\n",
    "        list_ints = list(map_object)\n",
    "        return list_ints\n",
    "    except:\n",
    "        return [x]\n",
    "\n",
    "miss_val['Value'] = miss_val['Value'].apply(split_transform)"
   ]
  },
  {
   "cell_type": "markdown",
   "metadata": {},
   "source": [
    "### Part 0.1: General Population Dataset\n",
    "\n",
    "The goal of this section is to understand the \"Azdias\" dataset, and provide information for the data cleaning."
   ]
  },
  {
   "cell_type": "code",
   "execution_count": 9,
   "metadata": {
    "collapsed": true
   },
   "outputs": [
    {
     "name": "stdout",
     "output_type": "stream",
     "text": [
      "General Population at Large\n",
      "Number of rows: 891221\n",
      "Number of cols: 366\n",
      "      LNR  AGER_TYP  AKT_DAT_KL  ALTER_HH  ALTER_KIND1  ALTER_KIND2  \\\n",
      "0  910215        -1         NaN       NaN          NaN          NaN   \n",
      "1  910220        -1         9.0       0.0          NaN          NaN   \n",
      "2  910225        -1         9.0      17.0          NaN          NaN   \n",
      "3  910226         2         1.0      13.0          NaN          NaN   \n",
      "4  910241        -1         1.0      20.0          NaN          NaN   \n",
      "\n",
      "   ALTER_KIND3  ALTER_KIND4  ALTERSKATEGORIE_FEIN  ANZ_HAUSHALTE_AKTIV  ...  \\\n",
      "0          NaN          NaN                   NaN                  NaN  ...   \n",
      "1          NaN          NaN                  21.0                 11.0  ...   \n",
      "2          NaN          NaN                  17.0                 10.0  ...   \n",
      "3          NaN          NaN                  13.0                  1.0  ...   \n",
      "4          NaN          NaN                  14.0                  3.0  ...   \n",
      "\n",
      "   VHN  VK_DHT4A  VK_DISTANZ  VK_ZG11  W_KEIT_KIND_HH  WOHNDAUER_2008  \\\n",
      "0  NaN       NaN         NaN      NaN             NaN             NaN   \n",
      "1  4.0       8.0        11.0     10.0             3.0             9.0   \n",
      "2  2.0       9.0         9.0      6.0             3.0             9.0   \n",
      "3  0.0       7.0        10.0     11.0             NaN             9.0   \n",
      "4  2.0       3.0         5.0      4.0             2.0             9.0   \n",
      "\n",
      "   WOHNLAGE ZABEOTYP ANREDE_KZ ALTERSKATEGORIE_GROB  \n",
      "0       NaN        3         1                    2  \n",
      "1       4.0        5         2                    1  \n",
      "2       2.0        5         2                    3  \n",
      "3       7.0        3         2                    4  \n",
      "4       3.0        4         1                    3  \n",
      "\n",
      "[5 rows x 366 columns]\n"
     ]
    }
   ],
   "source": [
    "# exploring the general population dataset\n",
    "\n",
    "a_rows, a_cols = azdias.shape\n",
    "print(\"General Population at Large\")\n",
    "print(\"Number of rows: {}\".format(a_rows))\n",
    "print(\"Number of cols: {}\".format(a_cols))\n",
    "print(azdias.head())"
   ]
  },
  {
   "cell_type": "markdown",
   "metadata": {},
   "source": [
    "#### Replacing \"Unknown\" Values"
   ]
  },
  {
   "cell_type": "code",
   "execution_count": 10,
   "metadata": {
    "collapsed": true
   },
   "outputs": [],
   "source": [
    "# creating a copy of dataset to perform cleaning \n",
    "azdias_clean = azdias.copy()"
   ]
  },
  {
   "cell_type": "code",
   "execution_count": 11,
   "metadata": {
    "collapsed": true
   },
   "outputs": [],
   "source": [
    "# Replacing \"unknown\" values with NaN \n",
    "for index in miss_val.index:\n",
    "    current_atr = miss_val.loc[index]['Attribute']\n",
    "    current_list = miss_val.loc[index]['Value']\n",
    "    for value in current_list:\n",
    "        try: # some features are not present in azdias\n",
    "            azdias_clean.loc[:, current_atr].replace(value, np.nan, inplace = True)\n",
    "        except:\n",
    "            continue"
   ]
  },
  {
   "cell_type": "code",
   "execution_count": 27,
   "metadata": {
    "collapsed": true
   },
   "outputs": [
    {
     "name": "stdout",
     "output_type": "stream",
     "text": [
      "Column name: KBA13_VORB_1_2\n",
      "Missing Values: [list([-1])]\n",
      "azdias_original： \n",
      " 3.0    359262\n",
      "2.0    173047\n",
      "4.0    151120\n",
      "NaN    105800\n",
      "1.0     61834\n",
      "5.0     40158\n",
      "Name: KBA13_VORB_1_2, dtype: int64 \n",
      "\n",
      "azdias_cleaned： \n",
      " 3.0    359262\n",
      "2.0    173047\n",
      "4.0    151120\n",
      "NaN    105800\n",
      "1.0     61834\n",
      "5.0     40158\n",
      "Name: KBA13_VORB_1_2, dtype: int64 \n",
      " \n",
      "\n",
      "Column name: KBA05_MOD4\n",
      "Missing Values: [list([-1, 9])]\n",
      "azdias_original： \n",
      " 3.0    223139\n",
      "2.0    160094\n",
      "NaN    133324\n",
      "4.0    130801\n",
      "1.0     97881\n",
      "5.0     80606\n",
      "0.0     50590\n",
      "9.0     14786\n",
      "Name: KBA05_MOD4, dtype: int64 \n",
      "\n",
      "azdias_cleaned： \n",
      " 3.0    223139\n",
      "2.0    160094\n",
      "NaN    148110\n",
      "4.0    130801\n",
      "1.0     97881\n",
      "5.0     80606\n",
      "0.0     50590\n",
      "Name: KBA05_MOD4, dtype: int64 \n",
      " \n",
      "\n",
      "Column name: KBA13_SEG_GELAENDEWAGEN\n",
      "Missing Values: [list([-1])]\n",
      "azdias_original： \n",
      " 3.0    345193\n",
      "2.0    178645\n",
      "4.0    143742\n",
      "NaN    105800\n",
      "1.0     67786\n",
      "5.0     50055\n",
      "Name: KBA13_SEG_GELAENDEWAGEN, dtype: int64 \n",
      "\n",
      "azdias_cleaned： \n",
      " 3.0    345193\n",
      "2.0    178645\n",
      "4.0    143742\n",
      "NaN    105800\n",
      "1.0     67786\n",
      "5.0     50055\n",
      "Name: KBA13_SEG_GELAENDEWAGEN, dtype: int64 \n",
      " \n",
      "\n",
      "Column name: KBA13_SEG_MINIVANS\n",
      "Missing Values: [list([-1])]\n",
      "azdias_original： \n",
      " 3.0    341862\n",
      "2.0    161436\n",
      "4.0    160044\n",
      "NaN    105800\n",
      "5.0     65130\n",
      "1.0     56949\n",
      "Name: KBA13_SEG_MINIVANS, dtype: int64 \n",
      "\n",
      "azdias_cleaned： \n",
      " 3.0    341862\n",
      "2.0    161436\n",
      "4.0    160044\n",
      "NaN    105800\n",
      "5.0     65130\n",
      "1.0     56949\n",
      "Name: KBA13_SEG_MINIVANS, dtype: int64 \n",
      " \n",
      "\n",
      "Column name: ANREDE_KZ\n",
      "Missing Values: [list([-1, 0])]\n",
      "azdias_original： \n",
      " 2    465305\n",
      "1    425916\n",
      "Name: ANREDE_KZ, dtype: int64 \n",
      "\n",
      "azdias_cleaned： \n",
      " 2    465305\n",
      "1    425916\n",
      "Name: ANREDE_KZ, dtype: int64 \n",
      " \n",
      "\n"
     ]
    }
   ],
   "source": [
    "# Checking for random columns\n",
    "# It seems to work!\n",
    "\n",
    "for column in random.sample(set(miss_val['Attribute'].unique()),5):\n",
    "    print('Column name:', column)\n",
    "    print('Missing Values:', miss_val[miss_val['Attribute'] == column]['Value'].values)\n",
    "    print('azdias_original： \\n', azdias[column].value_counts(dropna=False), '\\n')\n",
    "    print('azdias_cleaned： \\n', azdias_clean[column].value_counts(dropna=False), '\\n \\n')"
   ]
  },
  {
   "cell_type": "markdown",
   "metadata": {},
   "source": [
    "#### Dealing with Missing Values - Columns"
   ]
  },
  {
   "cell_type": "code",
   "execution_count": 13,
   "metadata": {
    "collapsed": true
   },
   "outputs": [],
   "source": [
    "# Identifying the proportion of NaN values\n",
    "\n",
    "nan_prop = azdias_clean.isna().mean().round(4) * 100"
   ]
  },
  {
   "cell_type": "code",
   "execution_count": 14,
   "metadata": {
    "collapsed": true
   },
   "outputs": [
    {
     "data": {
      "text/plain": [
       "0.00      87\n",
       "0.54      19\n",
       "2.06       1\n",
       "5.75       1\n",
       "8.25      10\n",
       "8.30       1\n",
       "8.52       3\n",
       "10.45     13\n",
       "10.52      3\n",
       "10.88      1\n",
       "10.91      5\n",
       "10.93      1\n",
       "10.97      2\n",
       "11.11      3\n",
       "11.87    116\n",
       "12.07      1\n",
       "12.14      1\n",
       "12.15      1\n",
       "12.35      1\n",
       "12.48      3\n",
       "13.07      7\n",
       "13.60      1\n",
       "14.96      6\n",
       "16.44      1\n",
       "16.52      1\n",
       "16.61      1\n",
       "16.62     55\n",
       "17.74      2\n",
       "28.85      9\n",
       "29.50      1\n",
       "53.47      1\n",
       "65.60      1\n",
       "73.40      1\n",
       "76.02      1\n",
       "90.90      1\n",
       "96.69      1\n",
       "99.31      1\n",
       "99.76      1\n",
       "99.86      1\n",
       "dtype: int64"
      ]
     },
     "execution_count": 14,
     "metadata": {},
     "output_type": "execute_result"
    }
   ],
   "source": [
    "# Sorting and counting values \n",
    "\n",
    "nan_prop.value_counts().sort_index()"
   ]
  },
  {
   "cell_type": "code",
   "execution_count": 15,
   "metadata": {
    "collapsed": true
   },
   "outputs": [
    {
     "name": "stdout",
     "output_type": "stream",
     "text": [
      "87 (23.8%) columns have no missing values\n",
      "279 (76.2%) columns have at least one missing value\n"
     ]
    }
   ],
   "source": [
    "# Analyzing the results\n",
    "clean_cols = len(nan_prop[nan_prop == 0]) \n",
    "nan_cols = nan_prop.shape[0] - clean_cols\n",
    "\n",
    "print('{} ({:0.1f}%) columns have no missing values'.format(clean_cols, 100*clean_cols/nan_prop.shape[0]))\n",
    "print('{} ({:0.1f}%) columns have at least one missing value'.format(nan_cols, 100*nan_cols/nan_prop.shape[0]))"
   ]
  },
  {
   "cell_type": "code",
   "execution_count": 16,
   "metadata": {
    "collapsed": true
   },
   "outputs": [
    {
     "data": {
      "image/png": "[encoded data removed]",
      "text/plain": [
       "<Figure size 1080x720 with 1 Axes>"
      ]
     },
     "metadata": {
      "needs_background": "light"
     },
     "output_type": "display_data"
    }
   ],
   "source": [
    "# Distribution of missing values\n",
    "\n",
    "plt.figure(figsize=(15,10));\n",
    "plt.hist(nan_prop.values, bins=20);\n",
    "plt.title('Figure 1: Distribution of Missing Values - Columns (Percentage)')\n",
    "plt.xlabel('Percentage of missing values (%)');\n",
    "plt.ylabel('Column Count');"
   ]
  },
  {
   "cell_type": "code",
   "execution_count": 17,
   "metadata": {
    "collapsed": true
   },
   "outputs": [
    {
     "name": "stdout",
     "output_type": "stream",
     "text": [
      "347 (94.8%) columns have less than 20% missing values\n",
      "19 (5.2%) columns have at least 20% of its values missing\n"
     ]
    }
   ],
   "source": [
    "# Analyzing the results (>20% missing values are clearly outliers)\n",
    "clean_cols = len(nan_prop[nan_prop < 20]) \n",
    "nan_cols = nan_prop.shape[0] - clean_cols\n",
    "\n",
    "print('{} ({:0.1f}%) columns have less than 20% missing values'.format(clean_cols, 100*clean_cols/nan_prop.shape[0]))\n",
    "print('{} ({:0.1f}%) columns have at least 20% of its values missing'.format(nan_cols, 100*nan_cols/nan_prop.shape[0]))"
   ]
  },
  {
   "cell_type": "code",
   "execution_count": 18,
   "metadata": {
    "collapsed": true
   },
   "outputs": [
    {
     "data": {
      "image/png": "[encoded data removed]",
      "text/plain": [
       "<Figure size 1080x720 with 1 Axes>"
      ]
     },
     "metadata": {
      "needs_background": "light"
     },
     "output_type": "display_data"
    }
   ],
   "source": [
    "# Visualizing the percentage of NaNs\n",
    "\n",
    "w_nan_prop = (nan_prop[nan_prop > 0].sort_values(ascending=False))[:50]\n",
    "\n",
    "w_nan_prop.plot.bar(figsize=(15,10), facecolor ='b')\n",
    "plt.title('Figure 2: Top 50 Percentage of Missing Values')\n",
    "plt.xlabel('Column name with missing values')\n",
    "plt.ylabel('Percentage of missing values')\n",
    "plt.show()"
   ]
  },
  {
   "cell_type": "markdown",
   "metadata": {},
   "source": [
    "From the chart above, we notice some columns with more than 1/5 of its values missing. Figure 1 shows that those are clearly the outliers - 94.8% of the columns (347) have less than 20% of its values missing. To reduce the dataset's complexity, I will choose to drop those 19 columns in the data cleaning step."
   ]
  },
  {
   "cell_type": "markdown",
   "metadata": {},
   "source": [
    "#### Dealing with Missing Values - Rows"
   ]
  },
  {
   "cell_type": "code",
   "execution_count": 19,
   "metadata": {
    "collapsed": true
   },
   "outputs": [],
   "source": [
    "# Missing Values in rows\n",
    "\n",
    "na_rows_sum = azdias_clean.isna().sum(axis=1)"
   ]
  },
  {
   "cell_type": "code",
   "execution_count": 20,
   "metadata": {
    "collapsed": true
   },
   "outputs": [
    {
     "data": {
      "image/png": "[encoded data removed]",
      "text/plain": [
       "<Figure size 1080x720 with 1 Axes>"
      ]
     },
     "metadata": {
      "needs_background": "light"
     },
     "output_type": "display_data"
    }
   ],
   "source": [
    "# Distribution of missing values in percentual values\n",
    "\n",
    "prop_nan_rows = 100*na_rows_sum.values/len(azdias_clean.columns)\n",
    "plt.figure(figsize=(15,10));\n",
    "plt.hist(prop_nan_rows, bins=100);\n",
    "plt.title('Figure 3: Distribution of Missing Values - Rows (Percentage)')\n",
    "plt.xlabel('Percentage of missing values (%)');\n",
    "plt.ylabel('Row Count');"
   ]
  },
  {
   "cell_type": "code",
   "execution_count": 21,
   "metadata": {
    "collapsed": true
   },
   "outputs": [
    {
     "name": "stdout",
     "output_type": "stream",
     "text": [
      "736587 (82.6%) rows have less than 10% missing values\n",
      "154634 (17.4%) rows have at least 10% of its values missing\n"
     ]
    }
   ],
   "source": [
    "# Analyzing the results (>10% missing values are clearly outliers)\n",
    "clean_rows = len(prop_nan_rows[prop_nan_rows < 10]) \n",
    "nan_rows = prop_nan_rows.shape[0] - clean_rows\n",
    "\n",
    "print('{} ({:0.1f}%) rows have less than 10% missing values'.format(clean_rows, 100*clean_rows/prop_nan_rows.shape[0]))\n",
    "print('{} ({:0.1f}%) rows have at least 10% of its values missing'.format(nan_rows, 100*nan_rows/prop_nan_rows.shape[0]))"
   ]
  },
  {
   "cell_type": "markdown",
   "metadata": {},
   "source": [
    "As Figure 3 and the analysis above show, removing rows with at least 10% of its values missing will still retain 84.2% of the values. To increase the informative value and meaningfullness of the dataset, I will choose to remove those rows in the data cleaning step."
   ]
  },
  {
   "cell_type": "markdown",
   "metadata": {},
   "source": [
    "#### Analyzing and selecting features\n",
    "\n",
    "Since the unsupervised learning techniques to be used will only work on data that is encoded numerically, you need to make a few encoding changes or additional assumptions to be able to make progress. In addition, while almost all of the values in the dataset are encoded using numbers, not all of them represent numeric values. \n",
    "\n",
    "For numeric and interval data, these features can be kept without changes.\n",
    "Most of the variables in the dataset are ordinal in nature. While ordinal values may technically be non-linear in spacing, make the simplifying assumption that the ordinal variables can be treated as being interval in nature (that is, kept without any changes).\n",
    "Special handling may be necessary for the remaining two variable types: categorical, and 'mixed'."
   ]
  },
  {
   "cell_type": "code",
   "execution_count": 43,
   "metadata": {},
   "outputs": [],
   "source": [
    "feat_sum = pd.read_csv('https://raw.githubusercontent.com/gauravansal/DSND-Capstone-Project/master/feature_summary_complete.csv')"
   ]
  },
  {
   "cell_type": "code",
   "execution_count": null,
   "metadata": {},
   "outputs": [],
   "source": [
    "feat_sum.to_csv('DIAS_Attributes_Summary_DSND1.csv')"
   ]
  },
  {
   "cell_type": "code",
   "execution_count": 31,
   "metadata": {},
   "outputs": [
    {
     "data": {
      "text/plain": [
       "float64    273\n",
       "int64       87\n",
       "object       6\n",
       "dtype: int64"
      ]
     },
     "execution_count": 31,
     "metadata": {},
     "output_type": "execute_result"
    }
   ],
   "source": [
    "# Analyzing data types and their frequency - majority is numerical\n",
    "\n",
    "azdias_clean.dtypes.value_counts()"
   ]
  },
  {
   "cell_type": "code",
   "execution_count": 36,
   "metadata": {},
   "outputs": [
    {
     "data": {
      "text/html": [
       "<div>\n",
       "<style scoped>\n",
       "    .dataframe tbody tr th:only-of-type {\n",
       "        vertical-align: middle;\n",
       "    }\n",
       "\n",
       "    .dataframe tbody tr th {\n",
       "        vertical-align: top;\n",
       "    }\n",
       "\n",
       "    .dataframe thead th {\n",
       "        text-align: right;\n",
       "    }\n",
       "</style>\n",
       "<table border=\"1\" class=\"dataframe\">\n",
       "  <thead>\n",
       "    <tr style=\"text-align: right;\">\n",
       "      <th></th>\n",
       "      <th>CAMEO_DEU_2015</th>\n",
       "      <th>CAMEO_DEUG_2015</th>\n",
       "      <th>CAMEO_INTL_2015</th>\n",
       "      <th>D19_LETZTER_KAUF_BRANCHE</th>\n",
       "      <th>EINGEFUEGT_AM</th>\n",
       "      <th>OST_WEST_KZ</th>\n",
       "    </tr>\n",
       "  </thead>\n",
       "  <tbody>\n",
       "    <tr>\n",
       "      <td>0</td>\n",
       "      <td>NaN</td>\n",
       "      <td>NaN</td>\n",
       "      <td>NaN</td>\n",
       "      <td>NaN</td>\n",
       "      <td>NaN</td>\n",
       "      <td>NaN</td>\n",
       "    </tr>\n",
       "    <tr>\n",
       "      <td>1</td>\n",
       "      <td>8A</td>\n",
       "      <td>8</td>\n",
       "      <td>51</td>\n",
       "      <td>NaN</td>\n",
       "      <td>1992-02-10 00:00:00</td>\n",
       "      <td>W</td>\n",
       "    </tr>\n",
       "    <tr>\n",
       "      <td>2</td>\n",
       "      <td>4C</td>\n",
       "      <td>4</td>\n",
       "      <td>24</td>\n",
       "      <td>D19_UNBEKANNT</td>\n",
       "      <td>1992-02-12 00:00:00</td>\n",
       "      <td>W</td>\n",
       "    </tr>\n",
       "    <tr>\n",
       "      <td>3</td>\n",
       "      <td>2A</td>\n",
       "      <td>2</td>\n",
       "      <td>12</td>\n",
       "      <td>D19_UNBEKANNT</td>\n",
       "      <td>1997-04-21 00:00:00</td>\n",
       "      <td>W</td>\n",
       "    </tr>\n",
       "    <tr>\n",
       "      <td>4</td>\n",
       "      <td>6B</td>\n",
       "      <td>6</td>\n",
       "      <td>43</td>\n",
       "      <td>D19_SCHUHE</td>\n",
       "      <td>1992-02-12 00:00:00</td>\n",
       "      <td>W</td>\n",
       "    </tr>\n",
       "    <tr>\n",
       "      <td>...</td>\n",
       "      <td>...</td>\n",
       "      <td>...</td>\n",
       "      <td>...</td>\n",
       "      <td>...</td>\n",
       "      <td>...</td>\n",
       "      <td>...</td>\n",
       "    </tr>\n",
       "    <tr>\n",
       "      <td>891216</td>\n",
       "      <td>7A</td>\n",
       "      <td>7</td>\n",
       "      <td>41</td>\n",
       "      <td>D19_HAUS_DEKO</td>\n",
       "      <td>1992-02-10 00:00:00</td>\n",
       "      <td>W</td>\n",
       "    </tr>\n",
       "    <tr>\n",
       "      <td>891217</td>\n",
       "      <td>9D</td>\n",
       "      <td>9</td>\n",
       "      <td>51</td>\n",
       "      <td>D19_UNBEKANNT</td>\n",
       "      <td>1992-02-10 00:00:00</td>\n",
       "      <td>W</td>\n",
       "    </tr>\n",
       "    <tr>\n",
       "      <td>891218</td>\n",
       "      <td>4C</td>\n",
       "      <td>4</td>\n",
       "      <td>24</td>\n",
       "      <td>D19_BEKLEIDUNG_GEH</td>\n",
       "      <td>1992-02-10 00:00:00</td>\n",
       "      <td>W</td>\n",
       "    </tr>\n",
       "    <tr>\n",
       "      <td>891219</td>\n",
       "      <td>9D</td>\n",
       "      <td>9</td>\n",
       "      <td>51</td>\n",
       "      <td>D19_UNBEKANNT</td>\n",
       "      <td>1992-02-12 00:00:00</td>\n",
       "      <td>W</td>\n",
       "    </tr>\n",
       "    <tr>\n",
       "      <td>891220</td>\n",
       "      <td>6B</td>\n",
       "      <td>6</td>\n",
       "      <td>43</td>\n",
       "      <td>NaN</td>\n",
       "      <td>1992-02-10 00:00:00</td>\n",
       "      <td>W</td>\n",
       "    </tr>\n",
       "  </tbody>\n",
       "</table>\n",
       "<p>891221 rows × 6 columns</p>\n",
       "</div>"
      ],
      "text/plain": [
       "       CAMEO_DEU_2015 CAMEO_DEUG_2015 CAMEO_INTL_2015  \\\n",
       "0                 NaN             NaN             NaN   \n",
       "1                  8A               8              51   \n",
       "2                  4C               4              24   \n",
       "3                  2A               2              12   \n",
       "4                  6B               6              43   \n",
       "...               ...             ...             ...   \n",
       "891216             7A               7              41   \n",
       "891217             9D               9              51   \n",
       "891218             4C               4              24   \n",
       "891219             9D               9              51   \n",
       "891220             6B               6              43   \n",
       "\n",
       "       D19_LETZTER_KAUF_BRANCHE        EINGEFUEGT_AM OST_WEST_KZ  \n",
       "0                           NaN                  NaN         NaN  \n",
       "1                           NaN  1992-02-10 00:00:00           W  \n",
       "2                 D19_UNBEKANNT  1992-02-12 00:00:00           W  \n",
       "3                 D19_UNBEKANNT  1997-04-21 00:00:00           W  \n",
       "4                    D19_SCHUHE  1992-02-12 00:00:00           W  \n",
       "...                         ...                  ...         ...  \n",
       "891216            D19_HAUS_DEKO  1992-02-10 00:00:00           W  \n",
       "891217            D19_UNBEKANNT  1992-02-10 00:00:00           W  \n",
       "891218       D19_BEKLEIDUNG_GEH  1992-02-10 00:00:00           W  \n",
       "891219            D19_UNBEKANNT  1992-02-12 00:00:00           W  \n",
       "891220                      NaN  1992-02-10 00:00:00           W  \n",
       "\n",
       "[891221 rows x 6 columns]"
      ]
     },
     "execution_count": 36,
     "metadata": {},
     "output_type": "execute_result"
    }
   ],
   "source": [
    "# Looking into categorical data\n",
    "\n",
    "azdias_clean.select_dtypes('object')"
   ]
  },
  {
   "cell_type": "markdown",
   "metadata": {},
   "source": [
    "In the first two parts of this sub-step, you will perform an investigation of the categorical and mixed-type features and make a decision on each of them, whether you will keep, drop, or re-encode each. Then, in the last part, you will create a new data frame with only the selected and engineered columns.\n",
    "\n",
    "Data wrangling is often the trickiest part of the data analysis process, and there's a lot of it to be done here. But stick with it: once you're done with this step, you'll be ready to get to the machine learning parts of the project!"
   ]
  },
  {
   "cell_type": "markdown",
   "metadata": {},
   "source": [
    "### Part 0.2. Writing a cleaning function\n",
    "\n",
    "This function contains all pre-processing steps, and yields clean data sets, ready for analysis:\n",
    "* Replace \"Unknown\" Values with NaN\n",
    "* Removes Columns with at least 20% NaN\n",
    "* Removes Rows with at least 10% NaN\n",
    "* Replaces Categorical Data with Dummy Variables"
   ]
  },
  {
   "cell_type": "code",
   "execution_count": 4,
   "metadata": {
    "collapsed": true
   },
   "outputs": [
    {
     "name": "stdout",
     "output_type": "stream",
     "text": [
      "Arvato Customers\n",
      "Number of rows: 191652\n",
      "Number of cols: 369\n",
      "      LNR  AGER_TYP  AKT_DAT_KL  ALTER_HH  ALTER_KIND1  ALTER_KIND2  \\\n",
      "0    9626         2         1.0      10.0          NaN          NaN   \n",
      "1    9628        -1         9.0      11.0          NaN          NaN   \n",
      "2  143872        -1         1.0       6.0          NaN          NaN   \n",
      "3  143873         1         1.0       8.0          NaN          NaN   \n",
      "4  143874        -1         1.0      20.0          NaN          NaN   \n",
      "\n",
      "   ALTER_KIND3  ALTER_KIND4  ALTERSKATEGORIE_FEIN  ANZ_HAUSHALTE_AKTIV  \\\n",
      "0          NaN          NaN                  10.0                  1.0   \n",
      "1          NaN          NaN                   NaN                  NaN   \n",
      "2          NaN          NaN                   0.0                  1.0   \n",
      "3          NaN          NaN                   8.0                  0.0   \n",
      "4          NaN          NaN                  14.0                  7.0   \n",
      "\n",
      "          ...           VK_ZG11  W_KEIT_KIND_HH  WOHNDAUER_2008  WOHNLAGE  \\\n",
      "0         ...               2.0             6.0             9.0       7.0   \n",
      "1         ...               3.0             0.0             9.0       NaN   \n",
      "2         ...              11.0             6.0             9.0       2.0   \n",
      "3         ...               2.0             NaN             9.0       7.0   \n",
      "4         ...               4.0             2.0             9.0       3.0   \n",
      "\n",
      "   ZABEOTYP      PRODUCT_GROUP  CUSTOMER_GROUP ONLINE_PURCHASE ANREDE_KZ  \\\n",
      "0         3  COSMETIC_AND_FOOD     MULTI_BUYER               0         1   \n",
      "1         3               FOOD    SINGLE_BUYER               0         1   \n",
      "2         3  COSMETIC_AND_FOOD     MULTI_BUYER               0         2   \n",
      "3         1           COSMETIC     MULTI_BUYER               0         1   \n",
      "4         1               FOOD     MULTI_BUYER               0         1   \n",
      "\n",
      "  ALTERSKATEGORIE_GROB  \n",
      "0                    4  \n",
      "1                    4  \n",
      "2                    4  \n",
      "3                    4  \n",
      "4                    3  \n",
      "\n",
      "[5 rows x 369 columns]\n"
     ]
    }
   ],
   "source": [
    "# exploring the customers' dataset\n",
    "\n",
    "c_rows, c_cols = customers.shape\n",
    "print(\"Arvato Customers\")\n",
    "print(\"Number of rows: {}\".format(c_rows))\n",
    "print(\"Number of cols: {}\".format(c_cols))\n",
    "print(customers.head())"
   ]
  },
  {
   "cell_type": "code",
   "execution_count": null,
   "metadata": {
    "collapsed": true
   },
   "outputs": [],
   "source": []
  },
  {
   "cell_type": "markdown",
   "metadata": {},
   "source": [
    "## Part 1: Customer Segmentation Report\n",
    "\n",
    "The main bulk of your analysis will come in this part of the project. Here, you should use unsupervised learning techniques to describe the relationship between the demographics of the company's existing customers and the general population of Germany. By the end of this part, you should be able to describe parts of the general population that are more likely to be part of the mail-order company's main customer base, and which parts of the general population are less so."
   ]
  },
  {
   "cell_type": "code",
   "execution_count": null,
   "metadata": {
    "collapsed": true
   },
   "outputs": [],
   "source": []
  },
  {
   "cell_type": "markdown",
   "metadata": {},
   "source": [
    "## Part 2: Supervised Learning Model\n",
    "\n",
    "Now that you've found which parts of the population are more likely to be customers of the mail-order company, it's time to build a prediction model. Each of the rows in the \"MAILOUT\" data files represents an individual that was targeted for a mailout campaign. Ideally, we should be able to use the demographic information from each individual to decide whether or not it will be worth it to include that person in the campaign.\n",
    "\n",
    "The \"MAILOUT\" data has been split into two approximately equal parts, each with almost 43 000 data rows. In this part, you can verify your model with the \"TRAIN\" partition, which includes a column, \"RESPONSE\", that states whether or not a person became a customer of the company following the campaign. In the next part, you'll need to create predictions on the \"TEST\" partition, where the \"RESPONSE\" column has been withheld."
   ]
  },
  {
   "cell_type": "code",
   "execution_count": null,
   "metadata": {
    "collapsed": true
   },
   "outputs": [],
   "source": [
    "mailout_train = pd.read_csv('../../data/Term2/capstone/arvato_data/Udacity_MAILOUT_052018_TRAIN.csv', sep=';')"
   ]
  },
  {
   "cell_type": "code",
   "execution_count": null,
   "metadata": {
    "collapsed": true
   },
   "outputs": [],
   "source": []
  },
  {
   "cell_type": "markdown",
   "metadata": {},
   "source": [
    "## Part 3: Kaggle Competition\n",
    "\n",
    "Now that you've created a model to predict which individuals are most likely to respond to a mailout campaign, it's time to test that model in competition through Kaggle. If you click on the link [here](http://www.kaggle.com/t/21e6d45d4c574c7fa2d868f0e8c83140), you'll be taken to the competition page where, if you have a Kaggle account, you can enter. If you're one of the top performers, you may have the chance to be contacted by a hiring manager from Arvato or Bertelsmann for an interview!\n",
    "\n",
    "Your entry to the competition should be a CSV file with two columns. The first column should be a copy of \"LNR\", which acts as an ID number for each individual in the \"TEST\" partition. The second column, \"RESPONSE\", should be some measure of how likely each individual became a customer – this might not be a straightforward probability. As you should have found in Part 2, there is a large output class imbalance, where most individuals did not respond to the mailout. Thus, predicting individual classes and using accuracy does not seem to be an appropriate performance evaluation method. Instead, the competition will be using AUC to evaluate performance. The exact values of the \"RESPONSE\" column do not matter as much: only that the higher values try to capture as many of the actual customers as possible, early in the ROC curve sweep."
   ]
  },
  {
   "cell_type": "code",
   "execution_count": null,
   "metadata": {
    "collapsed": true
   },
   "outputs": [],
   "source": [
    "mailout_test = pd.read_csv('../../data/Term2/capstone/arvato_data/Udacity_MAILOUT_052018_TEST.csv', sep=';')"
   ]
  },
  {
   "cell_type": "code",
   "execution_count": null,
   "metadata": {
    "collapsed": true
   },
   "outputs": [],
   "source": []
  }
 ],
 "metadata": {
  "kernelspec": {
   "display_name": "Python 3",
   "language": "python",
   "name": "python3"
  },
  "language_info": {
   "codemirror_mode": {
    "name": "ipython",
    "version": 3
   },
   "file_extension": ".py",
   "mimetype": "text/x-python",
   "name": "python",
   "nbconvert_exporter": "python",
   "pygments_lexer": "ipython3",
   "version": "3.7.4"
  }
 },
 "nbformat": 4,
 "nbformat_minor": 2
}
