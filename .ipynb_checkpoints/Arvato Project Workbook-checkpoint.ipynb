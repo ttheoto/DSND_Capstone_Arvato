{
 "cells": [
  {
   "cell_type": "markdown",
   "metadata": {},
   "source": [
    "# Capstone Project: Create a Customer Segmentation Report for Arvato Financial Services\n",
    "\n",
    "In this project, I will analyze demographics data for customers of a mail-order sales company in Germany, comparing it against demographics information for the general population. I'll use unsupervised learning techniques to perform customer segmentation, identifying the parts of the population that best describe the core customer base of the company. Then, I'll apply what I've learned on a third dataset with demographics information for targets of a marketing campaign for the company, and use a model to predict which individuals are most likely to convert into becoming customers for the company. The data that I will use has been provided by Udacity's partners at Bertelsmann Arvato Analytics, and represents a real-life data science task."
   ]
  },
  {
   "cell_type": "code",
   "execution_count": 2,
   "metadata": {},
   "outputs": [],
   "source": [
    "# import libraries here; add more as necessary\n",
    "import numpy as np\n",
    "import pandas as pd\n",
    "import matplotlib.pyplot as plt\n",
    "import seaborn as sns\n",
    "import operator\n",
    "import time\n",
    "import random\n",
    "import pickle\n",
    "\n",
    "from sklearn.impute import SimpleImputer\n",
    "from sklearn.preprocessing import StandardScaler\n",
    "from sklearn.cluster import KMeans\n",
    "from sklearn.decomposition import PCA \n",
    "from xgboost import XGBClassifier, XGBRegressor\n",
    "from imblearn.over_sampling import SMOTE\n",
    "from sklearn.model_selection import train_test_split, cross_val_score, GridSearchCV\n",
    "from sklearn.metrics import f1_score, accuracy_score, confusion_matrix, roc_auc_score, plot_confusion_matrix\n",
    "\n",
    "# magic word for producing visualizations in notebook\n",
    "%matplotlib inline"
   ]
  },
  {
   "cell_type": "markdown",
   "metadata": {},
   "source": [
    "## Part 0: Get to Know the Data"
   ]
  },
  {
   "cell_type": "code",
   "execution_count": 3,
   "metadata": {},
   "outputs": [
    {
     "name": "stderr",
     "output_type": "stream",
     "text": [
      "C:\\Users\\Theoto Tatiana\\AppData\\Local\\Continuum\\anaconda3\\lib\\site-packages\\IPython\\core\\interactiveshell.py:3058: DtypeWarning: Columns (18,19) have mixed types. Specify dtype option on import or set low_memory=False.\n",
      "  interactivity=interactivity, compiler=compiler, result=result)\n"
     ]
    }
   ],
   "source": [
    "# load in the data - I saved locally with \",\" as a separator\n",
    "# please change to \";\" for the original dataset; adapt path as needed!\n",
    "\n",
    "try:\n",
    "    azdias = pd.read_csv('Udacity_AZDIAS_052018.csv', sep=',')\n",
    "    customers = pd.read_csv('Udacity_CUSTOMERS_052018.csv', sep=',')\n",
    "except:\n",
    "    print(\"You do not have access to the files.\")"
   ]
  },
  {
   "cell_type": "code",
   "execution_count": 4,
   "metadata": {},
   "outputs": [],
   "source": [
    "# read feature information; adapt path as needed\n",
    "try:\n",
    "    feat_top = pd.read_excel('DIAS Information Levels - Attributes 2017.xlsx')\n",
    "    feat_det = pd.read_excel('DIAS Attributes - Values 2017.xlsx')\n",
    "    feat_sum = pd.read_csv('DIAS_Attributes_Summary_DSND1.csv')\n",
    "except:\n",
    "    print(\"You do not have access to the files.\")"
   ]
  },
  {
   "cell_type": "markdown",
   "metadata": {},
   "source": [
    "### Part 0.0: Understanding feature information\n",
    "\n",
    "The provided Excel Data seem to contain important information about the values of each feature - notably, values that correspond to \"unknown\" data."
   ]
  },
  {
   "cell_type": "code",
   "execution_count": 5,
   "metadata": {},
   "outputs": [
    {
     "name": "stdout",
     "output_type": "stream",
     "text": [
      "Detailed mapping of data values for each feature\n",
      "Number of rows: 2258\n",
      "Number of cols: 5\n",
      "   Unnamed: 0 Attribute         Description Value                     Meaning\n",
      "0         NaN  AGER_TYP  best-ager typology    -1                     unknown\n",
      "1         NaN       NaN                 NaN     0  no classification possible\n",
      "2         NaN       NaN                 NaN     1             passive elderly\n",
      "3         NaN       NaN                 NaN     2            cultural elderly\n",
      "4         NaN       NaN                 NaN     3   experience-driven elderly\n"
     ]
    }
   ],
   "source": [
    "f_rows, f_cols = feat_det.shape\n",
    "print(\"Detailed mapping of data values for each feature\")\n",
    "print(\"Number of rows: {}\".format(f_rows))\n",
    "print(\"Number of cols: {}\".format(f_cols))\n",
    "print(feat_det.head())"
   ]
  },
  {
   "cell_type": "code",
   "execution_count": 6,
   "metadata": {},
   "outputs": [],
   "source": [
    "# Using forward fill to eliminate NaNs from Attribute Column\n",
    "feat_det['Attribute'].ffill(inplace = True)"
   ]
  },
  {
   "cell_type": "code",
   "execution_count": 7,
   "metadata": {},
   "outputs": [
    {
     "name": "stdout",
     "output_type": "stream",
     "text": [
      "      Unnamed: 0        Attribute Description Value Meaning\n",
      "1906         NaN  LP_FAMILIE_GROB         NaN     4     NaN\n",
      "1907         NaN  LP_FAMILIE_GROB         NaN     5     NaN\n",
      "1909         NaN  LP_FAMILIE_GROB         NaN     7     NaN\n",
      "1910         NaN  LP_FAMILIE_GROB         NaN     8     NaN\n",
      "1912         NaN  LP_FAMILIE_GROB         NaN    10     NaN\n",
      "1913         NaN  LP_FAMILIE_GROB         NaN    11     NaN\n",
      "1977         NaN   LP_STATUS_GROB         NaN     2     NaN\n",
      "1979         NaN   LP_STATUS_GROB         NaN     4     NaN\n",
      "1980         NaN   LP_STATUS_GROB         NaN     5     NaN\n",
      "1982         NaN   LP_STATUS_GROB         NaN     7     NaN\n",
      "1984         NaN   LP_STATUS_GROB         NaN     9     NaN\n"
     ]
    }
   ],
   "source": [
    "# Correcting for \"GROB\" Categories - formatation error leads to \"NaN\" Values\n",
    "\n",
    "print(feat_det[feat_det['Meaning'].isna() == True])\n",
    "feat_det['Meaning'].ffill(inplace = True)"
   ]
  },
  {
   "cell_type": "code",
   "execution_count": 8,
   "metadata": {},
   "outputs": [
    {
     "name": "stdout",
     "output_type": "stream",
     "text": [
      "True\n"
     ]
    }
   ],
   "source": [
    "# Creating a new data frame with \"unknown\" values - which are equivalent to NaN, but receive a number\n",
    "miss_val = feat_det[(feat_det['Meaning'] == 'unknown')][['Attribute', 'Value']].reset_index(drop=True)\n",
    "\n",
    "# Checking if there are any duplicated Attributes, that would need to be consolidated\n",
    "# True if no extra steps are required\n",
    "print(eval('miss_val[\\'Attribute\\'].nunique()==miss_val.shape[0]'))"
   ]
  },
  {
   "cell_type": "code",
   "execution_count": 9,
   "metadata": {},
   "outputs": [],
   "source": [
    "# Transforming 'Value' Strings into lists of integers\n",
    "\n",
    "def split_transform(x):\n",
    "    '''\n",
    "    INPUT:\n",
    "        x - (string) format '[a, b]' to be transformed into a list of integers\n",
    "    OUTPUT:\n",
    "        [x] - (list) list of integers\n",
    "    '''\n",
    "    try:\n",
    "        a_list = x.split(',')\n",
    "        map_object = map(int, a_list)\n",
    "        list_ints = list(map_object)\n",
    "        return list_ints\n",
    "    except:\n",
    "        return [x]\n",
    "\n",
    "miss_val['Value'] = miss_val['Value'].apply(split_transform)"
   ]
  },
  {
   "cell_type": "markdown",
   "metadata": {},
   "source": [
    "### Part 0.1: General Population Dataset\n",
    "\n",
    "The goal of this section is to understand the \"Azdias\" dataset, and provide information for the data cleaning."
   ]
  },
  {
   "cell_type": "code",
   "execution_count": 10,
   "metadata": {},
   "outputs": [
    {
     "name": "stdout",
     "output_type": "stream",
     "text": [
      "General Population at Large\n",
      "Number of rows: 891221\n",
      "Number of cols: 366\n",
      "      LNR  AGER_TYP  AKT_DAT_KL  ALTER_HH  ALTER_KIND1  ALTER_KIND2  \\\n",
      "0  910215        -1         NaN       NaN          NaN          NaN   \n",
      "1  910220        -1         9.0       0.0          NaN          NaN   \n",
      "2  910225        -1         9.0      17.0          NaN          NaN   \n",
      "3  910226         2         1.0      13.0          NaN          NaN   \n",
      "4  910241        -1         1.0      20.0          NaN          NaN   \n",
      "\n",
      "   ALTER_KIND3  ALTER_KIND4  ALTERSKATEGORIE_FEIN  ANZ_HAUSHALTE_AKTIV  ...  \\\n",
      "0          NaN          NaN                   NaN                  NaN  ...   \n",
      "1          NaN          NaN                  21.0                 11.0  ...   \n",
      "2          NaN          NaN                  17.0                 10.0  ...   \n",
      "3          NaN          NaN                  13.0                  1.0  ...   \n",
      "4          NaN          NaN                  14.0                  3.0  ...   \n",
      "\n",
      "   VHN  VK_DHT4A  VK_DISTANZ  VK_ZG11  W_KEIT_KIND_HH  WOHNDAUER_2008  \\\n",
      "0  NaN       NaN         NaN      NaN             NaN             NaN   \n",
      "1  4.0       8.0        11.0     10.0             3.0             9.0   \n",
      "2  2.0       9.0         9.0      6.0             3.0             9.0   \n",
      "3  0.0       7.0        10.0     11.0             NaN             9.0   \n",
      "4  2.0       3.0         5.0      4.0             2.0             9.0   \n",
      "\n",
      "   WOHNLAGE ZABEOTYP ANREDE_KZ ALTERSKATEGORIE_GROB  \n",
      "0       NaN        3         1                    2  \n",
      "1       4.0        5         2                    1  \n",
      "2       2.0        5         2                    3  \n",
      "3       7.0        3         2                    4  \n",
      "4       3.0        4         1                    3  \n",
      "\n",
      "[5 rows x 366 columns]\n"
     ]
    }
   ],
   "source": [
    "# exploring the general population dataset\n",
    "\n",
    "a_rows, a_cols = azdias.shape\n",
    "print(\"General Population at Large\")\n",
    "print(\"Number of rows: {}\".format(a_rows))\n",
    "print(\"Number of cols: {}\".format(a_cols))\n",
    "print(azdias.head())"
   ]
  },
  {
   "cell_type": "markdown",
   "metadata": {},
   "source": [
    "#### Replacing \"Unknown\" Values"
   ]
  },
  {
   "cell_type": "code",
   "execution_count": 11,
   "metadata": {},
   "outputs": [],
   "source": [
    "# creating a copy of dataset to perform cleaning \n",
    "azdias_clean = azdias.copy()"
   ]
  },
  {
   "cell_type": "code",
   "execution_count": 12,
   "metadata": {},
   "outputs": [],
   "source": [
    "# Replacing \"unknown\" values with NaN \n",
    "for index in miss_val.index:\n",
    "    current_atr = miss_val.loc[index]['Attribute']\n",
    "    current_list = miss_val.loc[index]['Value']\n",
    "    for value in current_list:\n",
    "        try: # some features are not present in azdias\n",
    "            azdias_clean.loc[:, current_atr].replace(value, np.nan, inplace = True)\n",
    "        except:\n",
    "            continue"
   ]
  },
  {
   "cell_type": "code",
   "execution_count": 13,
   "metadata": {},
   "outputs": [
    {
     "name": "stdout",
     "output_type": "stream",
     "text": [
      "Column name: KBA13_KW_90\n",
      "Missing Values: [list([-1])]\n",
      "azdias_original： \n",
      " 3.0    277407\n",
      "2.0    181685\n",
      "0.0    133326\n",
      "NaN    105800\n",
      "4.0     82747\n",
      "5.0     58683\n",
      "1.0     51573\n",
      "Name: KBA13_KW_90, dtype: int64 \n",
      "\n",
      "azdias_cleaned： \n",
      " 3.0    277407\n",
      "2.0    181685\n",
      "0.0    133326\n",
      "NaN    105800\n",
      "4.0     82747\n",
      "5.0     58683\n",
      "1.0     51573\n",
      "Name: KBA13_KW_90, dtype: int64 \n",
      " \n",
      "\n",
      "Column name: KBA13_BJ_2004\n",
      "Missing Values: [list([-1])]\n",
      "azdias_original： \n",
      " 3.0    364930\n",
      "2.0    166228\n",
      "4.0    157705\n",
      "NaN    105800\n",
      "1.0     49522\n",
      "5.0     47036\n",
      "Name: KBA13_BJ_2004, dtype: int64 \n",
      "\n",
      "azdias_cleaned： \n",
      " 3.0    364930\n",
      "2.0    166228\n",
      "4.0    157705\n",
      "NaN    105800\n",
      "1.0     49522\n",
      "5.0     47036\n",
      "Name: KBA13_BJ_2004, dtype: int64 \n",
      " \n",
      "\n",
      "Column name: KBA05_KW3\n",
      "Missing Values: [list([-1, 9])]\n",
      "azdias_original： \n",
      " 1.0    233518\n",
      "0.0    206843\n",
      "2.0    160776\n",
      "NaN    133324\n",
      "3.0     80358\n",
      "4.0     61616\n",
      "9.0     14786\n",
      "Name: KBA05_KW3, dtype: int64 \n",
      "\n",
      "azdias_cleaned： \n",
      " 1.0    233518\n",
      "0.0    206843\n",
      "2.0    160776\n",
      "NaN    148110\n",
      "3.0     80358\n",
      "4.0     61616\n",
      "Name: KBA05_KW3, dtype: int64 \n",
      " \n",
      "\n",
      "Column name: KBA13_HERST_FORD_OPEL\n",
      "Missing Values: [list([-1])]\n",
      "azdias_original： \n",
      " 3.0    326805\n",
      "2.0    164003\n",
      "4.0    154044\n",
      "NaN    105800\n",
      "1.0     74276\n",
      "5.0     66293\n",
      "Name: KBA13_HERST_FORD_OPEL, dtype: int64 \n",
      "\n",
      "azdias_cleaned： \n",
      " 3.0    326805\n",
      "2.0    164003\n",
      "4.0    154044\n",
      "NaN    105800\n",
      "1.0     74276\n",
      "5.0     66293\n",
      "Name: KBA13_HERST_FORD_OPEL, dtype: int64 \n",
      " \n",
      "\n",
      "Column name: KBA05_MOTOR\n",
      "Missing Values: [list([-1, 9])]\n",
      "azdias_original： \n",
      " 3.0    289858\n",
      "2.0    222119\n",
      "NaN    133324\n",
      "1.0    121085\n",
      "4.0    110049\n",
      "9.0     14786\n",
      "Name: KBA05_MOTOR, dtype: int64 \n",
      "\n",
      "azdias_cleaned： \n",
      " 3.0    289858\n",
      "2.0    222119\n",
      "NaN    148110\n",
      "1.0    121085\n",
      "4.0    110049\n",
      "Name: KBA05_MOTOR, dtype: int64 \n",
      " \n",
      "\n"
     ]
    }
   ],
   "source": [
    "# Checking for random columns\n",
    "# It seems to work!\n",
    "\n",
    "for column in random.sample(set(miss_val['Attribute'].unique()),5):\n",
    "    try:\n",
    "        print('Column name:', column)\n",
    "        print('Missing Values:', miss_val[miss_val['Attribute'] == column]['Value'].values)\n",
    "        print('azdias_original： \\n', azdias[column].value_counts(dropna=False), '\\n')\n",
    "        print('azdias_cleaned： \\n', azdias_clean[column].value_counts(dropna=False), '\\n \\n')\n",
    "    except:\n",
    "        pass"
   ]
  },
  {
   "cell_type": "markdown",
   "metadata": {},
   "source": [
    "#### Dealing with Missing Values - Columns"
   ]
  },
  {
   "cell_type": "code",
   "execution_count": 14,
   "metadata": {},
   "outputs": [],
   "source": [
    "# Identifying the proportion of NaN values\n",
    "\n",
    "nan_prop = azdias_clean.isna().mean().round(4) * 100"
   ]
  },
  {
   "cell_type": "code",
   "execution_count": 15,
   "metadata": {},
   "outputs": [
    {
     "data": {
      "text/plain": [
       "0.00      87\n",
       "0.54      19\n",
       "2.06       1\n",
       "5.75       1\n",
       "8.25      10\n",
       "8.30       1\n",
       "8.52       3\n",
       "10.45     13\n",
       "10.52      3\n",
       "10.88      1\n",
       "10.91      5\n",
       "10.93      1\n",
       "10.97      2\n",
       "11.11      3\n",
       "11.87    116\n",
       "12.07      1\n",
       "12.14      1\n",
       "12.15      1\n",
       "12.35      1\n",
       "12.48      3\n",
       "13.07      7\n",
       "13.60      1\n",
       "14.96      6\n",
       "16.44      1\n",
       "16.52      1\n",
       "16.61      1\n",
       "16.62     55\n",
       "17.74      2\n",
       "28.85      9\n",
       "29.50      1\n",
       "53.47      1\n",
       "65.60      1\n",
       "73.40      1\n",
       "76.02      1\n",
       "90.90      1\n",
       "96.69      1\n",
       "99.31      1\n",
       "99.76      1\n",
       "99.86      1\n",
       "dtype: int64"
      ]
     },
     "execution_count": 15,
     "metadata": {},
     "output_type": "execute_result"
    }
   ],
   "source": [
    "# Sorting and counting values \n",
    "\n",
    "nan_prop.value_counts().sort_index()"
   ]
  },
  {
   "cell_type": "code",
   "execution_count": 16,
   "metadata": {},
   "outputs": [
    {
     "name": "stdout",
     "output_type": "stream",
     "text": [
      "87 (23.8%) columns have no missing values\n",
      "279 (76.2%) columns have at least one missing value\n"
     ]
    }
   ],
   "source": [
    "# Analyzing the results\n",
    "clean_cols = len(nan_prop[nan_prop == 0]) \n",
    "nan_cols = nan_prop.shape[0] - clean_cols\n",
    "\n",
    "print('{} ({:0.1f}%) columns have no missing values'.format(clean_cols, 100*clean_cols/nan_prop.shape[0]))\n",
    "print('{} ({:0.1f}%) columns have at least one missing value'.format(nan_cols, 100*nan_cols/nan_prop.shape[0]))"
   ]
  },
  {
   "cell_type": "code",
   "execution_count": 17,
   "metadata": {},
   "outputs": [
    {
     "data": {
      "image/png": "[encoded data removed]",
      "text/plain": [
       "<Figure size 1080x720 with 1 Axes>"
      ]
     },
     "metadata": {
      "needs_background": "light"
     },
     "output_type": "display_data"
    }
   ],
   "source": [
    "# Distribution of missing values\n",
    "\n",
    "plt.figure(figsize=(15,10));\n",
    "plt.hist(nan_prop.values, bins=20);\n",
    "plt.title('Distribution of Missing Values - Columns (Percentage)')\n",
    "plt.xlabel('Percentage of missing values (%)');\n",
    "plt.ylabel('Column Count');"
   ]
  },
  {
   "cell_type": "code",
   "execution_count": 18,
   "metadata": {},
   "outputs": [
    {
     "name": "stdout",
     "output_type": "stream",
     "text": [
      "347 (94.8%) columns have less than 20% missing values\n",
      "19 (5.2%) columns have at least 20% of its values missing\n"
     ]
    }
   ],
   "source": [
    "# Analyzing the results (>=20% missing values are clearly outliers)\n",
    "clean_cols = len(nan_prop[nan_prop < 20]) \n",
    "nan_cols = nan_prop.shape[0] - clean_cols\n",
    "\n",
    "print('{} ({:0.1f}%) columns have less than 20% missing values'.format(clean_cols, 100*clean_cols/nan_prop.shape[0]))\n",
    "print('{} ({:0.1f}%) columns have at least 20% of its values missing'.format(nan_cols, 100*nan_cols/nan_prop.shape[0]))"
   ]
  },
  {
   "cell_type": "code",
   "execution_count": 19,
   "metadata": {},
   "outputs": [
    {
     "data": {
      "image/png": "[encoded data removed]",
      "text/plain": [
       "<Figure size 1080x720 with 1 Axes>"
      ]
     },
     "metadata": {
      "needs_background": "light"
     },
     "output_type": "display_data"
    }
   ],
   "source": [
    "# Visualizing the percentage of NaNs\n",
    "\n",
    "w_nan_prop = (nan_prop[nan_prop > 0].sort_values(ascending=False))[:20]\n",
    "\n",
    "w_nan_prop.plot.bar(figsize=(15,10), facecolor ='b')\n",
    "plt.title('Top 20 Percentage of Missing Values')\n",
    "plt.xlabel('Column name with missing values')\n",
    "plt.ylabel('Percentage of missing values')\n",
    "plt.show()"
   ]
  },
  {
   "cell_type": "markdown",
   "metadata": {},
   "source": [
    "From the chart above, we notice some columns with more than 1/5 of its values missing. Figure 1 shows that those are clearly the outliers - 94.8% of the columns (347) have less than 20% of its values missing. To reduce the dataset's complexity, I will choose to drop those 19 columns in the data cleaning step."
   ]
  },
  {
   "cell_type": "code",
   "execution_count": 20,
   "metadata": {},
   "outputs": [],
   "source": [
    "azdias_col_drop = list(nan_prop[nan_prop >= 20].index)\n",
    "azdias_col_keep = list(nan_prop[nan_prop < 20].index)\n",
    "\n",
    "azdias_clean = azdias_clean[azdias_col_keep]"
   ]
  },
  {
   "cell_type": "markdown",
   "metadata": {},
   "source": [
    "#### Dealing with Missing Values - Rows"
   ]
  },
  {
   "cell_type": "code",
   "execution_count": 21,
   "metadata": {},
   "outputs": [],
   "source": [
    "# Missing Values in rows\n",
    "\n",
    "na_rows_sum = azdias_clean.isna().sum(axis=1)"
   ]
  },
  {
   "cell_type": "code",
   "execution_count": 22,
   "metadata": {},
   "outputs": [
    {
     "data": {
      "image/png": "[encoded data removed]",
      "text/plain": [
       "<Figure size 1080x720 with 1 Axes>"
      ]
     },
     "metadata": {
      "needs_background": "light"
     },
     "output_type": "display_data"
    }
   ],
   "source": [
    "# Distribution of missing values in percentual values\n",
    "\n",
    "prop_nan_rows = 100*na_rows_sum.values/len(azdias_clean.columns)\n",
    "plt.figure(figsize=(15,10));\n",
    "plt.hist(prop_nan_rows, bins=100);\n",
    "plt.title('Distribution of Missing Values - Rows (Percentage)')\n",
    "plt.xlabel('Percentage of missing values (%)');\n",
    "plt.ylabel('Row Count');"
   ]
  },
  {
   "cell_type": "code",
   "execution_count": 23,
   "metadata": {},
   "outputs": [
    {
     "name": "stdout",
     "output_type": "stream",
     "text": [
      "737287 (82.7%) rows have less than 10% missing values\n",
      "153934 (17.3%) rows have at least 10% of its values missing\n"
     ]
    }
   ],
   "source": [
    "# Analyzing the results (>=10% missing values are clearly outliers)\n",
    "clean_rows = len(prop_nan_rows[prop_nan_rows < 10]) \n",
    "nan_rows = prop_nan_rows.shape[0] - clean_rows\n",
    "\n",
    "print('{} ({:0.1f}%) rows have less than 10% missing values'.format(clean_rows, 100*clean_rows/prop_nan_rows.shape[0]))\n",
    "print('{} ({:0.1f}%) rows have at least 10% of its values missing'.format(nan_rows, 100*nan_rows/prop_nan_rows.shape[0]))"
   ]
  },
  {
   "cell_type": "markdown",
   "metadata": {},
   "source": [
    "As Figure 3 and the analysis above show, removing rows with at least 10% of its values missing will still retain 82.7% of the values. To increase the informative value and meaningfullness of the dataset, I will choose to remove those rows in the data cleaning step."
   ]
  },
  {
   "cell_type": "code",
   "execution_count": 24,
   "metadata": {},
   "outputs": [],
   "source": [
    "azdias_row_drop = list(na_rows_sum[prop_nan_rows >= 10].index)\n",
    "azdias_row_keep = list(na_rows_sum[prop_nan_rows < 10].index)\n",
    "\n",
    "azdias_clean = azdias_clean.drop(azdias_row_drop)"
   ]
  },
  {
   "cell_type": "markdown",
   "metadata": {},
   "source": [
    "#### Analyzing and selecting features\n",
    "\n",
    "This section uses the information provided in the Data Science Nanodegree Term 1, in order to identify the true data types of the data set (using the file *DIAS_Attributes_Summary.csv*). However, please note that the provided information is not complete.\n",
    "\n",
    "Since the unsupervised learning techniques to be used will only work on data that is encoded numerically, I will need to make a few encoding changes or additional assumptions to be able to make progress. In addition, while almost all of the values in the dataset are encoded using numbers, not all of them represent numeric values. There are five types to be found:\n",
    "\n",
    "1. Numeric\n",
    "2. Interval\n",
    "3. Ordinal\n",
    "4. Mixed\n",
    "5. Categorical\n",
    "\n",
    "I will keep the numeric and interval data without changes.\n",
    "Most of the variables in the dataset are ordinal in nature. While ordinal values may technically be non-linear in spacing, I made the simplifying assumption that the ordinal variables can be treated as being interval in nature (that is, kept without any changes).\n",
    "Special handling will be necessary for the remaining two variable types: categorical, and 'mixed'."
   ]
  },
  {
   "cell_type": "code",
   "execution_count": 25,
   "metadata": {},
   "outputs": [
    {
     "data": {
      "text/plain": [
       "float64    255\n",
       "int64       87\n",
       "object       5\n",
       "dtype: int64"
      ]
     },
     "execution_count": 25,
     "metadata": {},
     "output_type": "execute_result"
    }
   ],
   "source": [
    "# Analyzing data types and their frequency - majority is stored as a number\n",
    "\n",
    "azdias_clean.dtypes.value_counts()"
   ]
  },
  {
   "cell_type": "code",
   "execution_count": 26,
   "metadata": {},
   "outputs": [
    {
     "data": {
      "text/plain": [
       "ordinal        286\n",
       "categorical     22\n",
       "numeric          8\n",
       "mixed            7\n",
       "interval         1\n",
       "Name: type, dtype: int64"
      ]
     },
     "execution_count": 26,
     "metadata": {},
     "output_type": "execute_result"
    }
   ],
   "source": [
    "# the feature summary file from DSND1 comes in handy to identify data types\n",
    "# Interestingly enough, the majority of categorical data is store as a number\n",
    "\n",
    "feat_sum['type'].value_counts()"
   ]
  },
  {
   "cell_type": "code",
   "execution_count": 27,
   "metadata": {},
   "outputs": [
    {
     "name": "stdout",
     "output_type": "stream",
     "text": [
      "43 AZDIAS Attributes have no information on data type.\n",
      "20 Feature Summary Attributes were not found on AZDIAS.\n"
     ]
    }
   ],
   "source": [
    "# Checking if all azdias columns are present in feat_sum\n",
    "\n",
    "not_feat_sum = [col for col in azdias_clean.columns if col not in feat_sum['attribute'].values]\n",
    "not_azdias = [col for col in feat_sum['attribute'].values if col not in azdias_clean.columns]\n",
    "\n",
    "print('{} AZDIAS Attributes have no information on data type.'.format(len(not_feat_sum)))\n",
    "print('{} Feature Summary Attributes were not found on AZDIAS.'.format(len(not_azdias)))"
   ]
  },
  {
   "cell_type": "markdown",
   "metadata": {},
   "source": [
    "#### Deep Dive: Categorical Data"
   ]
  },
  {
   "cell_type": "code",
   "execution_count": 28,
   "metadata": {},
   "outputs": [
    {
     "data": {
      "text/plain": [
       "0             AGER_TYP\n",
       "2            ANREDE_KZ\n",
       "3        CJT_GESAMTTYP\n",
       "10           FINANZTYP\n",
       "12     GFK_URLAUBERTYP\n",
       "13    GREEN_AVANTGARDE\n",
       "17     LP_FAMILIE_FEIN\n",
       "18     LP_FAMILIE_GROB\n",
       "19      LP_STATUS_FEIN\n",
       "20      LP_STATUS_GROB\n",
       "21    NATIONALITAET_KZ\n",
       "38         SHOPPER_TYP\n",
       "39             SOHO_KZ\n",
       "40            TITEL_KZ\n",
       "41            VERS_TYP\n",
       "42            ZABEOTYP\n",
       "48        KK_KUNDENTYP\n",
       "49       D19_KONSUMTYP\n",
       "82         GEBAEUDETYP\n",
       "88         OST_WEST_KZ\n",
       "90     CAMEO_DEUG_2015\n",
       "91      CAMEO_DEU_2015\n",
       "Name: attribute, dtype: object"
      ]
     },
     "execution_count": 28,
     "metadata": {},
     "output_type": "execute_result"
    }
   ],
   "source": [
    "feat_sum[feat_sum['type'] == 'categorical']['attribute']"
   ]
  },
  {
   "cell_type": "code",
   "execution_count": 29,
   "metadata": {},
   "outputs": [
    {
     "name": "stdout",
     "output_type": "stream",
     "text": [
      "18 Attributes are listed as \"categorical\".\n",
      "However, they are stored in the database as follows:\n",
      "float64    11\n",
      "int64       4\n",
      "object      3\n",
      "dtype: int64\n"
     ]
    }
   ],
   "source": [
    "# First, let's take a look into categorical data\n",
    "\n",
    "# Finding 'categorical' Attributes and how they were stored\n",
    "cat_data = [col for col in feat_sum[feat_sum['type'] == 'categorical']['attribute'].values if col in azdias_clean.columns]\n",
    "\n",
    "print('{} Attributes are listed as \"categorical\".'.format(len(cat_data)))\n",
    "print('However, they are stored in the database as follows:')\n",
    "print(azdias_clean[cat_data].dtypes.value_counts())"
   ]
  },
  {
   "cell_type": "code",
   "execution_count": 30,
   "metadata": {},
   "outputs": [
    {
     "name": "stdout",
     "output_type": "stream",
     "text": [
      "OST_WEST_KZ\n",
      "W    582289\n",
      "O    154998\n",
      "Name: OST_WEST_KZ, dtype: int64 \n",
      "\n",
      "CAMEO_DEUG_2015\n",
      "8      74754\n",
      "6      58203\n",
      "9      57473\n",
      "4      55290\n",
      "8.0    54106\n",
      "2      44419\n",
      "3      44192\n",
      "6.0    42489\n",
      "9.0    41978\n",
      "7      41861\n",
      "4.0    40292\n",
      "2.0    32192\n",
      "3.0    32129\n",
      "7.0    30622\n",
      "5      28976\n",
      "5.0    20737\n",
      "1      19840\n",
      "1.0    14394\n",
      "X        284\n",
      "Name: CAMEO_DEUG_2015, dtype: int64 \n",
      "\n",
      "CAMEO_DEU_2015\n",
      "6B    54006\n",
      "8A    50776\n",
      "4C    43988\n",
      "2D    32906\n",
      "7A    32629\n",
      "3C    32565\n",
      "3D    32176\n",
      "8B    31262\n",
      "4A    30254\n",
      "8C    30147\n",
      "9D    26746\n",
      "9B    25888\n",
      "7B    22921\n",
      "9C    22919\n",
      "9A    20057\n",
      "2C    17742\n",
      "8D    16675\n",
      "6E    15598\n",
      "5D    14071\n",
      "2B    14042\n",
      "6C    13868\n",
      "2A    11921\n",
      "1D    11457\n",
      "1A    10167\n",
      "5A     9721\n",
      "5B     9691\n",
      "5C     9050\n",
      "4B     8284\n",
      "7C     8127\n",
      "4D     8051\n",
      "6A     6416\n",
      "3A     5871\n",
      "6D     5756\n",
      "3B     5709\n",
      "6F     5048\n",
      "4E     5005\n",
      "1E     4783\n",
      "7D     4431\n",
      "7E     4375\n",
      "1C     4012\n",
      "5F     3939\n",
      "9E     3841\n",
      "1B     3815\n",
      "5E     3241\n",
      "XX      284\n",
      "Name: CAMEO_DEU_2015, dtype: int64 \n",
      "\n"
     ]
    }
   ],
   "source": [
    "# Now, let's look into their values and find out where re-encoding is necessary\n",
    "\n",
    "att_to_re_encode = []\n",
    "\n",
    "for attribute in cat_data:\n",
    "    possible_values = azdias_clean[attribute].unique()\n",
    "    for value in possible_values:\n",
    "        try:\n",
    "            float(value)\n",
    "        except:\n",
    "            # attribute value is not numerical - re-encoding is needed!\n",
    "            att_to_re_encode.append(attribute)\n",
    "            break\n",
    "\n",
    "# Visualizing those attributes and their values\n",
    "for attribute in att_to_re_encode:\n",
    "    print(attribute)\n",
    "    print(azdias_clean[attribute].value_counts(), '\\n')"
   ]
  },
  {
   "cell_type": "code",
   "execution_count": 31,
   "metadata": {},
   "outputs": [],
   "source": [
    "# OST_WEST_KZ requires re-encoding.\n",
    "# I will choose 1 for \"West\", 0 for \"Ost\"\n",
    "\n",
    "azdias_clean['OST_WEST_KZ'] = azdias_clean['OST_WEST_KZ'].apply(lambda x: 1 if x == 'W' else 0)"
   ]
  },
  {
   "cell_type": "code",
   "execution_count": 32,
   "metadata": {},
   "outputs": [
    {
     "data": {
      "text/plain": [
       "8.0    128860\n",
       "6.0    100692\n",
       "9.0     99451\n",
       "4.0     95582\n",
       "2.0     76611\n",
       "3.0     76321\n",
       "7.0     72483\n",
       "5.0     49713\n",
       "1.0     34234\n",
       "nan      3340\n",
       "Name: CAMEO_DEUG_2015, dtype: int64"
      ]
     },
     "execution_count": 32,
     "metadata": {},
     "output_type": "execute_result"
    }
   ],
   "source": [
    "# CAMEO_DEUG_2015 requires re-encoding.\n",
    "# All numbers will be converted to float and then string; X will be replaced by nan\n",
    "\n",
    "azdias_clean['CAMEO_DEUG_2015'].replace('X', np.nan, inplace=True)\n",
    "azdias_clean['CAMEO_DEUG_2015'] = azdias_clean['CAMEO_DEUG_2015'].apply(float).apply(str)\n",
    "\n",
    "# check\n",
    "azdias_clean['CAMEO_DEUG_2015'].value_counts()"
   ]
  },
  {
   "cell_type": "code",
   "execution_count": 33,
   "metadata": {},
   "outputs": [
    {
     "name": "stdout",
     "output_type": "stream",
     "text": [
      "There are 46 distinct categories of the CAMEO_DEU_2015 Attribute.\n"
     ]
    }
   ],
   "source": [
    "# CAMEO_DEU_2015 has several categories. This might be harmful when creating dummy columns\n",
    "# So I will choose to drop it \n",
    "\n",
    "print('There are {} distinct categories of the CAMEO_DEU_2015 Attribute.'.format(len(azdias_clean['CAMEO_DEU_2015'].unique())))\n",
    "\n",
    "azdias_clean.drop(columns=['CAMEO_DEU_2015'], inplace=True)"
   ]
  },
  {
   "cell_type": "code",
   "execution_count": 34,
   "metadata": {},
   "outputs": [
    {
     "name": "stdout",
     "output_type": "stream",
     "text": [
      "       CAMEO_DEUG_2015 CAMEO_INTL_2015        EINGEFUEGT_AM\n",
      "1                  8.0              51  1992-02-10 00:00:00\n",
      "2                  4.0              24  1992-02-12 00:00:00\n",
      "3                  2.0              12  1997-04-21 00:00:00\n",
      "4                  6.0              43  1992-02-12 00:00:00\n",
      "5                  8.0              54  1992-02-12 00:00:00\n",
      "...                ...             ...                  ...\n",
      "891216             7.0              41  1992-02-10 00:00:00\n",
      "891217             9.0              51  1992-02-10 00:00:00\n",
      "891218             4.0              24  1992-02-10 00:00:00\n",
      "891219             9.0              51  1992-02-12 00:00:00\n",
      "891220             6.0              43  1992-02-10 00:00:00\n",
      "\n",
      "[737287 rows x 3 columns]\n"
     ]
    }
   ],
   "source": [
    "# Now, let's examine the other columns saved as \"object\"\n",
    "\n",
    "print(azdias_clean.select_dtypes('object'))\n",
    "\n",
    "# \"EIGENFUEGT_AM\" is a data stamp of (probably) the entry on the database\n",
    "# That's irrelevant to our problem, so we can drop the column\n",
    "\n",
    "azdias_clean.drop(columns=['EINGEFUEGT_AM'], inplace=True)"
   ]
  },
  {
   "cell_type": "code",
   "execution_count": 35,
   "metadata": {},
   "outputs": [
    {
     "data": {
      "text/html": [
       "<div>\n",
       "<style scoped>\n",
       "    .dataframe tbody tr th:only-of-type {\n",
       "        vertical-align: middle;\n",
       "    }\n",
       "\n",
       "    .dataframe tbody tr th {\n",
       "        vertical-align: top;\n",
       "    }\n",
       "\n",
       "    .dataframe thead th {\n",
       "        text-align: right;\n",
       "    }\n",
       "</style>\n",
       "<table border=\"1\" class=\"dataframe\">\n",
       "  <thead>\n",
       "    <tr style=\"text-align: right;\">\n",
       "      <th></th>\n",
       "      <th>Attribute</th>\n",
       "      <th>Description</th>\n",
       "    </tr>\n",
       "  </thead>\n",
       "  <tbody>\n",
       "    <tr>\n",
       "      <td>17</td>\n",
       "      <td>LP_FAMILIE_FEIN</td>\n",
       "      <td>family type fine</td>\n",
       "    </tr>\n",
       "    <tr>\n",
       "      <td>18</td>\n",
       "      <td>LP_FAMILIE_GROB</td>\n",
       "      <td>family type rough</td>\n",
       "    </tr>\n",
       "    <tr>\n",
       "      <td>19</td>\n",
       "      <td>LP_STATUS_FEIN</td>\n",
       "      <td>social status fine</td>\n",
       "    </tr>\n",
       "    <tr>\n",
       "      <td>20</td>\n",
       "      <td>LP_STATUS_GROB</td>\n",
       "      <td>social status rough</td>\n",
       "    </tr>\n",
       "  </tbody>\n",
       "</table>\n",
       "</div>"
      ],
      "text/plain": [
       "          Attribute          Description\n",
       "17  LP_FAMILIE_FEIN     family type fine\n",
       "18  LP_FAMILIE_GROB    family type rough\n",
       "19   LP_STATUS_FEIN  social status fine \n",
       "20   LP_STATUS_GROB  social status rough"
      ]
     },
     "execution_count": 35,
     "metadata": {},
     "output_type": "execute_result"
    }
   ],
   "source": [
    "# Looking at their description, \"Fein\" (Fine) and \"Grob\" (Rough) seem to convey the same data\n",
    "# For simplicity, we will keep the \"Grob\" values only\n",
    "\n",
    "azdias_clean.drop(columns=['LP_FAMILIE_FEIN', 'LP_STATUS_FEIN'], inplace=True)\n",
    "\n",
    "feat_top.loc[17:20][['Attribute', 'Description']]"
   ]
  },
  {
   "cell_type": "code",
   "execution_count": 36,
   "metadata": {},
   "outputs": [
    {
     "data": {
      "text/plain": [
       "CJT_GESAMTTYP        6\n",
       "FINANZTYP            6\n",
       "GFK_URLAUBERTYP     12\n",
       "LP_FAMILIE_GROB      6\n",
       "LP_STATUS_GROB       5\n",
       "NATIONALITAET_KZ     3\n",
       "SHOPPER_TYP          4\n",
       "ZABEOTYP             6\n",
       "GEBAEUDETYP          7\n",
       "CAMEO_DEUG_2015     10\n",
       "dtype: int64"
      ]
     },
     "execution_count": 36,
     "metadata": {},
     "output_type": "execute_result"
    }
   ],
   "source": [
    "# Finally, let's look at our categorical columns and re-encode those with multiple values:\n",
    "\n",
    "fin_cat_data = [col for col in feat_sum[feat_sum['type'] == 'categorical']['attribute'].values if col in azdias_clean.columns]\n",
    "to_encode = azdias_clean[fin_cat_data].nunique()[azdias_clean[fin_cat_data].nunique()>2]\n",
    "to_encode"
   ]
  },
  {
   "cell_type": "code",
   "execution_count": 37,
   "metadata": {},
   "outputs": [],
   "source": [
    "# Now we add the dummy columns for the above mentioned attributes\n",
    "\n",
    "azdias_dummies = pd.get_dummies(azdias_clean, columns = to_encode.index)\n",
    "azdias_dummies.drop(columns=[x for x in azdias_dummies.columns if '_nan' in x], inplace = True)"
   ]
  },
  {
   "cell_type": "markdown",
   "metadata": {},
   "source": [
    "#### Deep Dive: Mixed Data\n",
    "\n",
    "There are a handful of features that are marked as \"mixed\" in the feature summary that require special treatment in order to be included in the analysis. There are two in particular that deserve attention:\n",
    "\n",
    "* \"PRAEGENDE_JUGENDJAHRE\" combines information on three dimensions: generation by decade, movement (mainstream vs. avantgarde), and nation (east vs. west). While there aren't enough levels to disentangle east from west, you should create two new variables to capture the other two dimensions: an interval-type variable for decade, and a binary variable for movement.\n",
    "* \"CAMEO_INTL_2015\" combines information on two axes: wealth and life stage. Break up the two-digit codes by their 'tens'-place and 'ones'-place digits into two new ordinal variables (which, for the purposes of this project, is equivalent to just treating them as their raw numeric values)."
   ]
  },
  {
   "cell_type": "code",
   "execution_count": 38,
   "metadata": {},
   "outputs": [
    {
     "name": "stdout",
     "output_type": "stream",
     "text": [
      "LP_LEBENSPHASE_FEIN\n",
      "1.0     55360\n",
      "5.0     49563\n",
      "0.0     41637\n",
      "6.0     39097\n",
      "2.0     35017\n",
      "8.0     26482\n",
      "7.0     24079\n",
      "29.0    24012\n",
      "13.0    23809\n",
      "11.0    21776\n",
      "31.0    21549\n",
      "10.0    20650\n",
      "12.0    19726\n",
      "30.0    19705\n",
      "15.0    18260\n",
      "3.0     17482\n",
      "19.0    16210\n",
      "4.0     15814\n",
      "20.0    15680\n",
      "37.0    15655\n",
      "14.0    15404\n",
      "32.0    15241\n",
      "39.0    14575\n",
      "40.0    13933\n",
      "16.0    13037\n",
      "38.0    12141\n",
      "35.0    12137\n",
      "21.0    11580\n",
      "9.0     10982\n",
      "34.0    10965\n",
      "24.0    10872\n",
      "27.0    10276\n",
      "28.0     9865\n",
      "36.0     9245\n",
      "25.0     8901\n",
      "23.0     7013\n",
      "22.0     6335\n",
      "33.0     5409\n",
      "18.0     5399\n",
      "17.0     5108\n",
      "26.0     2925\n",
      "Name: LP_LEBENSPHASE_FEIN, dtype: int64 \n",
      "\n",
      "LP_LEBENSPHASE_GROB\n",
      "2.0     139221\n",
      "1.0     123673\n",
      "3.0      97455\n",
      "12.0     65549\n",
      "4.0      48782\n",
      "9.0      43717\n",
      "5.0      42397\n",
      "0.0      39044\n",
      "10.0     36790\n",
      "11.0     28511\n",
      "6.0      24928\n",
      "8.0      23066\n",
      "7.0      19773\n",
      "Name: LP_LEBENSPHASE_GROB, dtype: int64 \n",
      "\n",
      "PRAEGENDE_JUGENDJAHRE\n",
      "14.0    168621\n",
      "8.0     130753\n",
      "5.0      80979\n",
      "10.0     78632\n",
      "3.0      51159\n",
      "15.0     38731\n",
      "11.0     32385\n",
      "9.0      32180\n",
      "6.0      25168\n",
      "12.0     22471\n",
      "4.0      20103\n",
      "1.0      18635\n",
      "2.0       7376\n",
      "13.0      5063\n",
      "7.0       3845\n",
      "Name: PRAEGENDE_JUGENDJAHRE, dtype: int64 \n",
      "\n",
      "WOHNLAGE\n",
      "3.0    235402\n",
      "7.0    161356\n",
      "4.0    127406\n",
      "2.0     94543\n",
      "5.0     67924\n",
      "1.0     41440\n",
      "8.0      9199\n",
      "0.0        17\n",
      "Name: WOHNLAGE, dtype: int64 \n",
      "\n",
      "CAMEO_INTL_2015\n",
      "51      73261\n",
      "51.0    53068\n",
      "41      50263\n",
      "24      49091\n",
      "41.0    36549\n",
      "24.0    35513\n",
      "14      33995\n",
      "43      31172\n",
      "54      24641\n",
      "14.0    24480\n",
      "43.0    22834\n",
      "25      21392\n",
      "54.0    18064\n",
      "22      17423\n",
      "25.0    15789\n",
      "45      14548\n",
      "13      14004\n",
      "22.0    12831\n",
      "55      11814\n",
      "23      11576\n",
      "52      11561\n",
      "45.0    10473\n",
      "13.0    10205\n",
      "34      10026\n",
      "15       9389\n",
      "31       9329\n",
      "55.0     8702\n",
      "52.0     8496\n",
      "23.0     8288\n",
      "44       7982\n",
      "34.0     7286\n",
      "12       6871\n",
      "15.0     6851\n",
      "31.0     6808\n",
      "44.0     5886\n",
      "35       5685\n",
      "32       5674\n",
      "33       5311\n",
      "12.0     5050\n",
      "32.0     4017\n",
      "35.0     4010\n",
      "33.0     3739\n",
      "XX        284\n",
      "Name: CAMEO_INTL_2015, dtype: int64 \n",
      "\n",
      "PLZ8_BAUMAX\n",
      "1.0    470465\n",
      "5.0     91802\n",
      "2.0     67815\n",
      "4.0     54410\n",
      "3.0     49274\n",
      "Name: PLZ8_BAUMAX, dtype: int64 \n",
      "\n"
     ]
    }
   ],
   "source": [
    "# Identify and visualize \"mixed\" data\n",
    "\n",
    "mix_data = [col for col in feat_sum[feat_sum['type'] == 'mixed']['attribute'].values if col in azdias_dummies.columns]\n",
    "\n",
    "for att in mix_data:\n",
    "    print(att)\n",
    "    print(azdias_dummies[att].value_counts(), '\\n')"
   ]
  },
  {
   "cell_type": "code",
   "execution_count": 39,
   "metadata": {},
   "outputs": [],
   "source": [
    "# Let's start with \"Prägende Jugendjahre\" and split it into decade/movement\n",
    "\n",
    "# Here, 4 means the 40s, .... and 9 the 90s.\n",
    "decade_dic = {1: 4, 2: 4, 3: 5, 4: 5, 5: 6, 6: 6, 7: 6, 8: 7, 9: 7, 10: 8, 11: 8, 12: 8, 13: 8, 14: 9, 15: 9}\n",
    "# Here, 0 means Mainstream and 1 means Avant-Garde\n",
    "move_dic = {1: 0, 2: 1, 3: 0, 4: 1, 5: 0, 6: 1, 7: 1, 8: 0, 9: 1, 10: 0, 11: 1, 12: 0, 13: 1, 14: 0, 15: 1}\n",
    "\n",
    "# Creating new columns\n",
    "azdias_dummies['DECADE_PRAGENDE_JUGENDJAHRE'] = azdias_dummies['PRAEGENDE_JUGENDJAHRE'].map(decade_dic)\n",
    "azdias_dummies['MOV_PRAGENDE_JUGENDJAHRE'] = azdias_dummies['PRAEGENDE_JUGENDJAHRE'].map(move_dic)\n",
    "azdias_dummies.drop(columns='PRAEGENDE_JUGENDJAHRE', inplace= True)"
   ]
  },
  {
   "cell_type": "code",
   "execution_count": 40,
   "metadata": {},
   "outputs": [],
   "source": [
    "# Moving to 'Cameo_Intl_15'...\n",
    "\n",
    "# \"tens\" correspond to wealth\n",
    "azdias_dummies['WEALTH_CAMEO_INTL_2015'] = azdias_dummies['CAMEO_INTL_2015'].astype(str).str[0]\n",
    "azdias_dummies['WEALTH_CAMEO_INTL_2015'].replace(['n', 'a', 'X'], np.nan, inplace = True) #NaNs are stored as \"n\"\n",
    "\n",
    "# \"ones\" correspond to life stage\n",
    "azdias_dummies['LIFE_CAMEO_INTL_2015'] = azdias_dummies['CAMEO_INTL_2015'].astype(str).str[1]\n",
    "azdias_dummies['LIFE_CAMEO_INTL_2015'].replace(['n', 'a', 'X'], np.nan,  inplace = True) #NaNs are stored as \"a\"\n",
    "\n",
    "# drop original col\n",
    "azdias_dummies.drop(columns='CAMEO_INTL_2015', inplace = True)"
   ]
  },
  {
   "cell_type": "code",
   "execution_count": 41,
   "metadata": {},
   "outputs": [],
   "source": [
    "# Additionally, I will drop both \"Lebensphase\" Columns, as the \"Life Stage\" info is already there!\n",
    "\n",
    "azdias_dummies.drop(columns=['LP_LEBENSPHASE_FEIN', 'LP_LEBENSPHASE_GROB'], inplace = True)"
   ]
  },
  {
   "cell_type": "markdown",
   "metadata": {},
   "source": [
    "## Part 1: Customer Segmentation Report\n",
    "\n",
    "The main bulk of the analysis will come in this part of the project. Here, unsupervised learning techniques were used to describe the relationship between the demographics of the company's existing customers and the general population of Germany. By the end of this part, I will be able to describe parts of the general population that are more likely to be part of the mail-order company's main customer base, and which parts of the general population are less so."
   ]
  },
  {
   "cell_type": "markdown",
   "metadata": {},
   "source": [
    "### Part 1.1. Writing a cleaning function\n",
    "\n",
    "This function contains all pre-processing steps, and yields clean data sets, ready for analysis:\n",
    "* Replace \"Unknown\" Values with NaN\n",
    "* Removes Columns with at least 20% NaN\n",
    "* Removes Rows with at least 10% NaN\n",
    "* Removes unnecessary mixed and categorical values\n",
    "* Replaces Categorical Data with Dummy Variables\n",
    "* Re-Encodes mixed and categorical data\n",
    "\n",
    "We will apply it both on the general population dataset as well as on the customers dataset."
   ]
  },
  {
   "cell_type": "code",
   "execution_count": 42,
   "metadata": {},
   "outputs": [],
   "source": [
    "def clean_dataset(df, model=False, df_general=azdias, df_customers=customers, feat_det=feat_det, feat_sum=feat_sum):\n",
    "    '''\n",
    "    INPUT:\n",
    "        df - (pandas dataframe) to be cleaned/pre-processed\n",
    "        model - (boolean) True if rows should not be deleted, False if rows should be deleted\n",
    "        df_general - (pandas dataframe) general population data\n",
    "        df_customers - (pandas dataframe) customers data\n",
    "        feat_det - (pandas dataframe) attribute values data\n",
    "        feat_sum - (pandas dataframe) attribute summary data\n",
    "        \n",
    "    OUTPUT:\n",
    "        df - (pandas dataframe) cleaned, pre-processed dataset\n",
    "    '''\n",
    "    # Creating a new data frame with \"unknown\" values - which are equivalent to NaN, but receive a number\n",
    "    miss_val = feat_det[(feat_det['Meaning'] == 'unknown')][['Attribute', 'Value']].reset_index(drop=True)\n",
    "    \n",
    "    # Transforming 'Value' Strings into lists of integers\n",
    "    miss_val['Value'] = miss_val['Value'].apply(split_transform)\n",
    "    \n",
    "    # Replacing \"unknown\" values with NaN \n",
    "    for index in miss_val.index:\n",
    "        current_atr = miss_val.loc[index]['Attribute']\n",
    "        current_list = miss_val.loc[index]['Value']\n",
    "        for value in current_list:\n",
    "            try: # some features are not present in df\n",
    "                df.loc[:, current_atr].replace(value, np.nan, inplace = True)\n",
    "            except:\n",
    "                continue\n",
    "                \n",
    "    # Missing values in general population attributes\n",
    "    nan_prop = df_general.isna().mean().round(4) * 100\n",
    "    df_col_drop = list(nan_prop[nan_prop >= 20].index)\n",
    "    df_col_keep = list(nan_prop[nan_prop < 20].index)\n",
    "    df = df[df_col_keep]\n",
    "                \n",
    "    # Missing Values in rows - except when using train/test data\n",
    "    if model == False:\n",
    "        na_rows_sum = df.isna().sum(axis=1)\n",
    "        prop_nan_rows = 100*na_rows_sum.values/len(df.columns)\n",
    "        df_row_drop = list(na_rows_sum[prop_nan_rows >= 10].index)\n",
    "        df_row_keep = list(na_rows_sum[prop_nan_rows < 10].index)\n",
    "        df = df.drop(df_row_drop)\n",
    "    \n",
    "    # Re-Encoding Categorical features\n",
    "    df['OST_WEST_KZ'] = df['OST_WEST_KZ'].apply(lambda x: 1 if x == 'W' else 0)\n",
    "    df['CAMEO_DEUG_2015'].replace('X', np.nan, inplace=True)\n",
    "    df['CAMEO_DEUG_2015'] = df['CAMEO_DEUG_2015'].apply(float).apply(str)\n",
    "    \n",
    "    # Dropping unnecessary columns\n",
    "    df.drop(columns=['CAMEO_DEU_2015', 'EINGEFUEGT_AM', 'LP_FAMILIE_FEIN', 'LP_STATUS_FEIN'], inplace=True)\n",
    "\n",
    "    # Creating dummy variables\n",
    "    fin_cat_data = [col for col in feat_sum[feat_sum['type'] == 'categorical']['attribute'].values if col in df.columns]\n",
    "    to_encode = df[fin_cat_data].nunique()[df[fin_cat_data].nunique()>2]\n",
    "    df = pd.get_dummies(df, columns = to_encode.index)\n",
    "    df.drop(columns=[x for x in df.columns if '_nan' in x], inplace = True)\n",
    "    \n",
    "    # PRAEGENDE_JUGENDJAHRE\n",
    "    # Here, 4 means the 40s, .... and 9 the 90s.\n",
    "    decade_dic = {1: 4, 2: 4, 3: 5, 4: 5, 5: 6, 6: 6, 7: 6, 8: 7, 9: 7, 10: 8, 11: 8, 12: 8, 13: 8, 14: 9, 15: 9}\n",
    "    # Here, 0 means Mainstream and 1 means Avant-Garde\n",
    "    move_dic = {1: 0, 2: 1, 3: 0, 4: 1, 5: 0, 6: 1, 7: 1, 8: 0, 9: 1, 10: 0, 11: 1, 12: 0, 13: 1, 14: 0, 15: 1}\n",
    "    # Creating new columns\n",
    "    df['DECADE_PRAGENDE_JUGENDJAHRE'] = df['PRAEGENDE_JUGENDJAHRE'].map(decade_dic)\n",
    "    df['MOV_PRAGENDE_JUGENDJAHRE'] = df['PRAEGENDE_JUGENDJAHRE'].map(move_dic)\n",
    "    \n",
    "    # CAMEO_INTL_2015\n",
    "    # \"tens\" correspond to wealth\n",
    "    df['WEALTH_CAMEO_INTL_2015'] = df['CAMEO_INTL_2015'].astype(str).str[0]\n",
    "    df['WEALTH_CAMEO_INTL_2015'].replace(['n', 'a', 'X'], np.nan,  inplace = True) #NaNs are stored as \"n\", \"a\", \"X\"\n",
    "    # \"ones\" correspond to life stage\n",
    "    df['LIFE_CAMEO_INTL_2015'] = df['CAMEO_INTL_2015'].astype(str).str[1]\n",
    "    df['LIFE_CAMEO_INTL_2015'].replace(['n', 'a', 'X'], np.nan,  inplace = True) #NaNs are stored as \"n\", \"a\", \"X\"\n",
    "    \n",
    "    # Dropping unnecessary columns\n",
    "    df.drop(columns=['LP_LEBENSPHASE_FEIN', 'LP_LEBENSPHASE_GROB', 'PRAEGENDE_JUGENDJAHRE', 'CAMEO_INTL_2015'], inplace = True)\n",
    "    \n",
    "    return df"
   ]
  },
  {
   "cell_type": "code",
   "execution_count": 43,
   "metadata": {},
   "outputs": [
    {
     "data": {
      "text/plain": [
       "True"
      ]
     },
     "execution_count": 43,
     "metadata": {},
     "output_type": "execute_result"
    }
   ],
   "source": [
    "# Testing function\n",
    "clean_azdias = clean_dataset(azdias)\n",
    "clean_azdias.equals(azdias_dummies)"
   ]
  },
  {
   "cell_type": "code",
   "execution_count": 44,
   "metadata": {},
   "outputs": [],
   "source": [
    "# Applying the same process to the customers dataset\n",
    "# first, we remove the columns that don't appear in the general pop dataset\n",
    "\n",
    "cust_clean = customers.drop(columns=['CUSTOMER_GROUP', 'ONLINE_PURCHASE','PRODUCT_GROUP'])\n",
    "cust_clean = clean_dataset(cust_clean)"
   ]
  },
  {
   "cell_type": "code",
   "execution_count": 45,
   "metadata": {},
   "outputs": [
    {
     "data": {
      "text/plain": [
       "['GEBAEUDETYP_5.0']"
      ]
     },
     "execution_count": 45,
     "metadata": {},
     "output_type": "execute_result"
    }
   ],
   "source": [
    "# Comparing both cleaned datasets to check if same features are present\n",
    "\n",
    "[x for x in clean_azdias.columns if x not in cust_clean.columns]"
   ]
  },
  {
   "cell_type": "code",
   "execution_count": 46,
   "metadata": {},
   "outputs": [
    {
     "data": {
      "text/plain": [
       "Index(['GEBAEUDETYP_RASTER', 'GEBAEUDETYP_1.0', 'GEBAEUDETYP_2.0',\n",
       "       'GEBAEUDETYP_3.0', 'GEBAEUDETYP_4.0', 'GEBAEUDETYP_6.0',\n",
       "       'GEBAEUDETYP_8.0'],\n",
       "      dtype='object')"
      ]
     },
     "execution_count": 46,
     "metadata": {},
     "output_type": "execute_result"
    }
   ],
   "source": [
    "# This feature seems to be a dummy column introduced in the cleaning step...\n",
    "\n",
    "cust_clean.columns[cust_clean.columns.str.contains('GEBAEUDETYP')]"
   ]
  },
  {
   "cell_type": "code",
   "execution_count": 47,
   "metadata": {},
   "outputs": [],
   "source": [
    "# So I will add a column for this with zeros\n",
    "\n",
    "cust_clean['GEBAEUDETYP_5.0'] = [0] * len(cust_clean.index)"
   ]
  },
  {
   "cell_type": "code",
   "execution_count": 48,
   "metadata": {},
   "outputs": [
    {
     "data": {
      "text/plain": [
       "[]"
      ]
     },
     "execution_count": 48,
     "metadata": {},
     "output_type": "execute_result"
    }
   ],
   "source": [
    "# Final check: columns in cust_clean that are not in clean_azdias\n",
    "\n",
    "[x for x in cust_clean.columns if x not in clean_azdias.columns]"
   ]
  },
  {
   "cell_type": "markdown",
   "metadata": {},
   "source": [
    "### Part 1.2. Feature Transformation\n",
    "\n",
    "Before we apply dimensionality reduction techniques to the data, we need to perform feature scaling so that the principal component vectors are not influenced by the natural differences in scale for features.\n",
    "\n",
    "A StandardScaler, which scales each feature to mean 0 and standard deviation 1, was used. According to sklearn's [documentation](https://scikit-learn.org/stable/modules/generated/sklearn.preprocessing.StandardScaler.html), NaNs are treated as in StandardScaler missing values: disregarded in fit, and maintained in transform. Hence, I inputed missing values after the scaling, so that the replacing values do not influence the scaling process. "
   ]
  },
  {
   "cell_type": "code",
   "execution_count": 49,
   "metadata": {},
   "outputs": [],
   "source": [
    "# Scaling features with Standard Scaler - there is no need to remove the NaNs beforehand\n",
    "\n",
    "scaler = StandardScaler()\n",
    "clean_azdias_scaled = pd.DataFrame(scaler.fit_transform(clean_azdias), columns = clean_azdias.columns)"
   ]
  },
  {
   "cell_type": "code",
   "execution_count": 50,
   "metadata": {},
   "outputs": [],
   "source": [
    "# Dealing with remaining NaNs \n",
    "\n",
    "imputer = SimpleImputer(missing_values = np.nan, strategy = 'mean')\n",
    "azdias_scaled_nonan = pd.DataFrame(imputer.fit_transform(clean_azdias_scaled), columns = clean_azdias_scaled.columns)"
   ]
  },
  {
   "cell_type": "markdown",
   "metadata": {},
   "source": [
    "### Part 1.3. Dimensionality Reduction\n",
    "\n",
    "In the words of [this informative blog post](https://medium.com/@cxu24/why-dimensionality-reduction-is-important-dd60b5611543): \n",
    "\n",
    ">In addition to avoiding overfitting and redundancy, dimensionality reduction also leads to better human interpretations and less computational cost with simplification of models.\n",
    "\n",
    "By applying sklearn's PCA class (Principal Component Analysis), we are able to identify which components explain most of the variance of the data and to select those to our model. I have written a function to apply these steps to the customer data as well."
   ]
  },
  {
   "cell_type": "code",
   "execution_count": 51,
   "metadata": {},
   "outputs": [],
   "source": [
    "# PCA to all components \n",
    "pca = PCA().fit(azdias_scaled_nonan)"
   ]
  },
  {
   "cell_type": "code",
   "execution_count": 52,
   "metadata": {},
   "outputs": [
    {
     "name": "stdout",
     "output_type": "stream",
     "text": [
      "We need 145 components to explain 80% of the variance on our data!\n"
     ]
    },
    {
     "data": {
      "image/png": "[encoded data removed]",
      "text/plain": [
       "<Figure size 1080x720 with 2 Axes>"
      ]
     },
     "metadata": {
      "needs_background": "light"
     },
     "output_type": "display_data"
    }
   ],
   "source": [
    "# Visualizing results - Ratio of variance explained and cumulative variance explained by components\n",
    "fig, ax1 = plt.subplots(figsize=(15,10))\n",
    "\n",
    "# Cumulative Variance Explained\n",
    "color = 'tab:red'\n",
    "ax1.set_xlabel('# Components')\n",
    "ax1.set_ylabel('Cumulative Variance Explained', color=color)\n",
    "ax1.plot(np.cumsum(pca.explained_variance_ratio_), color=color)\n",
    "ax1.tick_params(axis='y', labelcolor=color)\n",
    "\n",
    "ax2 = ax1.twinx() \n",
    "\n",
    "# Ratio of Variance Explained\n",
    "color = 'tab:blue'\n",
    "ax2.set_ylabel('Ratio of Variance Explained', color=color) \n",
    "ax2.plot(pca.explained_variance_ratio_, color=color)\n",
    "ax2.tick_params(axis='y', labelcolor=color)\n",
    "\n",
    "# Draw a line where the cumulative explained variance hits 80%\n",
    "comp_80 = np.where(np.cumsum(pca.explained_variance_ratio_) > 0.8)[0][0]\n",
    "ax1.axvline(comp_80, linestyle='dashed', color='black')\n",
    "ax1.axhline(0.8, linestyle='dashed', color='black')\n",
    "\n",
    "ax1.set_title('Principal Component Analysis: # Components vs. Explained Variance')\n",
    "fig.tight_layout()\n",
    "\n",
    "print('We need {} components to explain 80% of the variance on our data!'.format(comp_80))"
   ]
  },
  {
   "cell_type": "code",
   "execution_count": 53,
   "metadata": {},
   "outputs": [
    {
     "name": "stdout",
     "output_type": "stream",
     "text": [
      "Selecting these 145 components represents a reduction of 63.5% on the size of our dataset\n"
     ]
    }
   ],
   "source": [
    "# As mentioned above, we will pick the first 145 components for our model - keeping a 80% explained variance\n",
    "\n",
    "reduction = round(100*(1 - comp_80/len(azdias_scaled_nonan.columns)),1)\n",
    "print ('Selecting these {} components represents a reduction of {}% on the size of our dataset'.\n",
    "      format(comp_80, reduction))"
   ]
  },
  {
   "cell_type": "code",
   "execution_count": 54,
   "metadata": {},
   "outputs": [],
   "source": [
    "# re-fit a PCA instance to perform the decided-on transformation\n",
    "\n",
    "pca_red = PCA(n_components=comp_80, random_state=42)\n",
    "azdias_pca = pca_red.fit_transform(azdias_scaled_nonan)"
   ]
  },
  {
   "cell_type": "code",
   "execution_count": 55,
   "metadata": {},
   "outputs": [],
   "source": [
    "# Writing a function to summarize those steps\n",
    "\n",
    "def scale_imput_pca(df, n_components, random_state=42):\n",
    "    '''\n",
    "    INPUT:\n",
    "        df - (pandas dataframe) dataset to be scaled, imputed with mean & pca transformed\n",
    "        n_components - (int) number of pca components\n",
    "        random_state - (int) random state for PCA\n",
    "        \n",
    "    OUTPUT:\n",
    "        df_pca - (pandas dataframe) Principal Components dataframe\n",
    "    '''\n",
    "    # scaling\n",
    "    scaler = StandardScaler()\n",
    "    df_scaled = pd.DataFrame(scaler.fit_transform(df), columns = df.columns)\n",
    "    \n",
    "    # imputing\n",
    "    imputer = SimpleImputer(missing_values = np.nan, strategy = 'mean')\n",
    "    df_scaled_nonan = pd.DataFrame(imputer.fit_transform(df_scaled), columns = df_scaled.columns)\n",
    "    \n",
    "    # pca\n",
    "    pca_red = PCA(n_components=n_components, random_state=random_state)\n",
    "    df_pca = pca_red.fit_transform(df_scaled_nonan)\n",
    "    \n",
    "    return df_pca"
   ]
  },
  {
   "cell_type": "code",
   "execution_count": 56,
   "metadata": {},
   "outputs": [],
   "source": [
    "# test function\n",
    "azdias_pca_2 = scale_imput_pca(clean_azdias, comp_80)"
   ]
  },
  {
   "cell_type": "code",
   "execution_count": 57,
   "metadata": {},
   "outputs": [
    {
     "data": {
      "text/plain": [
       "True"
      ]
     },
     "execution_count": 57,
     "metadata": {},
     "output_type": "execute_result"
    }
   ],
   "source": [
    "# testing output\n",
    "np.array_equal(azdias_pca, azdias_pca_2)"
   ]
  },
  {
   "cell_type": "code",
   "execution_count": 58,
   "metadata": {},
   "outputs": [],
   "source": [
    "# apply to customers dataset\n",
    "cust_pca = scale_imput_pca(cust_clean, comp_80)"
   ]
  },
  {
   "cell_type": "markdown",
   "metadata": {},
   "source": [
    "### Part 1.4: Interpret Principal Components\n",
    "\n",
    "Each principal component is a unit vector that points in the direction of highest variance (after accounting for the variance captured by earlier principal components). The further a weight is from zero, the more the principal component is in the direction of the corresponding feature. If two features have large weights of the same sign (both positive or both negative), then increases in one tend expect to be associated with increases in the other. To contrast, features with different signs can be expected to show a negative correlation: increases in one variable should result in a decrease in the other."
   ]
  },
  {
   "cell_type": "code",
   "execution_count": 59,
   "metadata": {},
   "outputs": [
    {
     "data": {
      "text/plain": [
       "(145, 397)"
      ]
     },
     "execution_count": 59,
     "metadata": {},
     "output_type": "execute_result"
    }
   ],
   "source": [
    "# Observing the components' dimensions, we realize each feature is a column\n",
    "# whereas each line represent one component\n",
    "pca_red.components_.shape"
   ]
  },
  {
   "cell_type": "code",
   "execution_count": 60,
   "metadata": {},
   "outputs": [
    {
     "data": {
      "text/html": [
       "<div>\n",
       "<style scoped>\n",
       "    .dataframe tbody tr th:only-of-type {\n",
       "        vertical-align: middle;\n",
       "    }\n",
       "\n",
       "    .dataframe tbody tr th {\n",
       "        vertical-align: top;\n",
       "    }\n",
       "\n",
       "    .dataframe thead th {\n",
       "        text-align: right;\n",
       "    }\n",
       "</style>\n",
       "<table border=\"1\" class=\"dataframe\">\n",
       "  <thead>\n",
       "    <tr style=\"text-align: right;\">\n",
       "      <th></th>\n",
       "      <th>0</th>\n",
       "      <th>1</th>\n",
       "      <th>2</th>\n",
       "      <th>3</th>\n",
       "      <th>4</th>\n",
       "      <th>5</th>\n",
       "      <th>6</th>\n",
       "      <th>7</th>\n",
       "      <th>8</th>\n",
       "      <th>9</th>\n",
       "      <th>...</th>\n",
       "      <th>135</th>\n",
       "      <th>136</th>\n",
       "      <th>137</th>\n",
       "      <th>138</th>\n",
       "      <th>139</th>\n",
       "      <th>140</th>\n",
       "      <th>141</th>\n",
       "      <th>142</th>\n",
       "      <th>143</th>\n",
       "      <th>144</th>\n",
       "    </tr>\n",
       "  </thead>\n",
       "  <tbody>\n",
       "    <tr>\n",
       "      <td>LNR</td>\n",
       "      <td>0.024033</td>\n",
       "      <td>-0.045701</td>\n",
       "      <td>0.067643</td>\n",
       "      <td>-0.046437</td>\n",
       "      <td>-0.128072</td>\n",
       "      <td>-0.008303</td>\n",
       "      <td>-0.025164</td>\n",
       "      <td>0.007448</td>\n",
       "      <td>0.087187</td>\n",
       "      <td>0.032093</td>\n",
       "      <td>...</td>\n",
       "      <td>-0.008850</td>\n",
       "      <td>-0.056278</td>\n",
       "      <td>0.037616</td>\n",
       "      <td>-0.039079</td>\n",
       "      <td>0.003506</td>\n",
       "      <td>0.034678</td>\n",
       "      <td>-0.042897</td>\n",
       "      <td>-0.085247</td>\n",
       "      <td>0.061912</td>\n",
       "      <td>0.029636</td>\n",
       "    </tr>\n",
       "    <tr>\n",
       "      <td>AKT_DAT_KL</td>\n",
       "      <td>-0.065832</td>\n",
       "      <td>-0.007983</td>\n",
       "      <td>0.012840</td>\n",
       "      <td>-0.107265</td>\n",
       "      <td>0.030212</td>\n",
       "      <td>-0.011932</td>\n",
       "      <td>-0.013769</td>\n",
       "      <td>0.010194</td>\n",
       "      <td>-0.012373</td>\n",
       "      <td>-0.003617</td>\n",
       "      <td>...</td>\n",
       "      <td>0.057434</td>\n",
       "      <td>0.024890</td>\n",
       "      <td>-0.079053</td>\n",
       "      <td>-0.003657</td>\n",
       "      <td>-0.025808</td>\n",
       "      <td>0.078823</td>\n",
       "      <td>0.027342</td>\n",
       "      <td>0.043649</td>\n",
       "      <td>-0.061467</td>\n",
       "      <td>-0.044655</td>\n",
       "    </tr>\n",
       "    <tr>\n",
       "      <td>ALTER_HH</td>\n",
       "      <td>0.038198</td>\n",
       "      <td>0.087201</td>\n",
       "      <td>0.050215</td>\n",
       "      <td>0.028414</td>\n",
       "      <td>-0.002478</td>\n",
       "      <td>0.001170</td>\n",
       "      <td>-0.005866</td>\n",
       "      <td>0.002702</td>\n",
       "      <td>0.002454</td>\n",
       "      <td>0.005060</td>\n",
       "      <td>...</td>\n",
       "      <td>-0.070145</td>\n",
       "      <td>-0.025259</td>\n",
       "      <td>0.020238</td>\n",
       "      <td>0.009882</td>\n",
       "      <td>-0.018224</td>\n",
       "      <td>-0.018361</td>\n",
       "      <td>0.043404</td>\n",
       "      <td>0.082272</td>\n",
       "      <td>0.012329</td>\n",
       "      <td>-0.002558</td>\n",
       "    </tr>\n",
       "    <tr>\n",
       "      <td>ANZ_HAUSHALTE_AKTIV</td>\n",
       "      <td>-0.077367</td>\n",
       "      <td>-0.004381</td>\n",
       "      <td>0.019448</td>\n",
       "      <td>0.035164</td>\n",
       "      <td>0.003595</td>\n",
       "      <td>-0.008650</td>\n",
       "      <td>0.043492</td>\n",
       "      <td>-0.021154</td>\n",
       "      <td>0.072138</td>\n",
       "      <td>-0.002679</td>\n",
       "      <td>...</td>\n",
       "      <td>-0.050225</td>\n",
       "      <td>0.009677</td>\n",
       "      <td>0.006858</td>\n",
       "      <td>0.018757</td>\n",
       "      <td>0.017488</td>\n",
       "      <td>-0.022611</td>\n",
       "      <td>-0.008921</td>\n",
       "      <td>0.006203</td>\n",
       "      <td>0.055917</td>\n",
       "      <td>0.023002</td>\n",
       "    </tr>\n",
       "    <tr>\n",
       "      <td>ANZ_HH_TITEL</td>\n",
       "      <td>-0.017274</td>\n",
       "      <td>-0.019513</td>\n",
       "      <td>0.017800</td>\n",
       "      <td>0.020640</td>\n",
       "      <td>0.011935</td>\n",
       "      <td>-0.000835</td>\n",
       "      <td>0.012462</td>\n",
       "      <td>-0.007722</td>\n",
       "      <td>0.000113</td>\n",
       "      <td>0.002841</td>\n",
       "      <td>...</td>\n",
       "      <td>-0.064247</td>\n",
       "      <td>-0.044842</td>\n",
       "      <td>0.087188</td>\n",
       "      <td>0.042317</td>\n",
       "      <td>-0.069961</td>\n",
       "      <td>-0.000497</td>\n",
       "      <td>-0.005543</td>\n",
       "      <td>0.037414</td>\n",
       "      <td>0.056656</td>\n",
       "      <td>0.052058</td>\n",
       "    </tr>\n",
       "  </tbody>\n",
       "</table>\n",
       "<p>5 rows × 145 columns</p>\n",
       "</div>"
      ],
      "text/plain": [
       "                          0         1         2         3         4    \\\n",
       "LNR                  0.024033 -0.045701  0.067643 -0.046437 -0.128072   \n",
       "AKT_DAT_KL          -0.065832 -0.007983  0.012840 -0.107265  0.030212   \n",
       "ALTER_HH             0.038198  0.087201  0.050215  0.028414 -0.002478   \n",
       "ANZ_HAUSHALTE_AKTIV -0.077367 -0.004381  0.019448  0.035164  0.003595   \n",
       "ANZ_HH_TITEL        -0.017274 -0.019513  0.017800  0.020640  0.011935   \n",
       "\n",
       "                          5         6         7         8         9    ...  \\\n",
       "LNR                 -0.008303 -0.025164  0.007448  0.087187  0.032093  ...   \n",
       "AKT_DAT_KL          -0.011932 -0.013769  0.010194 -0.012373 -0.003617  ...   \n",
       "ALTER_HH             0.001170 -0.005866  0.002702  0.002454  0.005060  ...   \n",
       "ANZ_HAUSHALTE_AKTIV -0.008650  0.043492 -0.021154  0.072138 -0.002679  ...   \n",
       "ANZ_HH_TITEL        -0.000835  0.012462 -0.007722  0.000113  0.002841  ...   \n",
       "\n",
       "                          135       136       137       138       139  \\\n",
       "LNR                 -0.008850 -0.056278  0.037616 -0.039079  0.003506   \n",
       "AKT_DAT_KL           0.057434  0.024890 -0.079053 -0.003657 -0.025808   \n",
       "ALTER_HH            -0.070145 -0.025259  0.020238  0.009882 -0.018224   \n",
       "ANZ_HAUSHALTE_AKTIV -0.050225  0.009677  0.006858  0.018757  0.017488   \n",
       "ANZ_HH_TITEL        -0.064247 -0.044842  0.087188  0.042317 -0.069961   \n",
       "\n",
       "                          140       141       142       143       144  \n",
       "LNR                  0.034678 -0.042897 -0.085247  0.061912  0.029636  \n",
       "AKT_DAT_KL           0.078823  0.027342  0.043649 -0.061467 -0.044655  \n",
       "ALTER_HH            -0.018361  0.043404  0.082272  0.012329 -0.002558  \n",
       "ANZ_HAUSHALTE_AKTIV -0.022611 -0.008921  0.006203  0.055917  0.023002  \n",
       "ANZ_HH_TITEL        -0.000497 -0.005543  0.037414  0.056656  0.052058  \n",
       "\n",
       "[5 rows x 145 columns]"
      ]
     },
     "execution_count": 60,
     "metadata": {},
     "output_type": "execute_result"
    }
   ],
   "source": [
    "# Mapping component weights to features\n",
    "map_pca = pd.DataFrame(pca_red.components_.transpose(), index = azdias_scaled_nonan.columns)\n",
    "map_pca.head()"
   ]
  },
  {
   "cell_type": "code",
   "execution_count": 61,
   "metadata": {},
   "outputs": [],
   "source": [
    "# Joining with feature description\n",
    "map_pca_des = pd.concat([feat_top.set_index('Attribute')['Description'], map_pca], axis=1, sort=False).sort_index()\n",
    "map_pca_des.dropna(subset=[0], inplace = True)"
   ]
  },
  {
   "cell_type": "code",
   "execution_count": 177,
   "metadata": {},
   "outputs": [],
   "source": [
    "# Most-relevant features are at the beginning (positive correlation) and at the end (negative correlation)\n",
    "\n",
    "def most_relevant_feats(component, n):\n",
    "    '''\n",
    "    INPUT:\n",
    "        component - (int) component number\n",
    "        n - (int) number of features to be shown\n",
    "        \n",
    "    OUTPUT:\n",
    "        df - (pandas dataframe) most relevant features of the component, their weights and descriptions\n",
    "    '''\n",
    "    \n",
    "    # highest positive correlation\n",
    "    pos_cor = map_pca_des.sort_values(by=component)[['Description',component]].tail(n)\n",
    "\n",
    "    # highest negative correlation\n",
    "    neg_cor = map_pca_des.sort_values(by=component)[['Description',component]].head(n)\n",
    "    \n",
    "    # concat both\n",
    "    df = pd.concat([pos_cor, neg_cor], axis = 0).replace(np.nan, \"-\")\n",
    "    \n",
    "    return df"
   ]
  },
  {
   "cell_type": "code",
   "execution_count": 149,
   "metadata": {},
   "outputs": [
    {
     "name": "stdout",
     "output_type": "stream",
     "text": [
      "Component  0\n"
     ]
    },
    {
     "data": {
      "text/html": [
       "<style  type=\"text/css\" >\n",
       "    #T_5227259e_d4ba_11ea_ab8d_0433c279b76erow0_col1 {\n",
       "            background-color:  #083c7d;\n",
       "            color:  #f1f1f1;\n",
       "        }    #T_5227259e_d4ba_11ea_ab8d_0433c279b76erow1_col1 {\n",
       "            background-color:  #083979;\n",
       "            color:  #f1f1f1;\n",
       "        }    #T_5227259e_d4ba_11ea_ab8d_0433c279b76erow2_col1 {\n",
       "            background-color:  #083674;\n",
       "            color:  #f1f1f1;\n",
       "        }    #T_5227259e_d4ba_11ea_ab8d_0433c279b76erow3_col1 {\n",
       "            background-color:  #083573;\n",
       "            color:  #f1f1f1;\n",
       "        }    #T_5227259e_d4ba_11ea_ab8d_0433c279b76erow4_col1 {\n",
       "            background-color:  #08306b;\n",
       "            color:  #f1f1f1;\n",
       "        }    #T_5227259e_d4ba_11ea_ab8d_0433c279b76erow5_col1 {\n",
       "            background-color:  #f7fbff;\n",
       "            color:  #000000;\n",
       "        }    #T_5227259e_d4ba_11ea_ab8d_0433c279b76erow6_col1 {\n",
       "            background-color:  #f7fbff;\n",
       "            color:  #000000;\n",
       "        }    #T_5227259e_d4ba_11ea_ab8d_0433c279b76erow7_col1 {\n",
       "            background-color:  #f5f9fe;\n",
       "            color:  #000000;\n",
       "        }    #T_5227259e_d4ba_11ea_ab8d_0433c279b76erow8_col1 {\n",
       "            background-color:  #f4f9fe;\n",
       "            color:  #000000;\n",
       "        }    #T_5227259e_d4ba_11ea_ab8d_0433c279b76erow9_col1 {\n",
       "            background-color:  #f4f9fe;\n",
       "            color:  #000000;\n",
       "        }</style><table id=\"T_5227259e_d4ba_11ea_ab8d_0433c279b76e\" ><thead>    <tr>        <th class=\"blank level0\" ></th>        <th class=\"col_heading level0 col0\" >Description</th>        <th class=\"col_heading level0 col1\" >0</th>    </tr></thead><tbody>\n",
       "                <tr>\n",
       "                        <th id=\"T_5227259e_d4ba_11ea_ab8d_0433c279b76elevel0_row0\" class=\"row_heading level0 row0\" >MOBI_RASTER</th>\n",
       "                        <td id=\"T_5227259e_d4ba_11ea_ab8d_0433c279b76erow0_col0\" class=\"data row0 col0\" >-</td>\n",
       "                        <td id=\"T_5227259e_d4ba_11ea_ab8d_0433c279b76erow0_col1\" class=\"data row0 col1\" >0.127864</td>\n",
       "            </tr>\n",
       "            <tr>\n",
       "                        <th id=\"T_5227259e_d4ba_11ea_ab8d_0433c279b76elevel0_row1\" class=\"row_heading level0 row1\" >KBA05_ANTG1</th>\n",
       "                        <td id=\"T_5227259e_d4ba_11ea_ab8d_0433c279b76erow1_col0\" class=\"data row1 col0\" >number of 1-2 family houses in the cell</td>\n",
       "                        <td id=\"T_5227259e_d4ba_11ea_ab8d_0433c279b76erow1_col1\" class=\"data row1 col1\" >0.130827</td>\n",
       "            </tr>\n",
       "            <tr>\n",
       "                        <th id=\"T_5227259e_d4ba_11ea_ab8d_0433c279b76elevel0_row2\" class=\"row_heading level0 row2\" >KBA13_ANTG1</th>\n",
       "                        <td id=\"T_5227259e_d4ba_11ea_ab8d_0433c279b76erow2_col0\" class=\"data row2 col0\" >-</td>\n",
       "                        <td id=\"T_5227259e_d4ba_11ea_ab8d_0433c279b76erow2_col1\" class=\"data row2 col1\" >0.134723</td>\n",
       "            </tr>\n",
       "            <tr>\n",
       "                        <th id=\"T_5227259e_d4ba_11ea_ab8d_0433c279b76elevel0_row3\" class=\"row_heading level0 row3\" >PLZ8_ANTG1</th>\n",
       "                        <td id=\"T_5227259e_d4ba_11ea_ab8d_0433c279b76erow3_col0\" class=\"data row3 col0\" >number of 1-2 family houses in the PLZ8</td>\n",
       "                        <td id=\"T_5227259e_d4ba_11ea_ab8d_0433c279b76erow3_col1\" class=\"data row3 col1\" >0.135135</td>\n",
       "            </tr>\n",
       "            <tr>\n",
       "                        <th id=\"T_5227259e_d4ba_11ea_ab8d_0433c279b76elevel0_row4\" class=\"row_heading level0 row4\" >MOBI_REGIO</th>\n",
       "                        <td id=\"T_5227259e_d4ba_11ea_ab8d_0433c279b76erow4_col0\" class=\"data row4 col0\" >moving patterns</td>\n",
       "                        <td id=\"T_5227259e_d4ba_11ea_ab8d_0433c279b76erow4_col1\" class=\"data row4 col1\" >0.141189</td>\n",
       "            </tr>\n",
       "            <tr>\n",
       "                        <th id=\"T_5227259e_d4ba_11ea_ab8d_0433c279b76elevel0_row5\" class=\"row_heading level0 row5\" >PLZ8_ANTG3</th>\n",
       "                        <td id=\"T_5227259e_d4ba_11ea_ab8d_0433c279b76erow5_col0\" class=\"data row5 col0\" >number of 6-10 family houses in the PLZ8</td>\n",
       "                        <td id=\"T_5227259e_d4ba_11ea_ab8d_0433c279b76erow5_col1\" class=\"data row5 col1\" >-0.133818</td>\n",
       "            </tr>\n",
       "            <tr>\n",
       "                        <th id=\"T_5227259e_d4ba_11ea_ab8d_0433c279b76elevel0_row6\" class=\"row_heading level0 row6\" >KBA13_ANTG3</th>\n",
       "                        <td id=\"T_5227259e_d4ba_11ea_ab8d_0433c279b76erow6_col0\" class=\"data row6 col0\" >-</td>\n",
       "                        <td id=\"T_5227259e_d4ba_11ea_ab8d_0433c279b76erow6_col1\" class=\"data row6 col1\" >-0.133253</td>\n",
       "            </tr>\n",
       "            <tr>\n",
       "                        <th id=\"T_5227259e_d4ba_11ea_ab8d_0433c279b76elevel0_row7\" class=\"row_heading level0 row7\" >KBA13_ANTG4</th>\n",
       "                        <td id=\"T_5227259e_d4ba_11ea_ab8d_0433c279b76erow7_col0\" class=\"data row7 col0\" >-</td>\n",
       "                        <td id=\"T_5227259e_d4ba_11ea_ab8d_0433c279b76erow7_col1\" class=\"data row7 col1\" >-0.129879</td>\n",
       "            </tr>\n",
       "            <tr>\n",
       "                        <th id=\"T_5227259e_d4ba_11ea_ab8d_0433c279b76elevel0_row8\" class=\"row_heading level0 row8\" >KBA13_BAUMAX</th>\n",
       "                        <td id=\"T_5227259e_d4ba_11ea_ab8d_0433c279b76erow8_col0\" class=\"data row8 col0\" >-</td>\n",
       "                        <td id=\"T_5227259e_d4ba_11ea_ab8d_0433c279b76erow8_col1\" class=\"data row8 col1\" >-0.12926</td>\n",
       "            </tr>\n",
       "            <tr>\n",
       "                        <th id=\"T_5227259e_d4ba_11ea_ab8d_0433c279b76elevel0_row9\" class=\"row_heading level0 row9\" >PLZ8_ANTG4</th>\n",
       "                        <td id=\"T_5227259e_d4ba_11ea_ab8d_0433c279b76erow9_col0\" class=\"data row9 col0\" >number of >10 family houses in the PLZ8</td>\n",
       "                        <td id=\"T_5227259e_d4ba_11ea_ab8d_0433c279b76erow9_col1\" class=\"data row9 col1\" >-0.12856</td>\n",
       "            </tr>\n",
       "    </tbody></table>"
      ],
      "text/plain": [
       "<pandas.io.formats.style.Styler at 0x1c3b8b67a88>"
      ]
     },
     "metadata": {},
     "output_type": "display_data"
    },
    {
     "name": "stdout",
     "output_type": "stream",
     "text": [
      "Component  1\n"
     ]
    },
    {
     "data": {
      "text/html": [
       "<style  type=\"text/css\" >\n",
       "    #T_522cf1e6_d4ba_11ea_85f6_0433c279b76erow0_col1 {\n",
       "            background-color:  #083b7c;\n",
       "            color:  #f1f1f1;\n",
       "        }    #T_522cf1e6_d4ba_11ea_85f6_0433c279b76erow1_col1 {\n",
       "            background-color:  #083877;\n",
       "            color:  #f1f1f1;\n",
       "        }    #T_522cf1e6_d4ba_11ea_85f6_0433c279b76erow2_col1 {\n",
       "            background-color:  #08326e;\n",
       "            color:  #f1f1f1;\n",
       "        }    #T_522cf1e6_d4ba_11ea_85f6_0433c279b76erow3_col1 {\n",
       "            background-color:  #08316d;\n",
       "            color:  #f1f1f1;\n",
       "        }    #T_522cf1e6_d4ba_11ea_85f6_0433c279b76erow4_col1 {\n",
       "            background-color:  #08306b;\n",
       "            color:  #f1f1f1;\n",
       "        }    #T_522cf1e6_d4ba_11ea_85f6_0433c279b76erow5_col1 {\n",
       "            background-color:  #f7fbff;\n",
       "            color:  #000000;\n",
       "        }    #T_522cf1e6_d4ba_11ea_85f6_0433c279b76erow6_col1 {\n",
       "            background-color:  #f1f7fd;\n",
       "            color:  #000000;\n",
       "        }    #T_522cf1e6_d4ba_11ea_85f6_0433c279b76erow7_col1 {\n",
       "            background-color:  #eff6fc;\n",
       "            color:  #000000;\n",
       "        }    #T_522cf1e6_d4ba_11ea_85f6_0433c279b76erow8_col1 {\n",
       "            background-color:  #eaf2fb;\n",
       "            color:  #000000;\n",
       "        }    #T_522cf1e6_d4ba_11ea_85f6_0433c279b76erow9_col1 {\n",
       "            background-color:  #eaf2fb;\n",
       "            color:  #000000;\n",
       "        }</style><table id=\"T_522cf1e6_d4ba_11ea_85f6_0433c279b76e\" ><thead>    <tr>        <th class=\"blank level0\" ></th>        <th class=\"col_heading level0 col0\" >Description</th>        <th class=\"col_heading level0 col1\" >1</th>    </tr></thead><tbody>\n",
       "                <tr>\n",
       "                        <th id=\"T_522cf1e6_d4ba_11ea_85f6_0433c279b76elevel0_row0\" class=\"row_heading level0 row0\" >CJT_TYP_1</th>\n",
       "                        <td id=\"T_522cf1e6_d4ba_11ea_85f6_0433c279b76erow0_col0\" class=\"data row0 col0\" >-</td>\n",
       "                        <td id=\"T_522cf1e6_d4ba_11ea_85f6_0433c279b76erow0_col1\" class=\"data row0 col1\" >0.124903</td>\n",
       "            </tr>\n",
       "            <tr>\n",
       "                        <th id=\"T_522cf1e6_d4ba_11ea_85f6_0433c279b76elevel0_row1\" class=\"row_heading level0 row1\" >FINANZ_SPARER</th>\n",
       "                        <td id=\"T_522cf1e6_d4ba_11ea_85f6_0433c279b76erow1_col0\" class=\"data row1 col0\" >financial typology: money saver</td>\n",
       "                        <td id=\"T_522cf1e6_d4ba_11ea_85f6_0433c279b76erow1_col1\" class=\"data row1 col1\" >0.127958</td>\n",
       "            </tr>\n",
       "            <tr>\n",
       "                        <th id=\"T_522cf1e6_d4ba_11ea_85f6_0433c279b76elevel0_row2\" class=\"row_heading level0 row2\" >ONLINE_AFFINITAET</th>\n",
       "                        <td id=\"T_522cf1e6_d4ba_11ea_85f6_0433c279b76erow2_col0\" class=\"data row2 col0\" >online affinity</td>\n",
       "                        <td id=\"T_522cf1e6_d4ba_11ea_85f6_0433c279b76erow2_col1\" class=\"data row2 col1\" >0.134101</td>\n",
       "            </tr>\n",
       "            <tr>\n",
       "                        <th id=\"T_522cf1e6_d4ba_11ea_85f6_0433c279b76elevel0_row3\" class=\"row_heading level0 row3\" >FINANZ_ANLEGER</th>\n",
       "                        <td id=\"T_522cf1e6_d4ba_11ea_85f6_0433c279b76erow3_col0\" class=\"data row3 col0\" >financial typology: investor</td>\n",
       "                        <td id=\"T_522cf1e6_d4ba_11ea_85f6_0433c279b76erow3_col1\" class=\"data row3 col1\" >0.135878</td>\n",
       "            </tr>\n",
       "            <tr>\n",
       "                        <th id=\"T_522cf1e6_d4ba_11ea_85f6_0433c279b76elevel0_row4\" class=\"row_heading level0 row4\" >DECADE_PRAGENDE_JUGENDJAHRE</th>\n",
       "                        <td id=\"T_522cf1e6_d4ba_11ea_85f6_0433c279b76erow4_col0\" class=\"data row4 col0\" >-</td>\n",
       "                        <td id=\"T_522cf1e6_d4ba_11ea_85f6_0433c279b76erow4_col1\" class=\"data row4 col1\" >0.137129</td>\n",
       "            </tr>\n",
       "            <tr>\n",
       "                        <th id=\"T_522cf1e6_d4ba_11ea_85f6_0433c279b76elevel0_row5\" class=\"row_heading level0 row5\" >FINANZ_VORSORGER</th>\n",
       "                        <td id=\"T_522cf1e6_d4ba_11ea_85f6_0433c279b76erow5_col0\" class=\"data row5 col0\" >financial typology: be prepared</td>\n",
       "                        <td id=\"T_522cf1e6_d4ba_11ea_85f6_0433c279b76erow5_col1\" class=\"data row5 col1\" >-0.129723</td>\n",
       "            </tr>\n",
       "            <tr>\n",
       "                        <th id=\"T_522cf1e6_d4ba_11ea_85f6_0433c279b76elevel0_row6\" class=\"row_heading level0 row6\" >CJT_TYP_4</th>\n",
       "                        <td id=\"T_522cf1e6_d4ba_11ea_85f6_0433c279b76erow6_col0\" class=\"data row6 col0\" >-</td>\n",
       "                        <td id=\"T_522cf1e6_d4ba_11ea_85f6_0433c279b76erow6_col1\" class=\"data row6 col1\" >-0.120769</td>\n",
       "            </tr>\n",
       "            <tr>\n",
       "                        <th id=\"T_522cf1e6_d4ba_11ea_85f6_0433c279b76elevel0_row7\" class=\"row_heading level0 row7\" >CJT_TYP_5</th>\n",
       "                        <td id=\"T_522cf1e6_d4ba_11ea_85f6_0433c279b76erow7_col0\" class=\"data row7 col0\" >-</td>\n",
       "                        <td id=\"T_522cf1e6_d4ba_11ea_85f6_0433c279b76erow7_col1\" class=\"data row7 col1\" >-0.118953</td>\n",
       "            </tr>\n",
       "            <tr>\n",
       "                        <th id=\"T_522cf1e6_d4ba_11ea_85f6_0433c279b76elevel0_row8\" class=\"row_heading level0 row8\" >ALTERSKATEGORIE_GROB</th>\n",
       "                        <td id=\"T_522cf1e6_d4ba_11ea_85f6_0433c279b76erow8_col0\" class=\"data row8 col0\" >age through prename analysis </td>\n",
       "                        <td id=\"T_522cf1e6_d4ba_11ea_85f6_0433c279b76erow8_col1\" class=\"data row8 col1\" >-0.111833</td>\n",
       "            </tr>\n",
       "            <tr>\n",
       "                        <th id=\"T_522cf1e6_d4ba_11ea_85f6_0433c279b76elevel0_row9\" class=\"row_heading level0 row9\" >D19_GESAMT_ONLINE_DATUM</th>\n",
       "                        <td id=\"T_522cf1e6_d4ba_11ea_85f6_0433c279b76erow9_col0\" class=\"data row9 col0\" >actuality of the last transaction with the complete file ONLINE</td>\n",
       "                        <td id=\"T_522cf1e6_d4ba_11ea_85f6_0433c279b76erow9_col1\" class=\"data row9 col1\" >-0.111587</td>\n",
       "            </tr>\n",
       "    </tbody></table>"
      ],
      "text/plain": [
       "<pandas.io.formats.style.Styler at 0x1c3c615a808>"
      ]
     },
     "metadata": {},
     "output_type": "display_data"
    },
    {
     "name": "stdout",
     "output_type": "stream",
     "text": [
      "Component  2\n"
     ]
    },
    {
     "data": {
      "text/html": [
       "<style  type=\"text/css\" >\n",
       "    #T_523185a6_d4ba_11ea_9022_0433c279b76erow0_col1 {\n",
       "            background-color:  #084990;\n",
       "            color:  #f1f1f1;\n",
       "        }    #T_523185a6_d4ba_11ea_9022_0433c279b76erow1_col1 {\n",
       "            background-color:  #08478d;\n",
       "            color:  #f1f1f1;\n",
       "        }    #T_523185a6_d4ba_11ea_9022_0433c279b76erow2_col1 {\n",
       "            background-color:  #08458a;\n",
       "            color:  #f1f1f1;\n",
       "        }    #T_523185a6_d4ba_11ea_9022_0433c279b76erow3_col1 {\n",
       "            background-color:  #084285;\n",
       "            color:  #f1f1f1;\n",
       "        }    #T_523185a6_d4ba_11ea_9022_0433c279b76erow4_col1 {\n",
       "            background-color:  #08306b;\n",
       "            color:  #f1f1f1;\n",
       "        }    #T_523185a6_d4ba_11ea_9022_0433c279b76erow5_col1 {\n",
       "            background-color:  #f7fbff;\n",
       "            color:  #000000;\n",
       "        }    #T_523185a6_d4ba_11ea_9022_0433c279b76erow6_col1 {\n",
       "            background-color:  #ecf4fb;\n",
       "            color:  #000000;\n",
       "        }    #T_523185a6_d4ba_11ea_9022_0433c279b76erow7_col1 {\n",
       "            background-color:  #e9f2fa;\n",
       "            color:  #000000;\n",
       "        }    #T_523185a6_d4ba_11ea_9022_0433c279b76erow8_col1 {\n",
       "            background-color:  #e7f1fa;\n",
       "            color:  #000000;\n",
       "        }    #T_523185a6_d4ba_11ea_9022_0433c279b76erow9_col1 {\n",
       "            background-color:  #e5eff9;\n",
       "            color:  #000000;\n",
       "        }</style><table id=\"T_523185a6_d4ba_11ea_9022_0433c279b76e\" ><thead>    <tr>        <th class=\"blank level0\" ></th>        <th class=\"col_heading level0 col0\" >Description</th>        <th class=\"col_heading level0 col1\" >2</th>    </tr></thead><tbody>\n",
       "                <tr>\n",
       "                        <th id=\"T_523185a6_d4ba_11ea_9022_0433c279b76elevel0_row0\" class=\"row_heading level0 row0\" >KBA13_SITZE_4</th>\n",
       "                        <td id=\"T_523185a6_d4ba_11ea_9022_0433c279b76erow0_col0\" class=\"data row0 col0\" >number of cars with less than 5 seats in the PLZ8</td>\n",
       "                        <td id=\"T_523185a6_d4ba_11ea_9022_0433c279b76erow0_col1\" class=\"data row0 col1\" >0.124115</td>\n",
       "            </tr>\n",
       "            <tr>\n",
       "                        <th id=\"T_523185a6_d4ba_11ea_9022_0433c279b76elevel0_row1\" class=\"row_heading level0 row1\" >KBA13_BMW</th>\n",
       "                        <td id=\"T_523185a6_d4ba_11ea_9022_0433c279b76erow1_col0\" class=\"data row1 col0\" >share of BMW within the PLZ8</td>\n",
       "                        <td id=\"T_523185a6_d4ba_11ea_9022_0433c279b76erow1_col1\" class=\"data row1 col1\" >0.127</td>\n",
       "            </tr>\n",
       "            <tr>\n",
       "                        <th id=\"T_523185a6_d4ba_11ea_9022_0433c279b76elevel0_row2\" class=\"row_heading level0 row2\" >KBA13_MERCEDES</th>\n",
       "                        <td id=\"T_523185a6_d4ba_11ea_9022_0433c279b76erow2_col0\" class=\"data row2 col0\" >share of MERCEDES within the PLZ8</td>\n",
       "                        <td id=\"T_523185a6_d4ba_11ea_9022_0433c279b76erow2_col1\" class=\"data row2 col1\" >0.128644</td>\n",
       "            </tr>\n",
       "            <tr>\n",
       "                        <th id=\"T_523185a6_d4ba_11ea_9022_0433c279b76elevel0_row3\" class=\"row_heading level0 row3\" >KBA13_SEG_OBEREMITTELKLASSE</th>\n",
       "                        <td id=\"T_523185a6_d4ba_11ea_9022_0433c279b76erow3_col0\" class=\"data row3 col0\" >share of upper middle class cars and upper class cars (BMW5er, BMW7er etc.)</td>\n",
       "                        <td id=\"T_523185a6_d4ba_11ea_9022_0433c279b76erow3_col1\" class=\"data row3 col1\" >0.132265</td>\n",
       "            </tr>\n",
       "            <tr>\n",
       "                        <th id=\"T_523185a6_d4ba_11ea_9022_0433c279b76elevel0_row4\" class=\"row_heading level0 row4\" >KBA13_HERST_BMW_BENZ</th>\n",
       "                        <td id=\"T_523185a6_d4ba_11ea_9022_0433c279b76erow4_col0\" class=\"data row4 col0\" >share of BMW & Mercedes Benz within the PLZ8</td>\n",
       "                        <td id=\"T_523185a6_d4ba_11ea_9022_0433c279b76erow4_col1\" class=\"data row4 col1\" >0.151179</td>\n",
       "            </tr>\n",
       "            <tr>\n",
       "                        <th id=\"T_523185a6_d4ba_11ea_9022_0433c279b76elevel0_row5\" class=\"row_heading level0 row5\" >KBA13_SITZE_5</th>\n",
       "                        <td id=\"T_523185a6_d4ba_11ea_9022_0433c279b76erow5_col0\" class=\"data row5 col0\" >number of cars with 5 seats in the PLZ8</td>\n",
       "                        <td id=\"T_523185a6_d4ba_11ea_9022_0433c279b76erow5_col1\" class=\"data row5 col1\" >-0.127017</td>\n",
       "            </tr>\n",
       "            <tr>\n",
       "                        <th id=\"T_523185a6_d4ba_11ea_9022_0433c279b76elevel0_row6\" class=\"row_heading level0 row6\" >CJT_TYP_3</th>\n",
       "                        <td id=\"T_523185a6_d4ba_11ea_9022_0433c279b76erow6_col0\" class=\"data row6 col0\" >-</td>\n",
       "                        <td id=\"T_523185a6_d4ba_11ea_9022_0433c279b76erow6_col1\" class=\"data row6 col1\" >-0.110995</td>\n",
       "            </tr>\n",
       "            <tr>\n",
       "                        <th id=\"T_523185a6_d4ba_11ea_9022_0433c279b76elevel0_row7\" class=\"row_heading level0 row7\" >KBA13_SEG_KLEINWAGEN</th>\n",
       "                        <td id=\"T_523185a6_d4ba_11ea_9022_0433c279b76erow7_col0\" class=\"data row7 col0\" >share of small and very small cars (Ford Fiesta, Ford Ka etc.) in the PLZ8</td>\n",
       "                        <td id=\"T_523185a6_d4ba_11ea_9022_0433c279b76erow7_col1\" class=\"data row7 col1\" >-0.106967</td>\n",
       "            </tr>\n",
       "            <tr>\n",
       "                        <th id=\"T_523185a6_d4ba_11ea_9022_0433c279b76elevel0_row8\" class=\"row_heading level0 row8\" >KBA13_KMH_140_210</th>\n",
       "                        <td id=\"T_523185a6_d4ba_11ea_9022_0433c279b76erow8_col0\" class=\"data row8 col0\" >share of cars with max speed between 140 and 210 km/h within the PLZ8</td>\n",
       "                        <td id=\"T_523185a6_d4ba_11ea_9022_0433c279b76erow8_col1\" class=\"data row8 col1\" >-0.104352</td>\n",
       "            </tr>\n",
       "            <tr>\n",
       "                        <th id=\"T_523185a6_d4ba_11ea_9022_0433c279b76elevel0_row9\" class=\"row_heading level0 row9\" >CJT_TYP_5</th>\n",
       "                        <td id=\"T_523185a6_d4ba_11ea_9022_0433c279b76erow9_col0\" class=\"data row9 col0\" >-</td>\n",
       "                        <td id=\"T_523185a6_d4ba_11ea_9022_0433c279b76erow9_col1\" class=\"data row9 col1\" >-0.102003</td>\n",
       "            </tr>\n",
       "    </tbody></table>"
      ],
      "text/plain": [
       "<pandas.io.formats.style.Styler at 0x1c3bd41fe88>"
      ]
     },
     "metadata": {},
     "output_type": "display_data"
    },
    {
     "name": "stdout",
     "output_type": "stream",
     "text": [
      "Component  3\n"
     ]
    },
    {
     "data": {
      "text/html": [
       "<style  type=\"text/css\" >\n",
       "    #T_52375202_d4ba_11ea_beed_0433c279b76erow0_col1 {\n",
       "            background-color:  #084488;\n",
       "            color:  #f1f1f1;\n",
       "        }    #T_52375202_d4ba_11ea_beed_0433c279b76erow1_col1 {\n",
       "            background-color:  #084184;\n",
       "            color:  #f1f1f1;\n",
       "        }    #T_52375202_d4ba_11ea_beed_0433c279b76erow2_col1 {\n",
       "            background-color:  #083776;\n",
       "            color:  #f1f1f1;\n",
       "        }    #T_52375202_d4ba_11ea_beed_0433c279b76erow3_col1 {\n",
       "            background-color:  #083776;\n",
       "            color:  #f1f1f1;\n",
       "        }    #T_52375202_d4ba_11ea_beed_0433c279b76erow4_col1 {\n",
       "            background-color:  #08306b;\n",
       "            color:  #f1f1f1;\n",
       "        }    #T_52375202_d4ba_11ea_beed_0433c279b76erow5_col1 {\n",
       "            background-color:  #f7fbff;\n",
       "            color:  #000000;\n",
       "        }    #T_52375202_d4ba_11ea_beed_0433c279b76erow6_col1 {\n",
       "            background-color:  #f5fafe;\n",
       "            color:  #000000;\n",
       "        }    #T_52375202_d4ba_11ea_beed_0433c279b76erow7_col1 {\n",
       "            background-color:  #f0f6fd;\n",
       "            color:  #000000;\n",
       "        }    #T_52375202_d4ba_11ea_beed_0433c279b76erow8_col1 {\n",
       "            background-color:  #ecf4fb;\n",
       "            color:  #000000;\n",
       "        }    #T_52375202_d4ba_11ea_beed_0433c279b76erow9_col1 {\n",
       "            background-color:  #ebf3fb;\n",
       "            color:  #000000;\n",
       "        }</style><table id=\"T_52375202_d4ba_11ea_beed_0433c279b76e\" ><thead>    <tr>        <th class=\"blank level0\" ></th>        <th class=\"col_heading level0 col0\" >Description</th>        <th class=\"col_heading level0 col1\" >3</th>    </tr></thead><tbody>\n",
       "                <tr>\n",
       "                        <th id=\"T_52375202_d4ba_11ea_beed_0433c279b76elevel0_row0\" class=\"row_heading level0 row0\" >FINANZ_VORSORGER</th>\n",
       "                        <td id=\"T_52375202_d4ba_11ea_beed_0433c279b76erow0_col0\" class=\"data row0 col0\" >financial typology: be prepared</td>\n",
       "                        <td id=\"T_52375202_d4ba_11ea_beed_0433c279b76erow0_col1\" class=\"data row0 col1\" >0.106282</td>\n",
       "            </tr>\n",
       "            <tr>\n",
       "                        <th id=\"T_52375202_d4ba_11ea_beed_0433c279b76elevel0_row1\" class=\"row_heading level0 row1\" >D19_VERSAND_ANZ_12</th>\n",
       "                        <td id=\"T_52375202_d4ba_11ea_beed_0433c279b76erow1_col0\" class=\"data row1 col0\" >-</td>\n",
       "                        <td id=\"T_52375202_d4ba_11ea_beed_0433c279b76erow1_col1\" class=\"data row1 col1\" >0.109349</td>\n",
       "            </tr>\n",
       "            <tr>\n",
       "                        <th id=\"T_52375202_d4ba_11ea_beed_0433c279b76elevel0_row2\" class=\"row_heading level0 row2\" >D19_GESAMT_ANZ_12</th>\n",
       "                        <td id=\"T_52375202_d4ba_11ea_beed_0433c279b76erow2_col0\" class=\"data row2 col0\" >transaction activity TOTAL POOL in the last 12 months </td>\n",
       "                        <td id=\"T_52375202_d4ba_11ea_beed_0433c279b76erow2_col1\" class=\"data row2 col1\" >0.118422</td>\n",
       "            </tr>\n",
       "            <tr>\n",
       "                        <th id=\"T_52375202_d4ba_11ea_beed_0433c279b76elevel0_row3\" class=\"row_heading level0 row3\" >D19_VERSAND_ANZ_24</th>\n",
       "                        <td id=\"T_52375202_d4ba_11ea_beed_0433c279b76erow3_col0\" class=\"data row3 col0\" >-</td>\n",
       "                        <td id=\"T_52375202_d4ba_11ea_beed_0433c279b76erow3_col1\" class=\"data row3 col1\" >0.118495</td>\n",
       "            </tr>\n",
       "            <tr>\n",
       "                        <th id=\"T_52375202_d4ba_11ea_beed_0433c279b76elevel0_row4\" class=\"row_heading level0 row4\" >D19_GESAMT_ANZ_24</th>\n",
       "                        <td id=\"T_52375202_d4ba_11ea_beed_0433c279b76erow4_col0\" class=\"data row4 col0\" >transaction activity TOTAL POOL in the last 24 months </td>\n",
       "                        <td id=\"T_52375202_d4ba_11ea_beed_0433c279b76erow4_col1\" class=\"data row4 col1\" >0.12615</td>\n",
       "            </tr>\n",
       "            <tr>\n",
       "                        <th id=\"T_52375202_d4ba_11ea_beed_0433c279b76elevel0_row5\" class=\"row_heading level0 row5\" >VK_ZG11</th>\n",
       "                        <td id=\"T_52375202_d4ba_11ea_beed_0433c279b76erow5_col0\" class=\"data row5 col0\" >-</td>\n",
       "                        <td id=\"T_52375202_d4ba_11ea_beed_0433c279b76erow5_col1\" class=\"data row5 col1\" >-0.140464</td>\n",
       "            </tr>\n",
       "            <tr>\n",
       "                        <th id=\"T_52375202_d4ba_11ea_beed_0433c279b76elevel0_row6\" class=\"row_heading level0 row6\" >VK_DISTANZ</th>\n",
       "                        <td id=\"T_52375202_d4ba_11ea_beed_0433c279b76erow6_col0\" class=\"data row6 col0\" >-</td>\n",
       "                        <td id=\"T_52375202_d4ba_11ea_beed_0433c279b76erow6_col1\" class=\"data row6 col1\" >-0.137844</td>\n",
       "            </tr>\n",
       "            <tr>\n",
       "                        <th id=\"T_52375202_d4ba_11ea_beed_0433c279b76elevel0_row7\" class=\"row_heading level0 row7\" >D19_GESAMT_DATUM</th>\n",
       "                        <td id=\"T_52375202_d4ba_11ea_beed_0433c279b76erow7_col0\" class=\"data row7 col0\" >actuality of the last transaction with the complete file TOTAL</td>\n",
       "                        <td id=\"T_52375202_d4ba_11ea_beed_0433c279b76erow7_col1\" class=\"data row7 col1\" >-0.131058</td>\n",
       "            </tr>\n",
       "            <tr>\n",
       "                        <th id=\"T_52375202_d4ba_11ea_beed_0433c279b76elevel0_row8\" class=\"row_heading level0 row8\" >D19_KONSUMTYP_MAX</th>\n",
       "                        <td id=\"T_52375202_d4ba_11ea_beed_0433c279b76erow8_col0\" class=\"data row8 col0\" >-</td>\n",
       "                        <td id=\"T_52375202_d4ba_11ea_beed_0433c279b76erow8_col1\" class=\"data row8 col1\" >-0.125054</td>\n",
       "            </tr>\n",
       "            <tr>\n",
       "                        <th id=\"T_52375202_d4ba_11ea_beed_0433c279b76elevel0_row9\" class=\"row_heading level0 row9\" >D19_VERSAND_DATUM</th>\n",
       "                        <td id=\"T_52375202_d4ba_11ea_beed_0433c279b76erow9_col0\" class=\"data row9 col0\" >actuality of the last transaction for the segment mail-order TOTAL</td>\n",
       "                        <td id=\"T_52375202_d4ba_11ea_beed_0433c279b76erow9_col1\" class=\"data row9 col1\" >-0.124471</td>\n",
       "            </tr>\n",
       "    </tbody></table>"
      ],
      "text/plain": [
       "<pandas.io.formats.style.Styler at 0x1c3c33bab48>"
      ]
     },
     "metadata": {},
     "output_type": "display_data"
    },
    {
     "name": "stdout",
     "output_type": "stream",
     "text": [
      "Component  4\n"
     ]
    },
    {
     "data": {
      "text/html": [
       "<style  type=\"text/css\" >\n",
       "    #T_523da136_d4ba_11ea_aebb_0433c279b76erow0_col1 {\n",
       "            background-color:  #084b93;\n",
       "            color:  #f1f1f1;\n",
       "        }    #T_523da136_d4ba_11ea_aebb_0433c279b76erow1_col1 {\n",
       "            background-color:  #084b93;\n",
       "            color:  #f1f1f1;\n",
       "        }    #T_523da136_d4ba_11ea_aebb_0433c279b76erow2_col1 {\n",
       "            background-color:  #084387;\n",
       "            color:  #f1f1f1;\n",
       "        }    #T_523da136_d4ba_11ea_aebb_0433c279b76erow3_col1 {\n",
       "            background-color:  #083776;\n",
       "            color:  #f1f1f1;\n",
       "        }    #T_523da136_d4ba_11ea_aebb_0433c279b76erow4_col1 {\n",
       "            background-color:  #08306b;\n",
       "            color:  #f1f1f1;\n",
       "        }    #T_523da136_d4ba_11ea_aebb_0433c279b76erow5_col1 {\n",
       "            background-color:  #f7fbff;\n",
       "            color:  #000000;\n",
       "        }    #T_523da136_d4ba_11ea_aebb_0433c279b76erow6_col1 {\n",
       "            background-color:  #f2f7fd;\n",
       "            color:  #000000;\n",
       "        }    #T_523da136_d4ba_11ea_aebb_0433c279b76erow7_col1 {\n",
       "            background-color:  #f1f7fd;\n",
       "            color:  #000000;\n",
       "        }    #T_523da136_d4ba_11ea_aebb_0433c279b76erow8_col1 {\n",
       "            background-color:  #e3eef8;\n",
       "            color:  #000000;\n",
       "        }    #T_523da136_d4ba_11ea_aebb_0433c279b76erow9_col1 {\n",
       "            background-color:  #e3eef8;\n",
       "            color:  #000000;\n",
       "        }</style><table id=\"T_523da136_d4ba_11ea_aebb_0433c279b76e\" ><thead>    <tr>        <th class=\"blank level0\" ></th>        <th class=\"col_heading level0 col0\" >Description</th>        <th class=\"col_heading level0 col1\" >4</th>    </tr></thead><tbody>\n",
       "                <tr>\n",
       "                        <th id=\"T_523da136_d4ba_11ea_aebb_0433c279b76elevel0_row0\" class=\"row_heading level0 row0\" >KBA13_SITZE_5</th>\n",
       "                        <td id=\"T_523da136_d4ba_11ea_aebb_0433c279b76erow0_col0\" class=\"data row0 col0\" >number of cars with 5 seats in the PLZ8</td>\n",
       "                        <td id=\"T_523da136_d4ba_11ea_aebb_0433c279b76erow0_col1\" class=\"data row0 col1\" >0.139682</td>\n",
       "            </tr>\n",
       "            <tr>\n",
       "                        <th id=\"T_523da136_d4ba_11ea_aebb_0433c279b76elevel0_row1\" class=\"row_heading level0 row1\" >KBA13_CCM_1401_2500</th>\n",
       "                        <td id=\"T_523da136_d4ba_11ea_aebb_0433c279b76erow1_col0\" class=\"data row1 col0\" >-</td>\n",
       "                        <td id=\"T_523da136_d4ba_11ea_aebb_0433c279b76erow1_col1\" class=\"data row1 col1\" >0.140505</td>\n",
       "            </tr>\n",
       "            <tr>\n",
       "                        <th id=\"T_523da136_d4ba_11ea_aebb_0433c279b76elevel0_row2\" class=\"row_heading level0 row2\" >KBA13_VORB_0</th>\n",
       "                        <td id=\"T_523da136_d4ba_11ea_aebb_0433c279b76erow2_col0\" class=\"data row2 col0\" >share of cars with no preowner - PLZ8</td>\n",
       "                        <td id=\"T_523da136_d4ba_11ea_aebb_0433c279b76erow2_col1\" class=\"data row2 col1\" >0.151946</td>\n",
       "            </tr>\n",
       "            <tr>\n",
       "                        <th id=\"T_523da136_d4ba_11ea_aebb_0433c279b76elevel0_row3\" class=\"row_heading level0 row3\" >KBA13_KMH_210</th>\n",
       "                        <td id=\"T_523da136_d4ba_11ea_aebb_0433c279b76erow3_col0\" class=\"data row3 col0\" >-</td>\n",
       "                        <td id=\"T_523da136_d4ba_11ea_aebb_0433c279b76erow3_col1\" class=\"data row3 col1\" >0.166981</td>\n",
       "            </tr>\n",
       "            <tr>\n",
       "                        <th id=\"T_523da136_d4ba_11ea_aebb_0433c279b76elevel0_row4\" class=\"row_heading level0 row4\" >KBA13_KW_61_120</th>\n",
       "                        <td id=\"T_523da136_d4ba_11ea_aebb_0433c279b76erow4_col0\" class=\"data row4 col0\" >share of cars with an engine power between 61 and 120 KW - PLZ8</td>\n",
       "                        <td id=\"T_523da136_d4ba_11ea_aebb_0433c279b76erow4_col1\" class=\"data row4 col1\" >0.177252</td>\n",
       "            </tr>\n",
       "            <tr>\n",
       "                        <th id=\"T_523da136_d4ba_11ea_aebb_0433c279b76elevel0_row5\" class=\"row_heading level0 row5\" >KBA13_KW_0_60</th>\n",
       "                        <td id=\"T_523da136_d4ba_11ea_aebb_0433c279b76erow5_col0\" class=\"data row5 col0\" >share of cars with less than 61 KW engine power - PLZ8</td>\n",
       "                        <td id=\"T_523da136_d4ba_11ea_aebb_0433c279b76erow5_col1\" class=\"data row5 col1\" >-0.182226</td>\n",
       "            </tr>\n",
       "            <tr>\n",
       "                        <th id=\"T_523da136_d4ba_11ea_aebb_0433c279b76elevel0_row6\" class=\"row_heading level0 row6\" >KBA13_BJ_2000</th>\n",
       "                        <td id=\"T_523da136_d4ba_11ea_aebb_0433c279b76erow6_col0\" class=\"data row6 col0\" >share of cars built between 2000 and 2003 within the PLZ8</td>\n",
       "                        <td id=\"T_523da136_d4ba_11ea_aebb_0433c279b76erow6_col1\" class=\"data row6 col1\" >-0.171737</td>\n",
       "            </tr>\n",
       "            <tr>\n",
       "                        <th id=\"T_523da136_d4ba_11ea_aebb_0433c279b76elevel0_row7\" class=\"row_heading level0 row7\" >OST_WEST_KZ</th>\n",
       "                        <td id=\"T_523da136_d4ba_11ea_aebb_0433c279b76erow7_col0\" class=\"data row7 col0\" >flag indicating the former GDR/FRG</td>\n",
       "                        <td id=\"T_523da136_d4ba_11ea_aebb_0433c279b76erow7_col1\" class=\"data row7 col1\" >-0.169897</td>\n",
       "            </tr>\n",
       "            <tr>\n",
       "                        <th id=\"T_523da136_d4ba_11ea_aebb_0433c279b76elevel0_row8\" class=\"row_heading level0 row8\" >KBA13_KMH_140</th>\n",
       "                        <td id=\"T_523da136_d4ba_11ea_aebb_0433c279b76erow8_col0\" class=\"data row8 col0\" >share of cars with max speed between 110 km/h and 140km/h within the PLZ8</td>\n",
       "                        <td id=\"T_523da136_d4ba_11ea_aebb_0433c279b76erow8_col1\" class=\"data row8 col1\" >-0.145413</td>\n",
       "            </tr>\n",
       "            <tr>\n",
       "                        <th id=\"T_523da136_d4ba_11ea_aebb_0433c279b76elevel0_row9\" class=\"row_heading level0 row9\" >KBA13_CCM_0_1400</th>\n",
       "                        <td id=\"T_523da136_d4ba_11ea_aebb_0433c279b76erow9_col0\" class=\"data row9 col0\" >share of cars with less than 1401ccm within the PLZ8</td>\n",
       "                        <td id=\"T_523da136_d4ba_11ea_aebb_0433c279b76erow9_col1\" class=\"data row9 col1\" >-0.145085</td>\n",
       "            </tr>\n",
       "    </tbody></table>"
      ],
      "text/plain": [
       "<pandas.io.formats.style.Styler at 0x1c3bd5654c8>"
      ]
     },
     "metadata": {},
     "output_type": "display_data"
    },
    {
     "name": "stdout",
     "output_type": "stream",
     "text": [
      "Component  5\n"
     ]
    },
    {
     "data": {
      "text/html": [
       "<style  type=\"text/css\" >\n",
       "    #T_5242f828_d4ba_11ea_8148_0433c279b76erow0_col1 {\n",
       "            background-color:  #1c6ab0;\n",
       "            color:  #f1f1f1;\n",
       "        }    #T_5242f828_d4ba_11ea_8148_0433c279b76erow1_col1 {\n",
       "            background-color:  #08458a;\n",
       "            color:  #f1f1f1;\n",
       "        }    #T_5242f828_d4ba_11ea_8148_0433c279b76erow2_col1 {\n",
       "            background-color:  #083d7f;\n",
       "            color:  #f1f1f1;\n",
       "        }    #T_5242f828_d4ba_11ea_8148_0433c279b76erow3_col1 {\n",
       "            background-color:  #083c7d;\n",
       "            color:  #f1f1f1;\n",
       "        }    #T_5242f828_d4ba_11ea_8148_0433c279b76erow4_col1 {\n",
       "            background-color:  #08306b;\n",
       "            color:  #f1f1f1;\n",
       "        }    #T_5242f828_d4ba_11ea_8148_0433c279b76erow5_col1 {\n",
       "            background-color:  #f7fbff;\n",
       "            color:  #000000;\n",
       "        }    #T_5242f828_d4ba_11ea_8148_0433c279b76erow6_col1 {\n",
       "            background-color:  #f3f8fe;\n",
       "            color:  #000000;\n",
       "        }    #T_5242f828_d4ba_11ea_8148_0433c279b76erow7_col1 {\n",
       "            background-color:  #e8f1fa;\n",
       "            color:  #000000;\n",
       "        }    #T_5242f828_d4ba_11ea_8148_0433c279b76erow8_col1 {\n",
       "            background-color:  #e1edf8;\n",
       "            color:  #000000;\n",
       "        }    #T_5242f828_d4ba_11ea_8148_0433c279b76erow9_col1 {\n",
       "            background-color:  #d7e6f5;\n",
       "            color:  #000000;\n",
       "        }</style><table id=\"T_5242f828_d4ba_11ea_8148_0433c279b76e\" ><thead>    <tr>        <th class=\"blank level0\" ></th>        <th class=\"col_heading level0 col0\" >Description</th>        <th class=\"col_heading level0 col1\" >5</th>    </tr></thead><tbody>\n",
       "                <tr>\n",
       "                        <th id=\"T_5242f828_d4ba_11ea_8148_0433c279b76elevel0_row0\" class=\"row_heading level0 row0\" >CJT_KATALOGNUTZER</th>\n",
       "                        <td id=\"T_5242f828_d4ba_11ea_8148_0433c279b76erow0_col0\" class=\"data row0 col0\" >-</td>\n",
       "                        <td id=\"T_5242f828_d4ba_11ea_8148_0433c279b76erow0_col1\" class=\"data row0 col1\" >0.161091</td>\n",
       "            </tr>\n",
       "            <tr>\n",
       "                        <th id=\"T_5242f828_d4ba_11ea_8148_0433c279b76elevel0_row1\" class=\"row_heading level0 row1\" >SEMIO_SOZ</th>\n",
       "                        <td id=\"T_5242f828_d4ba_11ea_8148_0433c279b76erow1_col0\" class=\"data row1 col0\" >affinity indicating in what way the person is social minded</td>\n",
       "                        <td id=\"T_5242f828_d4ba_11ea_8148_0433c279b76erow1_col1\" class=\"data row1 col1\" >0.255027</td>\n",
       "            </tr>\n",
       "            <tr>\n",
       "                        <th id=\"T_5242f828_d4ba_11ea_8148_0433c279b76elevel0_row2\" class=\"row_heading level0 row2\" >SEMIO_KULT</th>\n",
       "                        <td id=\"T_5242f828_d4ba_11ea_8148_0433c279b76erow2_col0\" class=\"data row2 col0\" >affinity indicating in what way the person is cultural minded</td>\n",
       "                        <td id=\"T_5242f828_d4ba_11ea_8148_0433c279b76erow2_col1\" class=\"data row2 col1\" >0.271994</td>\n",
       "            </tr>\n",
       "            <tr>\n",
       "                        <th id=\"T_5242f828_d4ba_11ea_8148_0433c279b76elevel0_row3\" class=\"row_heading level0 row3\" >SEMIO_FAM</th>\n",
       "                        <td id=\"T_5242f828_d4ba_11ea_8148_0433c279b76erow3_col0\" class=\"data row3 col0\" >affinity indicating in what way the person is familiar minded</td>\n",
       "                        <td id=\"T_5242f828_d4ba_11ea_8148_0433c279b76erow3_col1\" class=\"data row3 col1\" >0.274212</td>\n",
       "            </tr>\n",
       "            <tr>\n",
       "                        <th id=\"T_5242f828_d4ba_11ea_8148_0433c279b76elevel0_row4\" class=\"row_heading level0 row4\" >SEMIO_VERT</th>\n",
       "                        <td id=\"T_5242f828_d4ba_11ea_8148_0433c279b76erow4_col0\" class=\"data row4 col0\" >affinity indicating in what way the person is dreamily</td>\n",
       "                        <td id=\"T_5242f828_d4ba_11ea_8148_0433c279b76erow4_col1\" class=\"data row4 col1\" >0.306301</td>\n",
       "            </tr>\n",
       "            <tr>\n",
       "                        <th id=\"T_5242f828_d4ba_11ea_8148_0433c279b76elevel0_row5\" class=\"row_heading level0 row5\" >ANREDE_KZ</th>\n",
       "                        <td id=\"T_5242f828_d4ba_11ea_8148_0433c279b76erow5_col0\" class=\"data row5 col0\" >gender</td>\n",
       "                        <td id=\"T_5242f828_d4ba_11ea_8148_0433c279b76erow5_col1\" class=\"data row5 col1\" >-0.334721</td>\n",
       "            </tr>\n",
       "            <tr>\n",
       "                        <th id=\"T_5242f828_d4ba_11ea_8148_0433c279b76elevel0_row6\" class=\"row_heading level0 row6\" >SEMIO_KAEM</th>\n",
       "                        <td id=\"T_5242f828_d4ba_11ea_8148_0433c279b76erow6_col0\" class=\"data row6 col0\" >affinity indicating in what way the person is of a fightfull attitude</td>\n",
       "                        <td id=\"T_5242f828_d4ba_11ea_8148_0433c279b76erow6_col1\" class=\"data row6 col1\" >-0.32152</td>\n",
       "            </tr>\n",
       "            <tr>\n",
       "                        <th id=\"T_5242f828_d4ba_11ea_8148_0433c279b76elevel0_row7\" class=\"row_heading level0 row7\" >SEMIO_DOM</th>\n",
       "                        <td id=\"T_5242f828_d4ba_11ea_8148_0433c279b76erow7_col0\" class=\"data row7 col0\" >affinity indicating in what way the person is dominant minded</td>\n",
       "                        <td id=\"T_5242f828_d4ba_11ea_8148_0433c279b76erow7_col1\" class=\"data row7 col1\" >-0.284885</td>\n",
       "            </tr>\n",
       "            <tr>\n",
       "                        <th id=\"T_5242f828_d4ba_11ea_8148_0433c279b76elevel0_row8\" class=\"row_heading level0 row8\" >SEMIO_KRIT</th>\n",
       "                        <td id=\"T_5242f828_d4ba_11ea_8148_0433c279b76erow8_col0\" class=\"data row8 col0\" >affinity indicating in what way the person is critical minded</td>\n",
       "                        <td id=\"T_5242f828_d4ba_11ea_8148_0433c279b76erow8_col1\" class=\"data row8 col1\" >-0.264425</td>\n",
       "            </tr>\n",
       "            <tr>\n",
       "                        <th id=\"T_5242f828_d4ba_11ea_8148_0433c279b76elevel0_row9\" class=\"row_heading level0 row9\" >SEMIO_ERL</th>\n",
       "                        <td id=\"T_5242f828_d4ba_11ea_8148_0433c279b76erow9_col0\" class=\"data row9 col0\" >affinity indicating in what way the person is eventful orientated</td>\n",
       "                        <td id=\"T_5242f828_d4ba_11ea_8148_0433c279b76erow9_col1\" class=\"data row9 col1\" >-0.230953</td>\n",
       "            </tr>\n",
       "    </tbody></table>"
      ],
      "text/plain": [
       "<pandas.io.formats.style.Styler at 0x1c3c332cb48>"
      ]
     },
     "metadata": {},
     "output_type": "display_data"
    },
    {
     "name": "stdout",
     "output_type": "stream",
     "text": [
      "Component  6\n"
     ]
    },
    {
     "data": {
      "text/html": [
       "<style  type=\"text/css\" >\n",
       "    #T_5247181e_d4ba_11ea_b7df_0433c279b76erow0_col1 {\n",
       "            background-color:  #084990;\n",
       "            color:  #f1f1f1;\n",
       "        }    #T_5247181e_d4ba_11ea_b7df_0433c279b76erow1_col1 {\n",
       "            background-color:  #084488;\n",
       "            color:  #f1f1f1;\n",
       "        }    #T_5247181e_d4ba_11ea_b7df_0433c279b76erow2_col1 {\n",
       "            background-color:  #084082;\n",
       "            color:  #f1f1f1;\n",
       "        }    #T_5247181e_d4ba_11ea_b7df_0433c279b76erow3_col1 {\n",
       "            background-color:  #083877;\n",
       "            color:  #f1f1f1;\n",
       "        }    #T_5247181e_d4ba_11ea_b7df_0433c279b76erow4_col1 {\n",
       "            background-color:  #08306b;\n",
       "            color:  #f1f1f1;\n",
       "        }    #T_5247181e_d4ba_11ea_b7df_0433c279b76erow5_col1 {\n",
       "            background-color:  #f7fbff;\n",
       "            color:  #000000;\n",
       "        }    #T_5247181e_d4ba_11ea_b7df_0433c279b76erow6_col1 {\n",
       "            background-color:  #ecf4fb;\n",
       "            color:  #000000;\n",
       "        }    #T_5247181e_d4ba_11ea_b7df_0433c279b76erow7_col1 {\n",
       "            background-color:  #ecf4fb;\n",
       "            color:  #000000;\n",
       "        }    #T_5247181e_d4ba_11ea_b7df_0433c279b76erow8_col1 {\n",
       "            background-color:  #dfecf7;\n",
       "            color:  #000000;\n",
       "        }    #T_5247181e_d4ba_11ea_b7df_0433c279b76erow9_col1 {\n",
       "            background-color:  #dfebf7;\n",
       "            color:  #000000;\n",
       "        }</style><table id=\"T_5247181e_d4ba_11ea_b7df_0433c279b76e\" ><thead>    <tr>        <th class=\"blank level0\" ></th>        <th class=\"col_heading level0 col0\" >Description</th>        <th class=\"col_heading level0 col1\" >6</th>    </tr></thead><tbody>\n",
       "                <tr>\n",
       "                        <th id=\"T_5247181e_d4ba_11ea_b7df_0433c279b76elevel0_row0\" class=\"row_heading level0 row0\" >KBA13_HALTER_35</th>\n",
       "                        <td id=\"T_5247181e_d4ba_11ea_b7df_0433c279b76erow0_col0\" class=\"data row0 col0\" >share of car owners between 31 and 35 within the PLZ8</td>\n",
       "                        <td id=\"T_5247181e_d4ba_11ea_b7df_0433c279b76erow0_col1\" class=\"data row0 col1\" >0.114135</td>\n",
       "            </tr>\n",
       "            <tr>\n",
       "                        <th id=\"T_5247181e_d4ba_11ea_b7df_0433c279b76elevel0_row1\" class=\"row_heading level0 row1\" >KBA05_KW2</th>\n",
       "                        <td id=\"T_5247181e_d4ba_11ea_b7df_0433c279b76erow1_col0\" class=\"data row1 col0\" >share of cars with an engine power between 60 and 119 KW</td>\n",
       "                        <td id=\"T_5247181e_d4ba_11ea_b7df_0433c279b76erow1_col1\" class=\"data row1 col1\" >0.120662</td>\n",
       "            </tr>\n",
       "            <tr>\n",
       "                        <th id=\"T_5247181e_d4ba_11ea_b7df_0433c279b76elevel0_row2\" class=\"row_heading level0 row2\" >KBA05_MAXVORB</th>\n",
       "                        <td id=\"T_5247181e_d4ba_11ea_b7df_0433c279b76erow2_col0\" class=\"data row2 col0\" >most common preowner structure in the microcell</td>\n",
       "                        <td id=\"T_5247181e_d4ba_11ea_b7df_0433c279b76erow2_col1\" class=\"data row2 col1\" >0.1255</td>\n",
       "            </tr>\n",
       "            <tr>\n",
       "                        <th id=\"T_5247181e_d4ba_11ea_b7df_0433c279b76elevel0_row3\" class=\"row_heading level0 row3\" >KBA13_SEG_MITTELKLASSE</th>\n",
       "                        <td id=\"T_5247181e_d4ba_11ea_b7df_0433c279b76erow3_col0\" class=\"data row3 col0\" >share of middle class cars (Ford Mondeo etc.) in the PLZ8</td>\n",
       "                        <td id=\"T_5247181e_d4ba_11ea_b7df_0433c279b76erow3_col1\" class=\"data row3 col1\" >0.135193</td>\n",
       "            </tr>\n",
       "            <tr>\n",
       "                        <th id=\"T_5247181e_d4ba_11ea_b7df_0433c279b76elevel0_row4\" class=\"row_heading level0 row4\" >KBA05_MAXSEG</th>\n",
       "                        <td id=\"T_5247181e_d4ba_11ea_b7df_0433c279b76erow4_col0\" class=\"data row4 col0\" >most common car segment in the microcell</td>\n",
       "                        <td id=\"T_5247181e_d4ba_11ea_b7df_0433c279b76erow4_col1\" class=\"data row4 col1\" >0.146678</td>\n",
       "            </tr>\n",
       "            <tr>\n",
       "                        <th id=\"T_5247181e_d4ba_11ea_b7df_0433c279b76elevel0_row5\" class=\"row_heading level0 row5\" >KBA05_SEG2</th>\n",
       "                        <td id=\"T_5247181e_d4ba_11ea_b7df_0433c279b76erow5_col0\" class=\"data row5 col0\" >share of small and very small cars (Ford Fiesta, Ford Ka etc.) in the microcell</td>\n",
       "                        <td id=\"T_5247181e_d4ba_11ea_b7df_0433c279b76erow5_col1\" class=\"data row5 col1\" >-0.196804</td>\n",
       "            </tr>\n",
       "            <tr>\n",
       "                        <th id=\"T_5247181e_d4ba_11ea_b7df_0433c279b76elevel0_row6\" class=\"row_heading level0 row6\" >KBA05_KRSKLEIN</th>\n",
       "                        <td id=\"T_5247181e_d4ba_11ea_b7df_0433c279b76erow6_col0\" class=\"data row6 col0\" >share of small cars (referred to the county average)</td>\n",
       "                        <td id=\"T_5247181e_d4ba_11ea_b7df_0433c279b76erow6_col1\" class=\"data row6 col1\" >-0.177291</td>\n",
       "            </tr>\n",
       "            <tr>\n",
       "                        <th id=\"T_5247181e_d4ba_11ea_b7df_0433c279b76elevel0_row7\" class=\"row_heading level0 row7\" >KBA05_CCM1</th>\n",
       "                        <td id=\"T_5247181e_d4ba_11ea_b7df_0433c279b76erow7_col0\" class=\"data row7 col0\" >share of cars with less than 1399ccm</td>\n",
       "                        <td id=\"T_5247181e_d4ba_11ea_b7df_0433c279b76erow7_col1\" class=\"data row7 col1\" >-0.177225</td>\n",
       "            </tr>\n",
       "            <tr>\n",
       "                        <th id=\"T_5247181e_d4ba_11ea_b7df_0433c279b76elevel0_row8\" class=\"row_heading level0 row8\" >KBA13_SEG_KLEINST</th>\n",
       "                        <td id=\"T_5247181e_d4ba_11ea_b7df_0433c279b76erow8_col0\" class=\"data row8 col0\" >share of very small cars (Ford Ka etc.) in the PLZ8</td>\n",
       "                        <td id=\"T_5247181e_d4ba_11ea_b7df_0433c279b76erow8_col1\" class=\"data row8 col1\" >-0.155344</td>\n",
       "            </tr>\n",
       "            <tr>\n",
       "                        <th id=\"T_5247181e_d4ba_11ea_b7df_0433c279b76elevel0_row9\" class=\"row_heading level0 row9\" >KBA13_ALTERHALTER_61</th>\n",
       "                        <td id=\"T_5247181e_d4ba_11ea_b7df_0433c279b76erow9_col0\" class=\"data row9 col0\" >share of car owners elder than 60 within the PLZ8</td>\n",
       "                        <td id=\"T_5247181e_d4ba_11ea_b7df_0433c279b76erow9_col1\" class=\"data row9 col1\" >-0.154297</td>\n",
       "            </tr>\n",
       "    </tbody></table>"
      ],
      "text/plain": [
       "<pandas.io.formats.style.Styler at 0x1c3c3335288>"
      ]
     },
     "metadata": {},
     "output_type": "display_data"
    },
    {
     "name": "stdout",
     "output_type": "stream",
     "text": [
      "Component  7\n"
     ]
    },
    {
     "data": {
      "text/html": [
       "<style  type=\"text/css\" >\n",
       "    #T_524c1fe4_d4ba_11ea_abc0_0433c279b76erow0_col1 {\n",
       "            background-color:  #083e81;\n",
       "            color:  #f1f1f1;\n",
       "        }    #T_524c1fe4_d4ba_11ea_abc0_0433c279b76erow1_col1 {\n",
       "            background-color:  #083d7f;\n",
       "            color:  #f1f1f1;\n",
       "        }    #T_524c1fe4_d4ba_11ea_abc0_0433c279b76erow2_col1 {\n",
       "            background-color:  #083d7f;\n",
       "            color:  #f1f1f1;\n",
       "        }    #T_524c1fe4_d4ba_11ea_abc0_0433c279b76erow3_col1 {\n",
       "            background-color:  #083471;\n",
       "            color:  #f1f1f1;\n",
       "        }    #T_524c1fe4_d4ba_11ea_abc0_0433c279b76erow4_col1 {\n",
       "            background-color:  #08306b;\n",
       "            color:  #f1f1f1;\n",
       "        }    #T_524c1fe4_d4ba_11ea_abc0_0433c279b76erow5_col1 {\n",
       "            background-color:  #f7fbff;\n",
       "            color:  #000000;\n",
       "        }    #T_524c1fe4_d4ba_11ea_abc0_0433c279b76erow6_col1 {\n",
       "            background-color:  #f5fafe;\n",
       "            color:  #000000;\n",
       "        }    #T_524c1fe4_d4ba_11ea_abc0_0433c279b76erow7_col1 {\n",
       "            background-color:  #f5f9fe;\n",
       "            color:  #000000;\n",
       "        }    #T_524c1fe4_d4ba_11ea_abc0_0433c279b76erow8_col1 {\n",
       "            background-color:  #f1f7fd;\n",
       "            color:  #000000;\n",
       "        }    #T_524c1fe4_d4ba_11ea_abc0_0433c279b76erow9_col1 {\n",
       "            background-color:  #ddeaf7;\n",
       "            color:  #000000;\n",
       "        }</style><table id=\"T_524c1fe4_d4ba_11ea_abc0_0433c279b76e\" ><thead>    <tr>        <th class=\"blank level0\" ></th>        <th class=\"col_heading level0 col0\" >Description</th>        <th class=\"col_heading level0 col1\" >7</th>    </tr></thead><tbody>\n",
       "                <tr>\n",
       "                        <th id=\"T_524c1fe4_d4ba_11ea_abc0_0433c279b76elevel0_row0\" class=\"row_heading level0 row0\" >KBA13_KMH_140_210</th>\n",
       "                        <td id=\"T_524c1fe4_d4ba_11ea_abc0_0433c279b76erow0_col0\" class=\"data row0 col0\" >share of cars with max speed between 140 and 210 km/h within the PLZ8</td>\n",
       "                        <td id=\"T_524c1fe4_d4ba_11ea_abc0_0433c279b76erow0_col1\" class=\"data row0 col1\" >0.130608</td>\n",
       "            </tr>\n",
       "            <tr>\n",
       "                        <th id=\"T_524c1fe4_d4ba_11ea_abc0_0433c279b76elevel0_row1\" class=\"row_heading level0 row1\" >KBA13_ALTERHALTER_61</th>\n",
       "                        <td id=\"T_524c1fe4_d4ba_11ea_abc0_0433c279b76erow1_col0\" class=\"data row1 col0\" >share of car owners elder than 60 within the PLZ8</td>\n",
       "                        <td id=\"T_524c1fe4_d4ba_11ea_abc0_0433c279b76erow1_col1\" class=\"data row1 col1\" >0.132009</td>\n",
       "            </tr>\n",
       "            <tr>\n",
       "                        <th id=\"T_524c1fe4_d4ba_11ea_abc0_0433c279b76elevel0_row2\" class=\"row_heading level0 row2\" >KBA13_KMH_180</th>\n",
       "                        <td id=\"T_524c1fe4_d4ba_11ea_abc0_0433c279b76erow2_col0\" class=\"data row2 col0\" >share of cars with max speed between 110 km/h and 180km/h within the PLZ8</td>\n",
       "                        <td id=\"T_524c1fe4_d4ba_11ea_abc0_0433c279b76erow2_col1\" class=\"data row2 col1\" >0.132449</td>\n",
       "            </tr>\n",
       "            <tr>\n",
       "                        <th id=\"T_524c1fe4_d4ba_11ea_abc0_0433c279b76elevel0_row3\" class=\"row_heading level0 row3\" >KBA05_MOTOR</th>\n",
       "                        <td id=\"T_524c1fe4_d4ba_11ea_abc0_0433c279b76erow3_col0\" class=\"data row3 col0\" >most common engine size in the microcell</td>\n",
       "                        <td id=\"T_524c1fe4_d4ba_11ea_abc0_0433c279b76erow3_col1\" class=\"data row3 col1\" >0.143848</td>\n",
       "            </tr>\n",
       "            <tr>\n",
       "                        <th id=\"T_524c1fe4_d4ba_11ea_abc0_0433c279b76elevel0_row4\" class=\"row_heading level0 row4\" >KBA05_MAXSEG</th>\n",
       "                        <td id=\"T_524c1fe4_d4ba_11ea_abc0_0433c279b76erow4_col0\" class=\"data row4 col0\" >most common car segment in the microcell</td>\n",
       "                        <td id=\"T_524c1fe4_d4ba_11ea_abc0_0433c279b76erow4_col1\" class=\"data row4 col1\" >0.148961</td>\n",
       "            </tr>\n",
       "            <tr>\n",
       "                        <th id=\"T_524c1fe4_d4ba_11ea_abc0_0433c279b76elevel0_row5\" class=\"row_heading level0 row5\" >KBA05_KW1</th>\n",
       "                        <td id=\"T_524c1fe4_d4ba_11ea_abc0_0433c279b76erow5_col0\" class=\"data row5 col0\" >share of cars with less than 59 KW engine power</td>\n",
       "                        <td id=\"T_524c1fe4_d4ba_11ea_abc0_0433c279b76erow5_col1\" class=\"data row5 col1\" >-0.165921</td>\n",
       "            </tr>\n",
       "            <tr>\n",
       "                        <th id=\"T_524c1fe4_d4ba_11ea_abc0_0433c279b76elevel0_row6\" class=\"row_heading level0 row6\" >KBA05_CCM1</th>\n",
       "                        <td id=\"T_524c1fe4_d4ba_11ea_abc0_0433c279b76erow6_col0\" class=\"data row6 col0\" >share of cars with less than 1399ccm</td>\n",
       "                        <td id=\"T_524c1fe4_d4ba_11ea_abc0_0433c279b76erow6_col1\" class=\"data row6 col1\" >-0.163035</td>\n",
       "            </tr>\n",
       "            <tr>\n",
       "                        <th id=\"T_524c1fe4_d4ba_11ea_abc0_0433c279b76elevel0_row7\" class=\"row_heading level0 row7\" >KBA05_SEG2</th>\n",
       "                        <td id=\"T_524c1fe4_d4ba_11ea_abc0_0433c279b76erow7_col0\" class=\"data row7 col0\" >share of small and very small cars (Ford Fiesta, Ford Ka etc.) in the microcell</td>\n",
       "                        <td id=\"T_524c1fe4_d4ba_11ea_abc0_0433c279b76erow7_col1\" class=\"data row7 col1\" >-0.161337</td>\n",
       "            </tr>\n",
       "            <tr>\n",
       "                        <th id=\"T_524c1fe4_d4ba_11ea_abc0_0433c279b76elevel0_row8\" class=\"row_heading level0 row8\" >KBA05_KRSKLEIN</th>\n",
       "                        <td id=\"T_524c1fe4_d4ba_11ea_abc0_0433c279b76erow8_col0\" class=\"data row8 col0\" >share of small cars (referred to the county average)</td>\n",
       "                        <td id=\"T_524c1fe4_d4ba_11ea_abc0_0433c279b76erow8_col1\" class=\"data row8 col1\" >-0.155747</td>\n",
       "            </tr>\n",
       "            <tr>\n",
       "                        <th id=\"T_524c1fe4_d4ba_11ea_abc0_0433c279b76elevel0_row9\" class=\"row_heading level0 row9\" >KBA13_KMH_211</th>\n",
       "                        <td id=\"T_524c1fe4_d4ba_11ea_abc0_0433c279b76erow9_col0\" class=\"data row9 col0\" >share of cars with a greater max speed than 210 km/h within the PLZ8</td>\n",
       "                        <td id=\"T_524c1fe4_d4ba_11ea_abc0_0433c279b76erow9_col1\" class=\"data row9 col1\" >-0.124827</td>\n",
       "            </tr>\n",
       "    </tbody></table>"
      ],
      "text/plain": [
       "<pandas.io.formats.style.Styler at 0x1c3c332ef08>"
      ]
     },
     "metadata": {},
     "output_type": "display_data"
    },
    {
     "name": "stdout",
     "output_type": "stream",
     "text": [
      "Component  8\n"
     ]
    },
    {
     "data": {
      "text/html": [
       "<style  type=\"text/css\" >\n",
       "    #T_5250b3d2_d4ba_11ea_a800_0433c279b76erow0_col1 {\n",
       "            background-color:  #083a7a;\n",
       "            color:  #f1f1f1;\n",
       "        }    #T_5250b3d2_d4ba_11ea_a800_0433c279b76erow1_col1 {\n",
       "            background-color:  #083979;\n",
       "            color:  #f1f1f1;\n",
       "        }    #T_5250b3d2_d4ba_11ea_a800_0433c279b76erow2_col1 {\n",
       "            background-color:  #083877;\n",
       "            color:  #f1f1f1;\n",
       "        }    #T_5250b3d2_d4ba_11ea_a800_0433c279b76erow3_col1 {\n",
       "            background-color:  #08326e;\n",
       "            color:  #f1f1f1;\n",
       "        }    #T_5250b3d2_d4ba_11ea_a800_0433c279b76erow4_col1 {\n",
       "            background-color:  #08306b;\n",
       "            color:  #f1f1f1;\n",
       "        }    #T_5250b3d2_d4ba_11ea_a800_0433c279b76erow5_col1 {\n",
       "            background-color:  #f7fbff;\n",
       "            color:  #000000;\n",
       "        }    #T_5250b3d2_d4ba_11ea_a800_0433c279b76erow6_col1 {\n",
       "            background-color:  #f7fbff;\n",
       "            color:  #000000;\n",
       "        }    #T_5250b3d2_d4ba_11ea_a800_0433c279b76erow7_col1 {\n",
       "            background-color:  #e2edf8;\n",
       "            color:  #000000;\n",
       "        }    #T_5250b3d2_d4ba_11ea_a800_0433c279b76erow8_col1 {\n",
       "            background-color:  #e2edf8;\n",
       "            color:  #000000;\n",
       "        }    #T_5250b3d2_d4ba_11ea_a800_0433c279b76erow9_col1 {\n",
       "            background-color:  #e0ecf8;\n",
       "            color:  #000000;\n",
       "        }</style><table id=\"T_5250b3d2_d4ba_11ea_a800_0433c279b76e\" ><thead>    <tr>        <th class=\"blank level0\" ></th>        <th class=\"col_heading level0 col0\" >Description</th>        <th class=\"col_heading level0 col1\" >8</th>    </tr></thead><tbody>\n",
       "                <tr>\n",
       "                        <th id=\"T_5250b3d2_d4ba_11ea_a800_0433c279b76elevel0_row0\" class=\"row_heading level0 row0\" >KBA13_HALTER_66</th>\n",
       "                        <td id=\"T_5250b3d2_d4ba_11ea_a800_0433c279b76erow0_col0\" class=\"data row0 col0\" >share of car owners over 66 within the PLZ8</td>\n",
       "                        <td id=\"T_5250b3d2_d4ba_11ea_a800_0433c279b76erow0_col1\" class=\"data row0 col1\" >0.14577</td>\n",
       "            </tr>\n",
       "            <tr>\n",
       "                        <th id=\"T_5250b3d2_d4ba_11ea_a800_0433c279b76elevel0_row1\" class=\"row_heading level0 row1\" >KBA13_SEG_GROSSRAUMVANS</th>\n",
       "                        <td id=\"T_5250b3d2_d4ba_11ea_a800_0433c279b76erow1_col0\" class=\"data row1 col0\" >share of big sized vans within the PLZ8</td>\n",
       "                        <td id=\"T_5250b3d2_d4ba_11ea_a800_0433c279b76erow1_col1\" class=\"data row1 col1\" >0.147115</td>\n",
       "            </tr>\n",
       "            <tr>\n",
       "                        <th id=\"T_5250b3d2_d4ba_11ea_a800_0433c279b76elevel0_row2\" class=\"row_heading level0 row2\" >KBA13_HALTER_65</th>\n",
       "                        <td id=\"T_5250b3d2_d4ba_11ea_a800_0433c279b76erow2_col0\" class=\"data row2 col0\" >share of car owners between 61 and 65 within the PLZ8</td>\n",
       "                        <td id=\"T_5250b3d2_d4ba_11ea_a800_0433c279b76erow2_col1\" class=\"data row2 col1\" >0.148501</td>\n",
       "            </tr>\n",
       "            <tr>\n",
       "                        <th id=\"T_5250b3d2_d4ba_11ea_a800_0433c279b76elevel0_row3\" class=\"row_heading level0 row3\" >KBA13_SEG_VAN</th>\n",
       "                        <td id=\"T_5250b3d2_d4ba_11ea_a800_0433c279b76erow3_col0\" class=\"data row3 col0\" >share of vans within the PLZ8</td>\n",
       "                        <td id=\"T_5250b3d2_d4ba_11ea_a800_0433c279b76erow3_col1\" class=\"data row3 col1\" >0.156464</td>\n",
       "            </tr>\n",
       "            <tr>\n",
       "                        <th id=\"T_5250b3d2_d4ba_11ea_a800_0433c279b76elevel0_row4\" class=\"row_heading level0 row4\" >KBA13_ALTERHALTER_61</th>\n",
       "                        <td id=\"T_5250b3d2_d4ba_11ea_a800_0433c279b76erow4_col0\" class=\"data row4 col0\" >share of car owners elder than 60 within the PLZ8</td>\n",
       "                        <td id=\"T_5250b3d2_d4ba_11ea_a800_0433c279b76erow4_col1\" class=\"data row4 col1\" >0.158947</td>\n",
       "            </tr>\n",
       "            <tr>\n",
       "                        <th id=\"T_5250b3d2_d4ba_11ea_a800_0433c279b76elevel0_row5\" class=\"row_heading level0 row5\" >KBA13_HERST_SONST</th>\n",
       "                        <td id=\"T_5250b3d2_d4ba_11ea_a800_0433c279b76erow5_col0\" class=\"data row5 col0\" >share of other cars within the PLZ8</td>\n",
       "                        <td id=\"T_5250b3d2_d4ba_11ea_a800_0433c279b76erow5_col1\" class=\"data row5 col1\" >-0.154752</td>\n",
       "            </tr>\n",
       "            <tr>\n",
       "                        <th id=\"T_5250b3d2_d4ba_11ea_a800_0433c279b76elevel0_row6\" class=\"row_heading level0 row6\" >KBA13_FAB_SONSTIGE</th>\n",
       "                        <td id=\"T_5250b3d2_d4ba_11ea_a800_0433c279b76erow6_col0\" class=\"data row6 col0\" >share of other Manufacturers within the PLZ8</td>\n",
       "                        <td id=\"T_5250b3d2_d4ba_11ea_a800_0433c279b76erow6_col1\" class=\"data row6 col1\" >-0.154752</td>\n",
       "            </tr>\n",
       "            <tr>\n",
       "                        <th id=\"T_5250b3d2_d4ba_11ea_a800_0433c279b76elevel0_row7\" class=\"row_heading level0 row7\" >KBA13_ALTERHALTER_30</th>\n",
       "                        <td id=\"T_5250b3d2_d4ba_11ea_a800_0433c279b76erow7_col0\" class=\"data row7 col0\" >share of car owners below 31 within the PLZ8</td>\n",
       "                        <td id=\"T_5250b3d2_d4ba_11ea_a800_0433c279b76erow7_col1\" class=\"data row7 col1\" >-0.121325</td>\n",
       "            </tr>\n",
       "            <tr>\n",
       "                        <th id=\"T_5250b3d2_d4ba_11ea_a800_0433c279b76elevel0_row8\" class=\"row_heading level0 row8\" >KBA13_ALTERHALTER_45</th>\n",
       "                        <td id=\"T_5250b3d2_d4ba_11ea_a800_0433c279b76erow8_col0\" class=\"data row8 col0\" >share of car owners between 31 and 45 within the PLZ8</td>\n",
       "                        <td id=\"T_5250b3d2_d4ba_11ea_a800_0433c279b76erow8_col1\" class=\"data row8 col1\" >-0.120791</td>\n",
       "            </tr>\n",
       "            <tr>\n",
       "                        <th id=\"T_5250b3d2_d4ba_11ea_a800_0433c279b76elevel0_row9\" class=\"row_heading level0 row9\" >KBA13_KMH_0_140</th>\n",
       "                        <td id=\"T_5250b3d2_d4ba_11ea_a800_0433c279b76erow9_col0\" class=\"data row9 col0\" >share of cars with max speed 140 km/h within the PLZ8</td>\n",
       "                        <td id=\"T_5250b3d2_d4ba_11ea_a800_0433c279b76erow9_col1\" class=\"data row9 col1\" >-0.118373</td>\n",
       "            </tr>\n",
       "    </tbody></table>"
      ],
      "text/plain": [
       "<pandas.io.formats.style.Styler at 0x1c3c21aa688>"
      ]
     },
     "metadata": {},
     "output_type": "display_data"
    },
    {
     "name": "stdout",
     "output_type": "stream",
     "text": [
      "Component  9\n"
     ]
    },
    {
     "data": {
      "text/html": [
       "<style  type=\"text/css\" >\n",
       "    #T_52560b0c_d4ba_11ea_a90b_0433c279b76erow0_col1 {\n",
       "            background-color:  #08468b;\n",
       "            color:  #f1f1f1;\n",
       "        }    #T_52560b0c_d4ba_11ea_a90b_0433c279b76erow1_col1 {\n",
       "            background-color:  #084082;\n",
       "            color:  #f1f1f1;\n",
       "        }    #T_52560b0c_d4ba_11ea_a90b_0433c279b76erow2_col1 {\n",
       "            background-color:  #083b7c;\n",
       "            color:  #f1f1f1;\n",
       "        }    #T_52560b0c_d4ba_11ea_a90b_0433c279b76erow3_col1 {\n",
       "            background-color:  #083370;\n",
       "            color:  #f1f1f1;\n",
       "        }    #T_52560b0c_d4ba_11ea_a90b_0433c279b76erow4_col1 {\n",
       "            background-color:  #08306b;\n",
       "            color:  #f1f1f1;\n",
       "        }    #T_52560b0c_d4ba_11ea_a90b_0433c279b76erow5_col1 {\n",
       "            background-color:  #f7fbff;\n",
       "            color:  #000000;\n",
       "        }    #T_52560b0c_d4ba_11ea_a90b_0433c279b76erow6_col1 {\n",
       "            background-color:  #e7f0fa;\n",
       "            color:  #000000;\n",
       "        }    #T_52560b0c_d4ba_11ea_a90b_0433c279b76erow7_col1 {\n",
       "            background-color:  #e7f0fa;\n",
       "            color:  #000000;\n",
       "        }    #T_52560b0c_d4ba_11ea_a90b_0433c279b76erow8_col1 {\n",
       "            background-color:  #dceaf6;\n",
       "            color:  #000000;\n",
       "        }    #T_52560b0c_d4ba_11ea_a90b_0433c279b76erow9_col1 {\n",
       "            background-color:  #dae8f6;\n",
       "            color:  #000000;\n",
       "        }</style><table id=\"T_52560b0c_d4ba_11ea_a90b_0433c279b76e\" ><thead>    <tr>        <th class=\"blank level0\" ></th>        <th class=\"col_heading level0 col0\" >Description</th>        <th class=\"col_heading level0 col1\" >9</th>    </tr></thead><tbody>\n",
       "                <tr>\n",
       "                        <th id=\"T_52560b0c_d4ba_11ea_a90b_0433c279b76elevel0_row0\" class=\"row_heading level0 row0\" >KBA13_HALTER_35</th>\n",
       "                        <td id=\"T_52560b0c_d4ba_11ea_a90b_0433c279b76erow0_col0\" class=\"data row0 col0\" >share of car owners between 31 and 35 within the PLZ8</td>\n",
       "                        <td id=\"T_52560b0c_d4ba_11ea_a90b_0433c279b76erow0_col1\" class=\"data row0 col1\" >0.147662</td>\n",
       "            </tr>\n",
       "            <tr>\n",
       "                        <th id=\"T_52560b0c_d4ba_11ea_a90b_0433c279b76elevel0_row1\" class=\"row_heading level0 row1\" >KBA13_CCM_1401_2500</th>\n",
       "                        <td id=\"T_52560b0c_d4ba_11ea_a90b_0433c279b76erow1_col0\" class=\"data row1 col0\" >-</td>\n",
       "                        <td id=\"T_52560b0c_d4ba_11ea_a90b_0433c279b76erow1_col1\" class=\"data row1 col1\" >0.154965</td>\n",
       "            </tr>\n",
       "            <tr>\n",
       "                        <th id=\"T_52560b0c_d4ba_11ea_a90b_0433c279b76elevel0_row2\" class=\"row_heading level0 row2\" >KBA13_KMH_140_210</th>\n",
       "                        <td id=\"T_52560b0c_d4ba_11ea_a90b_0433c279b76erow2_col0\" class=\"data row2 col0\" >share of cars with max speed between 140 and 210 km/h within the PLZ8</td>\n",
       "                        <td id=\"T_52560b0c_d4ba_11ea_a90b_0433c279b76erow2_col1\" class=\"data row2 col1\" >0.160391</td>\n",
       "            </tr>\n",
       "            <tr>\n",
       "                        <th id=\"T_52560b0c_d4ba_11ea_a90b_0433c279b76elevel0_row3\" class=\"row_heading level0 row3\" >KBA13_HALTER_40</th>\n",
       "                        <td id=\"T_52560b0c_d4ba_11ea_a90b_0433c279b76erow3_col0\" class=\"data row3 col0\" >share of car owners between 36 and 40 within the PLZ8</td>\n",
       "                        <td id=\"T_52560b0c_d4ba_11ea_a90b_0433c279b76erow3_col1\" class=\"data row3 col1\" >0.171389</td>\n",
       "            </tr>\n",
       "            <tr>\n",
       "                        <th id=\"T_52560b0c_d4ba_11ea_a90b_0433c279b76elevel0_row4\" class=\"row_heading level0 row4\" >KBA13_ALTERHALTER_45</th>\n",
       "                        <td id=\"T_52560b0c_d4ba_11ea_a90b_0433c279b76erow4_col0\" class=\"data row4 col0\" >share of car owners between 31 and 45 within the PLZ8</td>\n",
       "                        <td id=\"T_52560b0c_d4ba_11ea_a90b_0433c279b76erow4_col1\" class=\"data row4 col1\" >0.176649</td>\n",
       "            </tr>\n",
       "            <tr>\n",
       "                        <th id=\"T_52560b0c_d4ba_11ea_a90b_0433c279b76elevel0_row5\" class=\"row_heading level0 row5\" >KBA13_ANZAHL_PKW</th>\n",
       "                        <td id=\"T_52560b0c_d4ba_11ea_a90b_0433c279b76erow5_col0\" class=\"data row5 col0\" >number of cars in the PLZ8</td>\n",
       "                        <td id=\"T_52560b0c_d4ba_11ea_a90b_0433c279b76erow5_col1\" class=\"data row5 col1\" >-0.175941</td>\n",
       "            </tr>\n",
       "            <tr>\n",
       "                        <th id=\"T_52560b0c_d4ba_11ea_a90b_0433c279b76elevel0_row6\" class=\"row_heading level0 row6\" >PLZ8_HHZ</th>\n",
       "                        <td id=\"T_52560b0c_d4ba_11ea_a90b_0433c279b76erow6_col0\" class=\"data row6 col0\" >number of households within the PLZ8</td>\n",
       "                        <td id=\"T_52560b0c_d4ba_11ea_a90b_0433c279b76erow6_col1\" class=\"data row6 col1\" >-0.146746</td>\n",
       "            </tr>\n",
       "            <tr>\n",
       "                        <th id=\"T_52560b0c_d4ba_11ea_a90b_0433c279b76elevel0_row7\" class=\"row_heading level0 row7\" >KBA13_HHZ</th>\n",
       "                        <td id=\"T_52560b0c_d4ba_11ea_a90b_0433c279b76erow7_col0\" class=\"data row7 col0\" >-</td>\n",
       "                        <td id=\"T_52560b0c_d4ba_11ea_a90b_0433c279b76erow7_col1\" class=\"data row7 col1\" >-0.146468</td>\n",
       "            </tr>\n",
       "            <tr>\n",
       "                        <th id=\"T_52560b0c_d4ba_11ea_a90b_0433c279b76elevel0_row8\" class=\"row_heading level0 row8\" >KBA13_HALTER_60</th>\n",
       "                        <td id=\"T_52560b0c_d4ba_11ea_a90b_0433c279b76erow8_col0\" class=\"data row8 col0\" >share of car owners between 56 and 60 within the PLZ8</td>\n",
       "                        <td id=\"T_52560b0c_d4ba_11ea_a90b_0433c279b76erow8_col1\" class=\"data row8 col1\" >-0.12799</td>\n",
       "            </tr>\n",
       "            <tr>\n",
       "                        <th id=\"T_52560b0c_d4ba_11ea_a90b_0433c279b76elevel0_row9\" class=\"row_heading level0 row9\" >KBA13_KW_30</th>\n",
       "                        <td id=\"T_52560b0c_d4ba_11ea_a90b_0433c279b76erow9_col0\" class=\"data row9 col0\" >share of cars up to 30 KW engine power - PLZ8</td>\n",
       "                        <td id=\"T_52560b0c_d4ba_11ea_a90b_0433c279b76erow9_col1\" class=\"data row9 col1\" >-0.124875</td>\n",
       "            </tr>\n",
       "    </tbody></table>"
      ],
      "text/plain": [
       "<pandas.io.formats.style.Styler at 0x1c3c6159e48>"
      ]
     },
     "metadata": {},
     "output_type": "display_data"
    }
   ],
   "source": [
    "# looking into the features of the first 10 components\n",
    "for comp in range(0, 10):\n",
    "    print('Component ', comp)\n",
    "    display(most_relevant_feats(comp, 5).style.background_gradient(cmap='Blues',subset=[comp]))"
   ]
  },
  {
   "cell_type": "markdown",
   "metadata": {},
   "source": [
    "We notice that some of the features are not present in the feature description file, what difficultates the interpretation of each component."
   ]
  },
  {
   "cell_type": "markdown",
   "metadata": {},
   "source": [
    "### Part 1.5: Clustering General Population & Customers\n",
    "\n",
    "In this substep, I used sklearn's [KMeans](https://scikit-learn.org/stable/modules/generated/sklearn.cluster.KMeans.html#sklearn.cluster.KMeans) class to perform k-means clustering on the PCA-transformed data. \n",
    "\n",
    "The elbow method (with the KMeans object's .score() method, i.e. average within-cluster distance) was applied to define the optimal number of clusters."
   ]
  },
  {
   "cell_type": "code",
   "execution_count": 103,
   "metadata": {},
   "outputs": [
    {
     "name": "stdout",
     "output_type": "stream",
     "text": [
      "Time elapsed: 48.90599434375763 minutes\n"
     ]
    }
   ],
   "source": [
    "# performing and scoring KMeans up to 15 clusters\n",
    "start = time.time()\n",
    "clusters = list(range(1,16))\n",
    "scores = []\n",
    "\n",
    "for cluster in clusters:\n",
    "    kmeans_k = KMeans(cluster)\n",
    "    model_k = kmeans_k.fit(azdias_pca)\n",
    "    scores.append(abs(model_k.score(azdias_pca)))\n",
    "\n",
    "end = time.time()\n",
    "print(\"Time elapsed: {} minutes\".format((end-start)/60))"
   ]
  },
  {
   "cell_type": "code",
   "execution_count": 104,
   "metadata": {},
   "outputs": [
    {
     "data": {
      "image/png": "[encoded data removed]",
      "text/plain": [
       "<Figure size 1080x720 with 1 Axes>"
      ]
     },
     "metadata": {
      "needs_background": "light"
     },
     "output_type": "display_data"
    }
   ],
   "source": [
    "# Visualizing results\n",
    "\n",
    "plt.figure(figsize=(15,10))\n",
    "plt.plot(clusters, scores, linestyle='-', marker='o');\n",
    "plt.title('K-Means: # Clusters Analysis')\n",
    "plt.ylabel('Average Within-Cluster Distances');\n",
    "plt.xlabel('# Clusters');"
   ]
  },
  {
   "cell_type": "markdown",
   "metadata": {},
   "source": [
    "The picture above shows a rather constant rate of decay after 10 clusters, so we will pick this number for our model."
   ]
  },
  {
   "cell_type": "code",
   "execution_count": 171,
   "metadata": {},
   "outputs": [
    {
     "name": "stdout",
     "output_type": "stream",
     "text": [
      "Wall time: 4min 26s\n"
     ]
    }
   ],
   "source": [
    "%%time\n",
    "kmeans_k = KMeans(10)\n",
    "model_k = kmeans_k.fit(azdias_pca)\n",
    "\n",
    "# General Population\n",
    "prediction_clusters_azdias = model_k.predict(azdias_pca)"
   ]
  },
  {
   "cell_type": "code",
   "execution_count": 172,
   "metadata": {},
   "outputs": [],
   "source": [
    "# Customers\n",
    "prediction_clusters_cust = model_k.predict(cust_pca)"
   ]
  },
  {
   "cell_type": "code",
   "execution_count": 173,
   "metadata": {},
   "outputs": [
    {
     "data": {
      "text/plain": [
       "array([5, 5, 8, ..., 5, 3, 8])"
      ]
     },
     "execution_count": 173,
     "metadata": {},
     "output_type": "execute_result"
    }
   ],
   "source": [
    "# Taking a look at the clusters\n",
    "\n",
    "prediction_clusters_azdias"
   ]
  },
  {
   "cell_type": "markdown",
   "metadata": {},
   "source": [
    "### Part 1.6: Comparing Clusters\n",
    "\n",
    "Consider the proportion of persons in each cluster for the general population, and the proportions for the customers. If we think the company's customer base to be universal, then the cluster assignment proportions should be fairly similar between the two. \n",
    "\n",
    "If there are only particular segments of the population that are interested in the company's products, then we should see a mismatch from one to the other. If there is a higher proportion of persons in a cluster for the customer data compared to the general population (e.g. 5% of persons are assigned to a cluster for the general population, but 15% of the customer data is closest to that cluster's centroid) then that suggests the people in that cluster to be a target audience for the company. \n",
    "\n",
    "On the other hand, the proportion of the data in a cluster being larger in the general population than the customer data (e.g. only 2% of customers closest to a population centroid that captures 6% of the data) suggests that group of persons to be outside of the target demographics."
   ]
  },
  {
   "cell_type": "code",
   "execution_count": 174,
   "metadata": {},
   "outputs": [
    {
     "data": {
      "text/html": [
       "<style  type=\"text/css\" >\n",
       "    #T_83bfc26e_d4bd_11ea_86a2_0433c279b76erow0_col0 {\n",
       "            background-color:  #08306b;\n",
       "            color:  #f1f1f1;\n",
       "        }    #T_83bfc26e_d4bd_11ea_86a2_0433c279b76erow1_col0 {\n",
       "            background-color:  #2979b9;\n",
       "            color:  #000000;\n",
       "        }    #T_83bfc26e_d4bd_11ea_86a2_0433c279b76erow2_col0 {\n",
       "            background-color:  #61a7d2;\n",
       "            color:  #000000;\n",
       "        }    #T_83bfc26e_d4bd_11ea_86a2_0433c279b76erow3_col0 {\n",
       "            background-color:  #6dafd7;\n",
       "            color:  #000000;\n",
       "        }    #T_83bfc26e_d4bd_11ea_86a2_0433c279b76erow4_col0 {\n",
       "            background-color:  #b0d2e7;\n",
       "            color:  #000000;\n",
       "        }    #T_83bfc26e_d4bd_11ea_86a2_0433c279b76erow5_col0 {\n",
       "            background-color:  #b3d3e8;\n",
       "            color:  #000000;\n",
       "        }    #T_83bfc26e_d4bd_11ea_86a2_0433c279b76erow6_col0 {\n",
       "            background-color:  #b7d4ea;\n",
       "            color:  #000000;\n",
       "        }    #T_83bfc26e_d4bd_11ea_86a2_0433c279b76erow7_col0 {\n",
       "            background-color:  #dfebf7;\n",
       "            color:  #000000;\n",
       "        }    #T_83bfc26e_d4bd_11ea_86a2_0433c279b76erow8_col0 {\n",
       "            background-color:  #e7f0fa;\n",
       "            color:  #000000;\n",
       "        }    #T_83bfc26e_d4bd_11ea_86a2_0433c279b76erow9_col0 {\n",
       "            background-color:  #f7fbff;\n",
       "            color:  #000000;\n",
       "        }</style><table id=\"T_83bfc26e_d4bd_11ea_86a2_0433c279b76e\" ><thead>    <tr>        <th class=\"blank level0\" ></th>        <th class=\"col_heading level0 col0\" >Delta</th>        <th class=\"col_heading level0 col1\" >% Customers</th>        <th class=\"col_heading level0 col2\" >% General Population</th>    </tr></thead><tbody>\n",
       "                <tr>\n",
       "                        <th id=\"T_83bfc26e_d4bd_11ea_86a2_0433c279b76elevel0_row0\" class=\"row_heading level0 row0\" >9</th>\n",
       "                        <td id=\"T_83bfc26e_d4bd_11ea_86a2_0433c279b76erow0_col0\" class=\"data row0 col0\" >5.44</td>\n",
       "                        <td id=\"T_83bfc26e_d4bd_11ea_86a2_0433c279b76erow0_col1\" class=\"data row0 col1\" >18.23</td>\n",
       "                        <td id=\"T_83bfc26e_d4bd_11ea_86a2_0433c279b76erow0_col2\" class=\"data row0 col2\" >12.8</td>\n",
       "            </tr>\n",
       "            <tr>\n",
       "                        <th id=\"T_83bfc26e_d4bd_11ea_86a2_0433c279b76elevel0_row1\" class=\"row_heading level0 row1\" >0</th>\n",
       "                        <td id=\"T_83bfc26e_d4bd_11ea_86a2_0433c279b76erow1_col0\" class=\"data row1 col0\" >2.96</td>\n",
       "                        <td id=\"T_83bfc26e_d4bd_11ea_86a2_0433c279b76erow1_col1\" class=\"data row1 col1\" >10.79</td>\n",
       "                        <td id=\"T_83bfc26e_d4bd_11ea_86a2_0433c279b76erow1_col2\" class=\"data row1 col2\" >7.82</td>\n",
       "            </tr>\n",
       "            <tr>\n",
       "                        <th id=\"T_83bfc26e_d4bd_11ea_86a2_0433c279b76elevel0_row2\" class=\"row_heading level0 row2\" >4</th>\n",
       "                        <td id=\"T_83bfc26e_d4bd_11ea_86a2_0433c279b76erow2_col0\" class=\"data row2 col0\" >1.26</td>\n",
       "                        <td id=\"T_83bfc26e_d4bd_11ea_86a2_0433c279b76erow2_col1\" class=\"data row2 col1\" >7.63</td>\n",
       "                        <td id=\"T_83bfc26e_d4bd_11ea_86a2_0433c279b76erow2_col2\" class=\"data row2 col2\" >6.37</td>\n",
       "            </tr>\n",
       "            <tr>\n",
       "                        <th id=\"T_83bfc26e_d4bd_11ea_86a2_0433c279b76elevel0_row3\" class=\"row_heading level0 row3\" >1</th>\n",
       "                        <td id=\"T_83bfc26e_d4bd_11ea_86a2_0433c279b76erow3_col0\" class=\"data row3 col0\" >0.94</td>\n",
       "                        <td id=\"T_83bfc26e_d4bd_11ea_86a2_0433c279b76erow3_col1\" class=\"data row3 col1\" >7.41</td>\n",
       "                        <td id=\"T_83bfc26e_d4bd_11ea_86a2_0433c279b76erow3_col2\" class=\"data row3 col2\" >6.47</td>\n",
       "            </tr>\n",
       "            <tr>\n",
       "                        <th id=\"T_83bfc26e_d4bd_11ea_86a2_0433c279b76elevel0_row4\" class=\"row_heading level0 row4\" >5</th>\n",
       "                        <td id=\"T_83bfc26e_d4bd_11ea_86a2_0433c279b76erow4_col0\" class=\"data row4 col0\" >-0.63</td>\n",
       "                        <td id=\"T_83bfc26e_d4bd_11ea_86a2_0433c279b76erow4_col1\" class=\"data row4 col1\" >13.4</td>\n",
       "                        <td id=\"T_83bfc26e_d4bd_11ea_86a2_0433c279b76erow4_col2\" class=\"data row4 col2\" >14.03</td>\n",
       "            </tr>\n",
       "            <tr>\n",
       "                        <th id=\"T_83bfc26e_d4bd_11ea_86a2_0433c279b76elevel0_row5\" class=\"row_heading level0 row5\" >8</th>\n",
       "                        <td id=\"T_83bfc26e_d4bd_11ea_86a2_0433c279b76erow5_col0\" class=\"data row5 col0\" >-0.68</td>\n",
       "                        <td id=\"T_83bfc26e_d4bd_11ea_86a2_0433c279b76erow5_col1\" class=\"data row5 col1\" >11.94</td>\n",
       "                        <td id=\"T_83bfc26e_d4bd_11ea_86a2_0433c279b76erow5_col2\" class=\"data row5 col2\" >12.62</td>\n",
       "            </tr>\n",
       "            <tr>\n",
       "                        <th id=\"T_83bfc26e_d4bd_11ea_86a2_0433c279b76elevel0_row6\" class=\"row_heading level0 row6\" >7</th>\n",
       "                        <td id=\"T_83bfc26e_d4bd_11ea_86a2_0433c279b76erow6_col0\" class=\"data row6 col0\" >-0.79</td>\n",
       "                        <td id=\"T_83bfc26e_d4bd_11ea_86a2_0433c279b76erow6_col1\" class=\"data row6 col1\" >9.14</td>\n",
       "                        <td id=\"T_83bfc26e_d4bd_11ea_86a2_0433c279b76erow6_col2\" class=\"data row6 col2\" >9.94</td>\n",
       "            </tr>\n",
       "            <tr>\n",
       "                        <th id=\"T_83bfc26e_d4bd_11ea_86a2_0433c279b76elevel0_row7\" class=\"row_heading level0 row7\" >3</th>\n",
       "                        <td id=\"T_83bfc26e_d4bd_11ea_86a2_0433c279b76erow7_col0\" class=\"data row7 col0\" >-2.35</td>\n",
       "                        <td id=\"T_83bfc26e_d4bd_11ea_86a2_0433c279b76erow7_col1\" class=\"data row7 col1\" >8.3</td>\n",
       "                        <td id=\"T_83bfc26e_d4bd_11ea_86a2_0433c279b76erow7_col2\" class=\"data row7 col2\" >10.65</td>\n",
       "            </tr>\n",
       "            <tr>\n",
       "                        <th id=\"T_83bfc26e_d4bd_11ea_86a2_0433c279b76elevel0_row8\" class=\"row_heading level0 row8\" >6</th>\n",
       "                        <td id=\"T_83bfc26e_d4bd_11ea_86a2_0433c279b76erow8_col0\" class=\"data row8 col0\" >-2.7</td>\n",
       "                        <td id=\"T_83bfc26e_d4bd_11ea_86a2_0433c279b76erow8_col1\" class=\"data row8 col1\" >4.31</td>\n",
       "                        <td id=\"T_83bfc26e_d4bd_11ea_86a2_0433c279b76erow8_col2\" class=\"data row8 col2\" >7.01</td>\n",
       "            </tr>\n",
       "            <tr>\n",
       "                        <th id=\"T_83bfc26e_d4bd_11ea_86a2_0433c279b76elevel0_row9\" class=\"row_heading level0 row9\" >2</th>\n",
       "                        <td id=\"T_83bfc26e_d4bd_11ea_86a2_0433c279b76erow9_col0\" class=\"data row9 col0\" >-3.46</td>\n",
       "                        <td id=\"T_83bfc26e_d4bd_11ea_86a2_0433c279b76erow9_col1\" class=\"data row9 col1\" >8.85</td>\n",
       "                        <td id=\"T_83bfc26e_d4bd_11ea_86a2_0433c279b76erow9_col2\" class=\"data row9 col2\" >12.3</td>\n",
       "            </tr>\n",
       "    </tbody></table>"
      ],
      "text/plain": [
       "<pandas.io.formats.style.Styler at 0x1c3bdf6c948>"
      ]
     },
     "execution_count": 174,
     "metadata": {},
     "output_type": "execute_result"
    }
   ],
   "source": [
    "# Comparing % of individuals in each cluster for customers and general population\n",
    "cust_df = pd.DataFrame(100*pd.Series(prediction_clusters_cust).value_counts()/len(prediction_clusters_cust))\n",
    "pop_df = pd.DataFrame(100*pd.Series(prediction_clusters_azdias).value_counts()/len(prediction_clusters_azdias))\n",
    "diff = pd.DataFrame(cust_df-pop_df)\n",
    "diff.rename(columns={0: 'Delta'}, inplace = True)\n",
    "cust_df.rename(columns={0: '% Customers'}, inplace = True)\n",
    "pop_df.rename(columns={0: '% General Population'}, inplace = True)\n",
    "diff_comp = diff.merge(cust_df, left_index = True, right_index = True).merge(pop_df, left_index = True, right_index = True)\n",
    "diff_comp.round(2).sort_values(by='Delta', ascending=False).style.background_gradient(cmap='Blues',subset=['Delta'])"
   ]
  },
  {
   "cell_type": "code",
   "execution_count": 178,
   "metadata": {},
   "outputs": [
    {
     "name": "stdout",
     "output_type": "stream",
     "text": [
      "\n",
      " CLUSTER  9\n",
      "Negative Components:  [0 1]\n"
     ]
    },
    {
     "data": {
      "text/html": [
       "<style  type=\"text/css\" >\n",
       "    #T_d3c9567e_d4bd_11ea_9045_0433c279b76erow0_col1 {\n",
       "            background-color:  #7e0610;\n",
       "            color:  #f1f1f1;\n",
       "        }    #T_d3c9567e_d4bd_11ea_9045_0433c279b76erow1_col1 {\n",
       "            background-color:  #79040f;\n",
       "            color:  #f1f1f1;\n",
       "        }    #T_d3c9567e_d4bd_11ea_9045_0433c279b76erow2_col1 {\n",
       "            background-color:  #73030f;\n",
       "            color:  #f1f1f1;\n",
       "        }    #T_d3c9567e_d4bd_11ea_9045_0433c279b76erow3_col1 {\n",
       "            background-color:  #71020e;\n",
       "            color:  #f1f1f1;\n",
       "        }    #T_d3c9567e_d4bd_11ea_9045_0433c279b76erow4_col1 {\n",
       "            background-color:  #67000d;\n",
       "            color:  #f1f1f1;\n",
       "        }    #T_d3c9567e_d4bd_11ea_9045_0433c279b76erow5_col1 {\n",
       "            background-color:  #fff5f0;\n",
       "            color:  #000000;\n",
       "        }    #T_d3c9567e_d4bd_11ea_9045_0433c279b76erow6_col1 {\n",
       "            background-color:  #fff5f0;\n",
       "            color:  #000000;\n",
       "        }    #T_d3c9567e_d4bd_11ea_9045_0433c279b76erow7_col1 {\n",
       "            background-color:  #fff3ed;\n",
       "            color:  #000000;\n",
       "        }    #T_d3c9567e_d4bd_11ea_9045_0433c279b76erow8_col1 {\n",
       "            background-color:  #fff2ec;\n",
       "            color:  #000000;\n",
       "        }    #T_d3c9567e_d4bd_11ea_9045_0433c279b76erow9_col1 {\n",
       "            background-color:  #fff2ec;\n",
       "            color:  #000000;\n",
       "        }</style><table id=\"T_d3c9567e_d4bd_11ea_9045_0433c279b76e\" ><thead>    <tr>        <th class=\"blank level0\" ></th>        <th class=\"col_heading level0 col0\" >Description</th>        <th class=\"col_heading level0 col1\" >0</th>    </tr></thead><tbody>\n",
       "                <tr>\n",
       "                        <th id=\"T_d3c9567e_d4bd_11ea_9045_0433c279b76elevel0_row0\" class=\"row_heading level0 row0\" >MOBI_RASTER</th>\n",
       "                        <td id=\"T_d3c9567e_d4bd_11ea_9045_0433c279b76erow0_col0\" class=\"data row0 col0\" >-</td>\n",
       "                        <td id=\"T_d3c9567e_d4bd_11ea_9045_0433c279b76erow0_col1\" class=\"data row0 col1\" >0.127864</td>\n",
       "            </tr>\n",
       "            <tr>\n",
       "                        <th id=\"T_d3c9567e_d4bd_11ea_9045_0433c279b76elevel0_row1\" class=\"row_heading level0 row1\" >KBA05_ANTG1</th>\n",
       "                        <td id=\"T_d3c9567e_d4bd_11ea_9045_0433c279b76erow1_col0\" class=\"data row1 col0\" >number of 1-2 family houses in the cell</td>\n",
       "                        <td id=\"T_d3c9567e_d4bd_11ea_9045_0433c279b76erow1_col1\" class=\"data row1 col1\" >0.130827</td>\n",
       "            </tr>\n",
       "            <tr>\n",
       "                        <th id=\"T_d3c9567e_d4bd_11ea_9045_0433c279b76elevel0_row2\" class=\"row_heading level0 row2\" >KBA13_ANTG1</th>\n",
       "                        <td id=\"T_d3c9567e_d4bd_11ea_9045_0433c279b76erow2_col0\" class=\"data row2 col0\" >-</td>\n",
       "                        <td id=\"T_d3c9567e_d4bd_11ea_9045_0433c279b76erow2_col1\" class=\"data row2 col1\" >0.134723</td>\n",
       "            </tr>\n",
       "            <tr>\n",
       "                        <th id=\"T_d3c9567e_d4bd_11ea_9045_0433c279b76elevel0_row3\" class=\"row_heading level0 row3\" >PLZ8_ANTG1</th>\n",
       "                        <td id=\"T_d3c9567e_d4bd_11ea_9045_0433c279b76erow3_col0\" class=\"data row3 col0\" >number of 1-2 family houses in the PLZ8</td>\n",
       "                        <td id=\"T_d3c9567e_d4bd_11ea_9045_0433c279b76erow3_col1\" class=\"data row3 col1\" >0.135135</td>\n",
       "            </tr>\n",
       "            <tr>\n",
       "                        <th id=\"T_d3c9567e_d4bd_11ea_9045_0433c279b76elevel0_row4\" class=\"row_heading level0 row4\" >MOBI_REGIO</th>\n",
       "                        <td id=\"T_d3c9567e_d4bd_11ea_9045_0433c279b76erow4_col0\" class=\"data row4 col0\" >moving patterns</td>\n",
       "                        <td id=\"T_d3c9567e_d4bd_11ea_9045_0433c279b76erow4_col1\" class=\"data row4 col1\" >0.141189</td>\n",
       "            </tr>\n",
       "            <tr>\n",
       "                        <th id=\"T_d3c9567e_d4bd_11ea_9045_0433c279b76elevel0_row5\" class=\"row_heading level0 row5\" >PLZ8_ANTG3</th>\n",
       "                        <td id=\"T_d3c9567e_d4bd_11ea_9045_0433c279b76erow5_col0\" class=\"data row5 col0\" >number of 6-10 family houses in the PLZ8</td>\n",
       "                        <td id=\"T_d3c9567e_d4bd_11ea_9045_0433c279b76erow5_col1\" class=\"data row5 col1\" >-0.133818</td>\n",
       "            </tr>\n",
       "            <tr>\n",
       "                        <th id=\"T_d3c9567e_d4bd_11ea_9045_0433c279b76elevel0_row6\" class=\"row_heading level0 row6\" >KBA13_ANTG3</th>\n",
       "                        <td id=\"T_d3c9567e_d4bd_11ea_9045_0433c279b76erow6_col0\" class=\"data row6 col0\" >-</td>\n",
       "                        <td id=\"T_d3c9567e_d4bd_11ea_9045_0433c279b76erow6_col1\" class=\"data row6 col1\" >-0.133253</td>\n",
       "            </tr>\n",
       "            <tr>\n",
       "                        <th id=\"T_d3c9567e_d4bd_11ea_9045_0433c279b76elevel0_row7\" class=\"row_heading level0 row7\" >KBA13_ANTG4</th>\n",
       "                        <td id=\"T_d3c9567e_d4bd_11ea_9045_0433c279b76erow7_col0\" class=\"data row7 col0\" >-</td>\n",
       "                        <td id=\"T_d3c9567e_d4bd_11ea_9045_0433c279b76erow7_col1\" class=\"data row7 col1\" >-0.129879</td>\n",
       "            </tr>\n",
       "            <tr>\n",
       "                        <th id=\"T_d3c9567e_d4bd_11ea_9045_0433c279b76elevel0_row8\" class=\"row_heading level0 row8\" >KBA13_BAUMAX</th>\n",
       "                        <td id=\"T_d3c9567e_d4bd_11ea_9045_0433c279b76erow8_col0\" class=\"data row8 col0\" >-</td>\n",
       "                        <td id=\"T_d3c9567e_d4bd_11ea_9045_0433c279b76erow8_col1\" class=\"data row8 col1\" >-0.12926</td>\n",
       "            </tr>\n",
       "            <tr>\n",
       "                        <th id=\"T_d3c9567e_d4bd_11ea_9045_0433c279b76elevel0_row9\" class=\"row_heading level0 row9\" >PLZ8_ANTG4</th>\n",
       "                        <td id=\"T_d3c9567e_d4bd_11ea_9045_0433c279b76erow9_col0\" class=\"data row9 col0\" >number of >10 family houses in the PLZ8</td>\n",
       "                        <td id=\"T_d3c9567e_d4bd_11ea_9045_0433c279b76erow9_col1\" class=\"data row9 col1\" >-0.12856</td>\n",
       "            </tr>\n",
       "    </tbody></table>"
      ],
      "text/plain": [
       "<pandas.io.formats.style.Styler at 0x1c3bd3b2148>"
      ]
     },
     "metadata": {},
     "output_type": "display_data"
    },
    {
     "data": {
      "text/html": [
       "<style  type=\"text/css\" >\n",
       "    #T_d3ce3d70_d4bd_11ea_8a10_0433c279b76erow0_col1 {\n",
       "            background-color:  #7c0510;\n",
       "            color:  #f1f1f1;\n",
       "        }    #T_d3ce3d70_d4bd_11ea_8a10_0433c279b76erow1_col1 {\n",
       "            background-color:  #77040f;\n",
       "            color:  #f1f1f1;\n",
       "        }    #T_d3ce3d70_d4bd_11ea_8a10_0433c279b76erow2_col1 {\n",
       "            background-color:  #6b010e;\n",
       "            color:  #f1f1f1;\n",
       "        }    #T_d3ce3d70_d4bd_11ea_8a10_0433c279b76erow3_col1 {\n",
       "            background-color:  #69000d;\n",
       "            color:  #f1f1f1;\n",
       "        }    #T_d3ce3d70_d4bd_11ea_8a10_0433c279b76erow4_col1 {\n",
       "            background-color:  #67000d;\n",
       "            color:  #f1f1f1;\n",
       "        }    #T_d3ce3d70_d4bd_11ea_8a10_0433c279b76erow5_col1 {\n",
       "            background-color:  #fff5f0;\n",
       "            color:  #000000;\n",
       "        }    #T_d3ce3d70_d4bd_11ea_8a10_0433c279b76erow6_col1 {\n",
       "            background-color:  #fff0e8;\n",
       "            color:  #000000;\n",
       "        }    #T_d3ce3d70_d4bd_11ea_8a10_0433c279b76erow7_col1 {\n",
       "            background-color:  #ffeee7;\n",
       "            color:  #000000;\n",
       "        }    #T_d3ce3d70_d4bd_11ea_8a10_0433c279b76erow8_col1 {\n",
       "            background-color:  #feeae0;\n",
       "            color:  #000000;\n",
       "        }    #T_d3ce3d70_d4bd_11ea_8a10_0433c279b76erow9_col1 {\n",
       "            background-color:  #feeae0;\n",
       "            color:  #000000;\n",
       "        }</style><table id=\"T_d3ce3d70_d4bd_11ea_8a10_0433c279b76e\" ><thead>    <tr>        <th class=\"blank level0\" ></th>        <th class=\"col_heading level0 col0\" >Description</th>        <th class=\"col_heading level0 col1\" >1</th>    </tr></thead><tbody>\n",
       "                <tr>\n",
       "                        <th id=\"T_d3ce3d70_d4bd_11ea_8a10_0433c279b76elevel0_row0\" class=\"row_heading level0 row0\" >CJT_TYP_1</th>\n",
       "                        <td id=\"T_d3ce3d70_d4bd_11ea_8a10_0433c279b76erow0_col0\" class=\"data row0 col0\" >-</td>\n",
       "                        <td id=\"T_d3ce3d70_d4bd_11ea_8a10_0433c279b76erow0_col1\" class=\"data row0 col1\" >0.124903</td>\n",
       "            </tr>\n",
       "            <tr>\n",
       "                        <th id=\"T_d3ce3d70_d4bd_11ea_8a10_0433c279b76elevel0_row1\" class=\"row_heading level0 row1\" >FINANZ_SPARER</th>\n",
       "                        <td id=\"T_d3ce3d70_d4bd_11ea_8a10_0433c279b76erow1_col0\" class=\"data row1 col0\" >financial typology: money saver</td>\n",
       "                        <td id=\"T_d3ce3d70_d4bd_11ea_8a10_0433c279b76erow1_col1\" class=\"data row1 col1\" >0.127958</td>\n",
       "            </tr>\n",
       "            <tr>\n",
       "                        <th id=\"T_d3ce3d70_d4bd_11ea_8a10_0433c279b76elevel0_row2\" class=\"row_heading level0 row2\" >ONLINE_AFFINITAET</th>\n",
       "                        <td id=\"T_d3ce3d70_d4bd_11ea_8a10_0433c279b76erow2_col0\" class=\"data row2 col0\" >online affinity</td>\n",
       "                        <td id=\"T_d3ce3d70_d4bd_11ea_8a10_0433c279b76erow2_col1\" class=\"data row2 col1\" >0.134101</td>\n",
       "            </tr>\n",
       "            <tr>\n",
       "                        <th id=\"T_d3ce3d70_d4bd_11ea_8a10_0433c279b76elevel0_row3\" class=\"row_heading level0 row3\" >FINANZ_ANLEGER</th>\n",
       "                        <td id=\"T_d3ce3d70_d4bd_11ea_8a10_0433c279b76erow3_col0\" class=\"data row3 col0\" >financial typology: investor</td>\n",
       "                        <td id=\"T_d3ce3d70_d4bd_11ea_8a10_0433c279b76erow3_col1\" class=\"data row3 col1\" >0.135878</td>\n",
       "            </tr>\n",
       "            <tr>\n",
       "                        <th id=\"T_d3ce3d70_d4bd_11ea_8a10_0433c279b76elevel0_row4\" class=\"row_heading level0 row4\" >DECADE_PRAGENDE_JUGENDJAHRE</th>\n",
       "                        <td id=\"T_d3ce3d70_d4bd_11ea_8a10_0433c279b76erow4_col0\" class=\"data row4 col0\" >-</td>\n",
       "                        <td id=\"T_d3ce3d70_d4bd_11ea_8a10_0433c279b76erow4_col1\" class=\"data row4 col1\" >0.137129</td>\n",
       "            </tr>\n",
       "            <tr>\n",
       "                        <th id=\"T_d3ce3d70_d4bd_11ea_8a10_0433c279b76elevel0_row5\" class=\"row_heading level0 row5\" >FINANZ_VORSORGER</th>\n",
       "                        <td id=\"T_d3ce3d70_d4bd_11ea_8a10_0433c279b76erow5_col0\" class=\"data row5 col0\" >financial typology: be prepared</td>\n",
       "                        <td id=\"T_d3ce3d70_d4bd_11ea_8a10_0433c279b76erow5_col1\" class=\"data row5 col1\" >-0.129723</td>\n",
       "            </tr>\n",
       "            <tr>\n",
       "                        <th id=\"T_d3ce3d70_d4bd_11ea_8a10_0433c279b76elevel0_row6\" class=\"row_heading level0 row6\" >CJT_TYP_4</th>\n",
       "                        <td id=\"T_d3ce3d70_d4bd_11ea_8a10_0433c279b76erow6_col0\" class=\"data row6 col0\" >-</td>\n",
       "                        <td id=\"T_d3ce3d70_d4bd_11ea_8a10_0433c279b76erow6_col1\" class=\"data row6 col1\" >-0.120769</td>\n",
       "            </tr>\n",
       "            <tr>\n",
       "                        <th id=\"T_d3ce3d70_d4bd_11ea_8a10_0433c279b76elevel0_row7\" class=\"row_heading level0 row7\" >CJT_TYP_5</th>\n",
       "                        <td id=\"T_d3ce3d70_d4bd_11ea_8a10_0433c279b76erow7_col0\" class=\"data row7 col0\" >-</td>\n",
       "                        <td id=\"T_d3ce3d70_d4bd_11ea_8a10_0433c279b76erow7_col1\" class=\"data row7 col1\" >-0.118953</td>\n",
       "            </tr>\n",
       "            <tr>\n",
       "                        <th id=\"T_d3ce3d70_d4bd_11ea_8a10_0433c279b76elevel0_row8\" class=\"row_heading level0 row8\" >ALTERSKATEGORIE_GROB</th>\n",
       "                        <td id=\"T_d3ce3d70_d4bd_11ea_8a10_0433c279b76erow8_col0\" class=\"data row8 col0\" >age through prename analysis </td>\n",
       "                        <td id=\"T_d3ce3d70_d4bd_11ea_8a10_0433c279b76erow8_col1\" class=\"data row8 col1\" >-0.111833</td>\n",
       "            </tr>\n",
       "            <tr>\n",
       "                        <th id=\"T_d3ce3d70_d4bd_11ea_8a10_0433c279b76elevel0_row9\" class=\"row_heading level0 row9\" >D19_GESAMT_ONLINE_DATUM</th>\n",
       "                        <td id=\"T_d3ce3d70_d4bd_11ea_8a10_0433c279b76erow9_col0\" class=\"data row9 col0\" >actuality of the last transaction with the complete file ONLINE</td>\n",
       "                        <td id=\"T_d3ce3d70_d4bd_11ea_8a10_0433c279b76erow9_col1\" class=\"data row9 col1\" >-0.111587</td>\n",
       "            </tr>\n",
       "    </tbody></table>"
      ],
      "text/plain": [
       "<pandas.io.formats.style.Styler at 0x1c3bc7bbc88>"
      ]
     },
     "metadata": {},
     "output_type": "display_data"
    },
    {
     "name": "stdout",
     "output_type": "stream",
     "text": [
      "Positive Components:  [8 3]\n"
     ]
    },
    {
     "data": {
      "text/html": [
       "<style  type=\"text/css\" >\n",
       "    #T_d3d38f92_d4bd_11ea_8fd3_0433c279b76erow0_col1 {\n",
       "            background-color:  #7a0510;\n",
       "            color:  #f1f1f1;\n",
       "        }    #T_d3d38f92_d4bd_11ea_8fd3_0433c279b76erow1_col1 {\n",
       "            background-color:  #79040f;\n",
       "            color:  #f1f1f1;\n",
       "        }    #T_d3d38f92_d4bd_11ea_8fd3_0433c279b76erow2_col1 {\n",
       "            background-color:  #77040f;\n",
       "            color:  #f1f1f1;\n",
       "        }    #T_d3d38f92_d4bd_11ea_8fd3_0433c279b76erow3_col1 {\n",
       "            background-color:  #6b010e;\n",
       "            color:  #f1f1f1;\n",
       "        }    #T_d3d38f92_d4bd_11ea_8fd3_0433c279b76erow4_col1 {\n",
       "            background-color:  #67000d;\n",
       "            color:  #f1f1f1;\n",
       "        }    #T_d3d38f92_d4bd_11ea_8fd3_0433c279b76erow5_col1 {\n",
       "            background-color:  #fff5f0;\n",
       "            color:  #000000;\n",
       "        }    #T_d3d38f92_d4bd_11ea_8fd3_0433c279b76erow6_col1 {\n",
       "            background-color:  #fff5f0;\n",
       "            color:  #000000;\n",
       "        }    #T_d3d38f92_d4bd_11ea_8fd3_0433c279b76erow7_col1 {\n",
       "            background-color:  #fee3d7;\n",
       "            color:  #000000;\n",
       "        }    #T_d3d38f92_d4bd_11ea_8fd3_0433c279b76erow8_col1 {\n",
       "            background-color:  #fee3d7;\n",
       "            color:  #000000;\n",
       "        }    #T_d3d38f92_d4bd_11ea_8fd3_0433c279b76erow9_col1 {\n",
       "            background-color:  #fee2d5;\n",
       "            color:  #000000;\n",
       "        }</style><table id=\"T_d3d38f92_d4bd_11ea_8fd3_0433c279b76e\" ><thead>    <tr>        <th class=\"blank level0\" ></th>        <th class=\"col_heading level0 col0\" >Description</th>        <th class=\"col_heading level0 col1\" >8</th>    </tr></thead><tbody>\n",
       "                <tr>\n",
       "                        <th id=\"T_d3d38f92_d4bd_11ea_8fd3_0433c279b76elevel0_row0\" class=\"row_heading level0 row0\" >KBA13_HALTER_66</th>\n",
       "                        <td id=\"T_d3d38f92_d4bd_11ea_8fd3_0433c279b76erow0_col0\" class=\"data row0 col0\" >share of car owners over 66 within the PLZ8</td>\n",
       "                        <td id=\"T_d3d38f92_d4bd_11ea_8fd3_0433c279b76erow0_col1\" class=\"data row0 col1\" >0.14577</td>\n",
       "            </tr>\n",
       "            <tr>\n",
       "                        <th id=\"T_d3d38f92_d4bd_11ea_8fd3_0433c279b76elevel0_row1\" class=\"row_heading level0 row1\" >KBA13_SEG_GROSSRAUMVANS</th>\n",
       "                        <td id=\"T_d3d38f92_d4bd_11ea_8fd3_0433c279b76erow1_col0\" class=\"data row1 col0\" >share of big sized vans within the PLZ8</td>\n",
       "                        <td id=\"T_d3d38f92_d4bd_11ea_8fd3_0433c279b76erow1_col1\" class=\"data row1 col1\" >0.147115</td>\n",
       "            </tr>\n",
       "            <tr>\n",
       "                        <th id=\"T_d3d38f92_d4bd_11ea_8fd3_0433c279b76elevel0_row2\" class=\"row_heading level0 row2\" >KBA13_HALTER_65</th>\n",
       "                        <td id=\"T_d3d38f92_d4bd_11ea_8fd3_0433c279b76erow2_col0\" class=\"data row2 col0\" >share of car owners between 61 and 65 within the PLZ8</td>\n",
       "                        <td id=\"T_d3d38f92_d4bd_11ea_8fd3_0433c279b76erow2_col1\" class=\"data row2 col1\" >0.148501</td>\n",
       "            </tr>\n",
       "            <tr>\n",
       "                        <th id=\"T_d3d38f92_d4bd_11ea_8fd3_0433c279b76elevel0_row3\" class=\"row_heading level0 row3\" >KBA13_SEG_VAN</th>\n",
       "                        <td id=\"T_d3d38f92_d4bd_11ea_8fd3_0433c279b76erow3_col0\" class=\"data row3 col0\" >share of vans within the PLZ8</td>\n",
       "                        <td id=\"T_d3d38f92_d4bd_11ea_8fd3_0433c279b76erow3_col1\" class=\"data row3 col1\" >0.156464</td>\n",
       "            </tr>\n",
       "            <tr>\n",
       "                        <th id=\"T_d3d38f92_d4bd_11ea_8fd3_0433c279b76elevel0_row4\" class=\"row_heading level0 row4\" >KBA13_ALTERHALTER_61</th>\n",
       "                        <td id=\"T_d3d38f92_d4bd_11ea_8fd3_0433c279b76erow4_col0\" class=\"data row4 col0\" >share of car owners elder than 60 within the PLZ8</td>\n",
       "                        <td id=\"T_d3d38f92_d4bd_11ea_8fd3_0433c279b76erow4_col1\" class=\"data row4 col1\" >0.158947</td>\n",
       "            </tr>\n",
       "            <tr>\n",
       "                        <th id=\"T_d3d38f92_d4bd_11ea_8fd3_0433c279b76elevel0_row5\" class=\"row_heading level0 row5\" >KBA13_HERST_SONST</th>\n",
       "                        <td id=\"T_d3d38f92_d4bd_11ea_8fd3_0433c279b76erow5_col0\" class=\"data row5 col0\" >share of other cars within the PLZ8</td>\n",
       "                        <td id=\"T_d3d38f92_d4bd_11ea_8fd3_0433c279b76erow5_col1\" class=\"data row5 col1\" >-0.154752</td>\n",
       "            </tr>\n",
       "            <tr>\n",
       "                        <th id=\"T_d3d38f92_d4bd_11ea_8fd3_0433c279b76elevel0_row6\" class=\"row_heading level0 row6\" >KBA13_FAB_SONSTIGE</th>\n",
       "                        <td id=\"T_d3d38f92_d4bd_11ea_8fd3_0433c279b76erow6_col0\" class=\"data row6 col0\" >share of other Manufacturers within the PLZ8</td>\n",
       "                        <td id=\"T_d3d38f92_d4bd_11ea_8fd3_0433c279b76erow6_col1\" class=\"data row6 col1\" >-0.154752</td>\n",
       "            </tr>\n",
       "            <tr>\n",
       "                        <th id=\"T_d3d38f92_d4bd_11ea_8fd3_0433c279b76elevel0_row7\" class=\"row_heading level0 row7\" >KBA13_ALTERHALTER_30</th>\n",
       "                        <td id=\"T_d3d38f92_d4bd_11ea_8fd3_0433c279b76erow7_col0\" class=\"data row7 col0\" >share of car owners below 31 within the PLZ8</td>\n",
       "                        <td id=\"T_d3d38f92_d4bd_11ea_8fd3_0433c279b76erow7_col1\" class=\"data row7 col1\" >-0.121325</td>\n",
       "            </tr>\n",
       "            <tr>\n",
       "                        <th id=\"T_d3d38f92_d4bd_11ea_8fd3_0433c279b76elevel0_row8\" class=\"row_heading level0 row8\" >KBA13_ALTERHALTER_45</th>\n",
       "                        <td id=\"T_d3d38f92_d4bd_11ea_8fd3_0433c279b76erow8_col0\" class=\"data row8 col0\" >share of car owners between 31 and 45 within the PLZ8</td>\n",
       "                        <td id=\"T_d3d38f92_d4bd_11ea_8fd3_0433c279b76erow8_col1\" class=\"data row8 col1\" >-0.120791</td>\n",
       "            </tr>\n",
       "            <tr>\n",
       "                        <th id=\"T_d3d38f92_d4bd_11ea_8fd3_0433c279b76elevel0_row9\" class=\"row_heading level0 row9\" >KBA13_KMH_0_140</th>\n",
       "                        <td id=\"T_d3d38f92_d4bd_11ea_8fd3_0433c279b76erow9_col0\" class=\"data row9 col0\" >share of cars with max speed 140 km/h within the PLZ8</td>\n",
       "                        <td id=\"T_d3d38f92_d4bd_11ea_8fd3_0433c279b76erow9_col1\" class=\"data row9 col1\" >-0.118373</td>\n",
       "            </tr>\n",
       "    </tbody></table>"
      ],
      "text/plain": [
       "<pandas.io.formats.style.Styler at 0x1c3bc7bfd08>"
      ]
     },
     "metadata": {},
     "output_type": "display_data"
    },
    {
     "data": {
      "text/html": [
       "<style  type=\"text/css\" >\n",
       "    #T_d3d82540_d4bd_11ea_aacd_0433c279b76erow0_col1 {\n",
       "            background-color:  #8c0912;\n",
       "            color:  #f1f1f1;\n",
       "        }    #T_d3d82540_d4bd_11ea_aacd_0433c279b76erow1_col1 {\n",
       "            background-color:  #860811;\n",
       "            color:  #f1f1f1;\n",
       "        }    #T_d3d82540_d4bd_11ea_aacd_0433c279b76erow2_col1 {\n",
       "            background-color:  #75030f;\n",
       "            color:  #f1f1f1;\n",
       "        }    #T_d3d82540_d4bd_11ea_aacd_0433c279b76erow3_col1 {\n",
       "            background-color:  #75030f;\n",
       "            color:  #f1f1f1;\n",
       "        }    #T_d3d82540_d4bd_11ea_aacd_0433c279b76erow4_col1 {\n",
       "            background-color:  #67000d;\n",
       "            color:  #f1f1f1;\n",
       "        }    #T_d3d82540_d4bd_11ea_aacd_0433c279b76erow5_col1 {\n",
       "            background-color:  #fff5f0;\n",
       "            color:  #000000;\n",
       "        }    #T_d3d82540_d4bd_11ea_aacd_0433c279b76erow6_col1 {\n",
       "            background-color:  #fff4ee;\n",
       "            color:  #000000;\n",
       "        }    #T_d3d82540_d4bd_11ea_aacd_0433c279b76erow7_col1 {\n",
       "            background-color:  #ffefe8;\n",
       "            color:  #000000;\n",
       "        }    #T_d3d82540_d4bd_11ea_aacd_0433c279b76erow8_col1 {\n",
       "            background-color:  #ffece3;\n",
       "            color:  #000000;\n",
       "        }    #T_d3d82540_d4bd_11ea_aacd_0433c279b76erow9_col1 {\n",
       "            background-color:  #ffebe2;\n",
       "            color:  #000000;\n",
       "        }</style><table id=\"T_d3d82540_d4bd_11ea_aacd_0433c279b76e\" ><thead>    <tr>        <th class=\"blank level0\" ></th>        <th class=\"col_heading level0 col0\" >Description</th>        <th class=\"col_heading level0 col1\" >3</th>    </tr></thead><tbody>\n",
       "                <tr>\n",
       "                        <th id=\"T_d3d82540_d4bd_11ea_aacd_0433c279b76elevel0_row0\" class=\"row_heading level0 row0\" >FINANZ_VORSORGER</th>\n",
       "                        <td id=\"T_d3d82540_d4bd_11ea_aacd_0433c279b76erow0_col0\" class=\"data row0 col0\" >financial typology: be prepared</td>\n",
       "                        <td id=\"T_d3d82540_d4bd_11ea_aacd_0433c279b76erow0_col1\" class=\"data row0 col1\" >0.106282</td>\n",
       "            </tr>\n",
       "            <tr>\n",
       "                        <th id=\"T_d3d82540_d4bd_11ea_aacd_0433c279b76elevel0_row1\" class=\"row_heading level0 row1\" >D19_VERSAND_ANZ_12</th>\n",
       "                        <td id=\"T_d3d82540_d4bd_11ea_aacd_0433c279b76erow1_col0\" class=\"data row1 col0\" >-</td>\n",
       "                        <td id=\"T_d3d82540_d4bd_11ea_aacd_0433c279b76erow1_col1\" class=\"data row1 col1\" >0.109349</td>\n",
       "            </tr>\n",
       "            <tr>\n",
       "                        <th id=\"T_d3d82540_d4bd_11ea_aacd_0433c279b76elevel0_row2\" class=\"row_heading level0 row2\" >D19_GESAMT_ANZ_12</th>\n",
       "                        <td id=\"T_d3d82540_d4bd_11ea_aacd_0433c279b76erow2_col0\" class=\"data row2 col0\" >transaction activity TOTAL POOL in the last 12 months </td>\n",
       "                        <td id=\"T_d3d82540_d4bd_11ea_aacd_0433c279b76erow2_col1\" class=\"data row2 col1\" >0.118422</td>\n",
       "            </tr>\n",
       "            <tr>\n",
       "                        <th id=\"T_d3d82540_d4bd_11ea_aacd_0433c279b76elevel0_row3\" class=\"row_heading level0 row3\" >D19_VERSAND_ANZ_24</th>\n",
       "                        <td id=\"T_d3d82540_d4bd_11ea_aacd_0433c279b76erow3_col0\" class=\"data row3 col0\" >-</td>\n",
       "                        <td id=\"T_d3d82540_d4bd_11ea_aacd_0433c279b76erow3_col1\" class=\"data row3 col1\" >0.118495</td>\n",
       "            </tr>\n",
       "            <tr>\n",
       "                        <th id=\"T_d3d82540_d4bd_11ea_aacd_0433c279b76elevel0_row4\" class=\"row_heading level0 row4\" >D19_GESAMT_ANZ_24</th>\n",
       "                        <td id=\"T_d3d82540_d4bd_11ea_aacd_0433c279b76erow4_col0\" class=\"data row4 col0\" >transaction activity TOTAL POOL in the last 24 months </td>\n",
       "                        <td id=\"T_d3d82540_d4bd_11ea_aacd_0433c279b76erow4_col1\" class=\"data row4 col1\" >0.12615</td>\n",
       "            </tr>\n",
       "            <tr>\n",
       "                        <th id=\"T_d3d82540_d4bd_11ea_aacd_0433c279b76elevel0_row5\" class=\"row_heading level0 row5\" >VK_ZG11</th>\n",
       "                        <td id=\"T_d3d82540_d4bd_11ea_aacd_0433c279b76erow5_col0\" class=\"data row5 col0\" >-</td>\n",
       "                        <td id=\"T_d3d82540_d4bd_11ea_aacd_0433c279b76erow5_col1\" class=\"data row5 col1\" >-0.140464</td>\n",
       "            </tr>\n",
       "            <tr>\n",
       "                        <th id=\"T_d3d82540_d4bd_11ea_aacd_0433c279b76elevel0_row6\" class=\"row_heading level0 row6\" >VK_DISTANZ</th>\n",
       "                        <td id=\"T_d3d82540_d4bd_11ea_aacd_0433c279b76erow6_col0\" class=\"data row6 col0\" >-</td>\n",
       "                        <td id=\"T_d3d82540_d4bd_11ea_aacd_0433c279b76erow6_col1\" class=\"data row6 col1\" >-0.137844</td>\n",
       "            </tr>\n",
       "            <tr>\n",
       "                        <th id=\"T_d3d82540_d4bd_11ea_aacd_0433c279b76elevel0_row7\" class=\"row_heading level0 row7\" >D19_GESAMT_DATUM</th>\n",
       "                        <td id=\"T_d3d82540_d4bd_11ea_aacd_0433c279b76erow7_col0\" class=\"data row7 col0\" >actuality of the last transaction with the complete file TOTAL</td>\n",
       "                        <td id=\"T_d3d82540_d4bd_11ea_aacd_0433c279b76erow7_col1\" class=\"data row7 col1\" >-0.131058</td>\n",
       "            </tr>\n",
       "            <tr>\n",
       "                        <th id=\"T_d3d82540_d4bd_11ea_aacd_0433c279b76elevel0_row8\" class=\"row_heading level0 row8\" >D19_KONSUMTYP_MAX</th>\n",
       "                        <td id=\"T_d3d82540_d4bd_11ea_aacd_0433c279b76erow8_col0\" class=\"data row8 col0\" >-</td>\n",
       "                        <td id=\"T_d3d82540_d4bd_11ea_aacd_0433c279b76erow8_col1\" class=\"data row8 col1\" >-0.125054</td>\n",
       "            </tr>\n",
       "            <tr>\n",
       "                        <th id=\"T_d3d82540_d4bd_11ea_aacd_0433c279b76elevel0_row9\" class=\"row_heading level0 row9\" >D19_VERSAND_DATUM</th>\n",
       "                        <td id=\"T_d3d82540_d4bd_11ea_aacd_0433c279b76erow9_col0\" class=\"data row9 col0\" >actuality of the last transaction for the segment mail-order TOTAL</td>\n",
       "                        <td id=\"T_d3d82540_d4bd_11ea_aacd_0433c279b76erow9_col1\" class=\"data row9 col1\" >-0.124471</td>\n",
       "            </tr>\n",
       "    </tbody></table>"
      ],
      "text/plain": [
       "<pandas.io.formats.style.Styler at 0x1c3caa2c788>"
      ]
     },
     "metadata": {},
     "output_type": "display_data"
    },
    {
     "name": "stdout",
     "output_type": "stream",
     "text": [
      "-------------------\n",
      "\n",
      " CLUSTER  0\n",
      "Negative Components:  [0 4]\n"
     ]
    },
    {
     "data": {
      "text/html": [
       "<style  type=\"text/css\" >\n",
       "    #T_d3dede9c_d4bd_11ea_bafb_0433c279b76erow0_col1 {\n",
       "            background-color:  #7e0610;\n",
       "            color:  #f1f1f1;\n",
       "        }    #T_d3dede9c_d4bd_11ea_bafb_0433c279b76erow1_col1 {\n",
       "            background-color:  #79040f;\n",
       "            color:  #f1f1f1;\n",
       "        }    #T_d3dede9c_d4bd_11ea_bafb_0433c279b76erow2_col1 {\n",
       "            background-color:  #73030f;\n",
       "            color:  #f1f1f1;\n",
       "        }    #T_d3dede9c_d4bd_11ea_bafb_0433c279b76erow3_col1 {\n",
       "            background-color:  #71020e;\n",
       "            color:  #f1f1f1;\n",
       "        }    #T_d3dede9c_d4bd_11ea_bafb_0433c279b76erow4_col1 {\n",
       "            background-color:  #67000d;\n",
       "            color:  #f1f1f1;\n",
       "        }    #T_d3dede9c_d4bd_11ea_bafb_0433c279b76erow5_col1 {\n",
       "            background-color:  #fff5f0;\n",
       "            color:  #000000;\n",
       "        }    #T_d3dede9c_d4bd_11ea_bafb_0433c279b76erow6_col1 {\n",
       "            background-color:  #fff5f0;\n",
       "            color:  #000000;\n",
       "        }    #T_d3dede9c_d4bd_11ea_bafb_0433c279b76erow7_col1 {\n",
       "            background-color:  #fff3ed;\n",
       "            color:  #000000;\n",
       "        }    #T_d3dede9c_d4bd_11ea_bafb_0433c279b76erow8_col1 {\n",
       "            background-color:  #fff2ec;\n",
       "            color:  #000000;\n",
       "        }    #T_d3dede9c_d4bd_11ea_bafb_0433c279b76erow9_col1 {\n",
       "            background-color:  #fff2ec;\n",
       "            color:  #000000;\n",
       "        }</style><table id=\"T_d3dede9c_d4bd_11ea_bafb_0433c279b76e\" ><thead>    <tr>        <th class=\"blank level0\" ></th>        <th class=\"col_heading level0 col0\" >Description</th>        <th class=\"col_heading level0 col1\" >0</th>    </tr></thead><tbody>\n",
       "                <tr>\n",
       "                        <th id=\"T_d3dede9c_d4bd_11ea_bafb_0433c279b76elevel0_row0\" class=\"row_heading level0 row0\" >MOBI_RASTER</th>\n",
       "                        <td id=\"T_d3dede9c_d4bd_11ea_bafb_0433c279b76erow0_col0\" class=\"data row0 col0\" >-</td>\n",
       "                        <td id=\"T_d3dede9c_d4bd_11ea_bafb_0433c279b76erow0_col1\" class=\"data row0 col1\" >0.127864</td>\n",
       "            </tr>\n",
       "            <tr>\n",
       "                        <th id=\"T_d3dede9c_d4bd_11ea_bafb_0433c279b76elevel0_row1\" class=\"row_heading level0 row1\" >KBA05_ANTG1</th>\n",
       "                        <td id=\"T_d3dede9c_d4bd_11ea_bafb_0433c279b76erow1_col0\" class=\"data row1 col0\" >number of 1-2 family houses in the cell</td>\n",
       "                        <td id=\"T_d3dede9c_d4bd_11ea_bafb_0433c279b76erow1_col1\" class=\"data row1 col1\" >0.130827</td>\n",
       "            </tr>\n",
       "            <tr>\n",
       "                        <th id=\"T_d3dede9c_d4bd_11ea_bafb_0433c279b76elevel0_row2\" class=\"row_heading level0 row2\" >KBA13_ANTG1</th>\n",
       "                        <td id=\"T_d3dede9c_d4bd_11ea_bafb_0433c279b76erow2_col0\" class=\"data row2 col0\" >-</td>\n",
       "                        <td id=\"T_d3dede9c_d4bd_11ea_bafb_0433c279b76erow2_col1\" class=\"data row2 col1\" >0.134723</td>\n",
       "            </tr>\n",
       "            <tr>\n",
       "                        <th id=\"T_d3dede9c_d4bd_11ea_bafb_0433c279b76elevel0_row3\" class=\"row_heading level0 row3\" >PLZ8_ANTG1</th>\n",
       "                        <td id=\"T_d3dede9c_d4bd_11ea_bafb_0433c279b76erow3_col0\" class=\"data row3 col0\" >number of 1-2 family houses in the PLZ8</td>\n",
       "                        <td id=\"T_d3dede9c_d4bd_11ea_bafb_0433c279b76erow3_col1\" class=\"data row3 col1\" >0.135135</td>\n",
       "            </tr>\n",
       "            <tr>\n",
       "                        <th id=\"T_d3dede9c_d4bd_11ea_bafb_0433c279b76elevel0_row4\" class=\"row_heading level0 row4\" >MOBI_REGIO</th>\n",
       "                        <td id=\"T_d3dede9c_d4bd_11ea_bafb_0433c279b76erow4_col0\" class=\"data row4 col0\" >moving patterns</td>\n",
       "                        <td id=\"T_d3dede9c_d4bd_11ea_bafb_0433c279b76erow4_col1\" class=\"data row4 col1\" >0.141189</td>\n",
       "            </tr>\n",
       "            <tr>\n",
       "                        <th id=\"T_d3dede9c_d4bd_11ea_bafb_0433c279b76elevel0_row5\" class=\"row_heading level0 row5\" >PLZ8_ANTG3</th>\n",
       "                        <td id=\"T_d3dede9c_d4bd_11ea_bafb_0433c279b76erow5_col0\" class=\"data row5 col0\" >number of 6-10 family houses in the PLZ8</td>\n",
       "                        <td id=\"T_d3dede9c_d4bd_11ea_bafb_0433c279b76erow5_col1\" class=\"data row5 col1\" >-0.133818</td>\n",
       "            </tr>\n",
       "            <tr>\n",
       "                        <th id=\"T_d3dede9c_d4bd_11ea_bafb_0433c279b76elevel0_row6\" class=\"row_heading level0 row6\" >KBA13_ANTG3</th>\n",
       "                        <td id=\"T_d3dede9c_d4bd_11ea_bafb_0433c279b76erow6_col0\" class=\"data row6 col0\" >-</td>\n",
       "                        <td id=\"T_d3dede9c_d4bd_11ea_bafb_0433c279b76erow6_col1\" class=\"data row6 col1\" >-0.133253</td>\n",
       "            </tr>\n",
       "            <tr>\n",
       "                        <th id=\"T_d3dede9c_d4bd_11ea_bafb_0433c279b76elevel0_row7\" class=\"row_heading level0 row7\" >KBA13_ANTG4</th>\n",
       "                        <td id=\"T_d3dede9c_d4bd_11ea_bafb_0433c279b76erow7_col0\" class=\"data row7 col0\" >-</td>\n",
       "                        <td id=\"T_d3dede9c_d4bd_11ea_bafb_0433c279b76erow7_col1\" class=\"data row7 col1\" >-0.129879</td>\n",
       "            </tr>\n",
       "            <tr>\n",
       "                        <th id=\"T_d3dede9c_d4bd_11ea_bafb_0433c279b76elevel0_row8\" class=\"row_heading level0 row8\" >KBA13_BAUMAX</th>\n",
       "                        <td id=\"T_d3dede9c_d4bd_11ea_bafb_0433c279b76erow8_col0\" class=\"data row8 col0\" >-</td>\n",
       "                        <td id=\"T_d3dede9c_d4bd_11ea_bafb_0433c279b76erow8_col1\" class=\"data row8 col1\" >-0.12926</td>\n",
       "            </tr>\n",
       "            <tr>\n",
       "                        <th id=\"T_d3dede9c_d4bd_11ea_bafb_0433c279b76elevel0_row9\" class=\"row_heading level0 row9\" >PLZ8_ANTG4</th>\n",
       "                        <td id=\"T_d3dede9c_d4bd_11ea_bafb_0433c279b76erow9_col0\" class=\"data row9 col0\" >number of >10 family houses in the PLZ8</td>\n",
       "                        <td id=\"T_d3dede9c_d4bd_11ea_bafb_0433c279b76erow9_col1\" class=\"data row9 col1\" >-0.12856</td>\n",
       "            </tr>\n",
       "    </tbody></table>"
      ],
      "text/plain": [
       "<pandas.io.formats.style.Styler at 0x1c3bd566c08>"
      ]
     },
     "metadata": {},
     "output_type": "display_data"
    },
    {
     "data": {
      "text/html": [
       "<style  type=\"text/css\" >\n",
       "    #T_d3e4a1e8_d4bd_11ea_9616_0433c279b76erow0_col1 {\n",
       "            background-color:  #9a0c14;\n",
       "            color:  #f1f1f1;\n",
       "        }    #T_d3e4a1e8_d4bd_11ea_9616_0433c279b76erow1_col1 {\n",
       "            background-color:  #9a0c14;\n",
       "            color:  #f1f1f1;\n",
       "        }    #T_d3e4a1e8_d4bd_11ea_9616_0433c279b76erow2_col1 {\n",
       "            background-color:  #8a0812;\n",
       "            color:  #f1f1f1;\n",
       "        }    #T_d3e4a1e8_d4bd_11ea_9616_0433c279b76erow3_col1 {\n",
       "            background-color:  #75030f;\n",
       "            color:  #f1f1f1;\n",
       "        }    #T_d3e4a1e8_d4bd_11ea_9616_0433c279b76erow4_col1 {\n",
       "            background-color:  #67000d;\n",
       "            color:  #f1f1f1;\n",
       "        }    #T_d3e4a1e8_d4bd_11ea_9616_0433c279b76erow5_col1 {\n",
       "            background-color:  #fff5f0;\n",
       "            color:  #000000;\n",
       "        }    #T_d3e4a1e8_d4bd_11ea_9616_0433c279b76erow6_col1 {\n",
       "            background-color:  #fff0e9;\n",
       "            color:  #000000;\n",
       "        }    #T_d3e4a1e8_d4bd_11ea_9616_0433c279b76erow7_col1 {\n",
       "            background-color:  #fff0e8;\n",
       "            color:  #000000;\n",
       "        }    #T_d3e4a1e8_d4bd_11ea_9616_0433c279b76erow8_col1 {\n",
       "            background-color:  #fee4d8;\n",
       "            color:  #000000;\n",
       "        }    #T_d3e4a1e8_d4bd_11ea_9616_0433c279b76erow9_col1 {\n",
       "            background-color:  #fee4d8;\n",
       "            color:  #000000;\n",
       "        }</style><table id=\"T_d3e4a1e8_d4bd_11ea_9616_0433c279b76e\" ><thead>    <tr>        <th class=\"blank level0\" ></th>        <th class=\"col_heading level0 col0\" >Description</th>        <th class=\"col_heading level0 col1\" >4</th>    </tr></thead><tbody>\n",
       "                <tr>\n",
       "                        <th id=\"T_d3e4a1e8_d4bd_11ea_9616_0433c279b76elevel0_row0\" class=\"row_heading level0 row0\" >KBA13_SITZE_5</th>\n",
       "                        <td id=\"T_d3e4a1e8_d4bd_11ea_9616_0433c279b76erow0_col0\" class=\"data row0 col0\" >number of cars with 5 seats in the PLZ8</td>\n",
       "                        <td id=\"T_d3e4a1e8_d4bd_11ea_9616_0433c279b76erow0_col1\" class=\"data row0 col1\" >0.139682</td>\n",
       "            </tr>\n",
       "            <tr>\n",
       "                        <th id=\"T_d3e4a1e8_d4bd_11ea_9616_0433c279b76elevel0_row1\" class=\"row_heading level0 row1\" >KBA13_CCM_1401_2500</th>\n",
       "                        <td id=\"T_d3e4a1e8_d4bd_11ea_9616_0433c279b76erow1_col0\" class=\"data row1 col0\" >-</td>\n",
       "                        <td id=\"T_d3e4a1e8_d4bd_11ea_9616_0433c279b76erow1_col1\" class=\"data row1 col1\" >0.140505</td>\n",
       "            </tr>\n",
       "            <tr>\n",
       "                        <th id=\"T_d3e4a1e8_d4bd_11ea_9616_0433c279b76elevel0_row2\" class=\"row_heading level0 row2\" >KBA13_VORB_0</th>\n",
       "                        <td id=\"T_d3e4a1e8_d4bd_11ea_9616_0433c279b76erow2_col0\" class=\"data row2 col0\" >share of cars with no preowner - PLZ8</td>\n",
       "                        <td id=\"T_d3e4a1e8_d4bd_11ea_9616_0433c279b76erow2_col1\" class=\"data row2 col1\" >0.151946</td>\n",
       "            </tr>\n",
       "            <tr>\n",
       "                        <th id=\"T_d3e4a1e8_d4bd_11ea_9616_0433c279b76elevel0_row3\" class=\"row_heading level0 row3\" >KBA13_KMH_210</th>\n",
       "                        <td id=\"T_d3e4a1e8_d4bd_11ea_9616_0433c279b76erow3_col0\" class=\"data row3 col0\" >-</td>\n",
       "                        <td id=\"T_d3e4a1e8_d4bd_11ea_9616_0433c279b76erow3_col1\" class=\"data row3 col1\" >0.166981</td>\n",
       "            </tr>\n",
       "            <tr>\n",
       "                        <th id=\"T_d3e4a1e8_d4bd_11ea_9616_0433c279b76elevel0_row4\" class=\"row_heading level0 row4\" >KBA13_KW_61_120</th>\n",
       "                        <td id=\"T_d3e4a1e8_d4bd_11ea_9616_0433c279b76erow4_col0\" class=\"data row4 col0\" >share of cars with an engine power between 61 and 120 KW - PLZ8</td>\n",
       "                        <td id=\"T_d3e4a1e8_d4bd_11ea_9616_0433c279b76erow4_col1\" class=\"data row4 col1\" >0.177252</td>\n",
       "            </tr>\n",
       "            <tr>\n",
       "                        <th id=\"T_d3e4a1e8_d4bd_11ea_9616_0433c279b76elevel0_row5\" class=\"row_heading level0 row5\" >KBA13_KW_0_60</th>\n",
       "                        <td id=\"T_d3e4a1e8_d4bd_11ea_9616_0433c279b76erow5_col0\" class=\"data row5 col0\" >share of cars with less than 61 KW engine power - PLZ8</td>\n",
       "                        <td id=\"T_d3e4a1e8_d4bd_11ea_9616_0433c279b76erow5_col1\" class=\"data row5 col1\" >-0.182226</td>\n",
       "            </tr>\n",
       "            <tr>\n",
       "                        <th id=\"T_d3e4a1e8_d4bd_11ea_9616_0433c279b76elevel0_row6\" class=\"row_heading level0 row6\" >KBA13_BJ_2000</th>\n",
       "                        <td id=\"T_d3e4a1e8_d4bd_11ea_9616_0433c279b76erow6_col0\" class=\"data row6 col0\" >share of cars built between 2000 and 2003 within the PLZ8</td>\n",
       "                        <td id=\"T_d3e4a1e8_d4bd_11ea_9616_0433c279b76erow6_col1\" class=\"data row6 col1\" >-0.171737</td>\n",
       "            </tr>\n",
       "            <tr>\n",
       "                        <th id=\"T_d3e4a1e8_d4bd_11ea_9616_0433c279b76elevel0_row7\" class=\"row_heading level0 row7\" >OST_WEST_KZ</th>\n",
       "                        <td id=\"T_d3e4a1e8_d4bd_11ea_9616_0433c279b76erow7_col0\" class=\"data row7 col0\" >flag indicating the former GDR/FRG</td>\n",
       "                        <td id=\"T_d3e4a1e8_d4bd_11ea_9616_0433c279b76erow7_col1\" class=\"data row7 col1\" >-0.169897</td>\n",
       "            </tr>\n",
       "            <tr>\n",
       "                        <th id=\"T_d3e4a1e8_d4bd_11ea_9616_0433c279b76elevel0_row8\" class=\"row_heading level0 row8\" >KBA13_KMH_140</th>\n",
       "                        <td id=\"T_d3e4a1e8_d4bd_11ea_9616_0433c279b76erow8_col0\" class=\"data row8 col0\" >share of cars with max speed between 110 km/h and 140km/h within the PLZ8</td>\n",
       "                        <td id=\"T_d3e4a1e8_d4bd_11ea_9616_0433c279b76erow8_col1\" class=\"data row8 col1\" >-0.145413</td>\n",
       "            </tr>\n",
       "            <tr>\n",
       "                        <th id=\"T_d3e4a1e8_d4bd_11ea_9616_0433c279b76elevel0_row9\" class=\"row_heading level0 row9\" >KBA13_CCM_0_1400</th>\n",
       "                        <td id=\"T_d3e4a1e8_d4bd_11ea_9616_0433c279b76erow9_col0\" class=\"data row9 col0\" >share of cars with less than 1401ccm within the PLZ8</td>\n",
       "                        <td id=\"T_d3e4a1e8_d4bd_11ea_9616_0433c279b76erow9_col1\" class=\"data row9 col1\" >-0.145085</td>\n",
       "            </tr>\n",
       "    </tbody></table>"
      ],
      "text/plain": [
       "<pandas.io.formats.style.Styler at 0x1c3b8b86388>"
      ]
     },
     "metadata": {},
     "output_type": "display_data"
    },
    {
     "name": "stdout",
     "output_type": "stream",
     "text": [
      "Positive Components:  [2 1]\n"
     ]
    },
    {
     "data": {
      "text/html": [
       "<style  type=\"text/css\" >\n",
       "    #T_d3e95cb6_d4bd_11ea_8554_0433c279b76erow0_col1 {\n",
       "            background-color:  #960b13;\n",
       "            color:  #f1f1f1;\n",
       "        }    #T_d3e95cb6_d4bd_11ea_8554_0433c279b76erow1_col1 {\n",
       "            background-color:  #920a13;\n",
       "            color:  #f1f1f1;\n",
       "        }    #T_d3e95cb6_d4bd_11ea_8554_0433c279b76erow2_col1 {\n",
       "            background-color:  #8e0912;\n",
       "            color:  #f1f1f1;\n",
       "        }    #T_d3e95cb6_d4bd_11ea_8554_0433c279b76erow3_col1 {\n",
       "            background-color:  #880811;\n",
       "            color:  #f1f1f1;\n",
       "        }    #T_d3e95cb6_d4bd_11ea_8554_0433c279b76erow4_col1 {\n",
       "            background-color:  #67000d;\n",
       "            color:  #f1f1f1;\n",
       "        }    #T_d3e95cb6_d4bd_11ea_8554_0433c279b76erow5_col1 {\n",
       "            background-color:  #fff5f0;\n",
       "            color:  #000000;\n",
       "        }    #T_d3e95cb6_d4bd_11ea_8554_0433c279b76erow6_col1 {\n",
       "            background-color:  #ffece3;\n",
       "            color:  #000000;\n",
       "        }    #T_d3e95cb6_d4bd_11ea_8554_0433c279b76erow7_col1 {\n",
       "            background-color:  #fee9df;\n",
       "            color:  #000000;\n",
       "        }    #T_d3e95cb6_d4bd_11ea_8554_0433c279b76erow8_col1 {\n",
       "            background-color:  #fee8dd;\n",
       "            color:  #000000;\n",
       "        }    #T_d3e95cb6_d4bd_11ea_8554_0433c279b76erow9_col1 {\n",
       "            background-color:  #fee6da;\n",
       "            color:  #000000;\n",
       "        }</style><table id=\"T_d3e95cb6_d4bd_11ea_8554_0433c279b76e\" ><thead>    <tr>        <th class=\"blank level0\" ></th>        <th class=\"col_heading level0 col0\" >Description</th>        <th class=\"col_heading level0 col1\" >2</th>    </tr></thead><tbody>\n",
       "                <tr>\n",
       "                        <th id=\"T_d3e95cb6_d4bd_11ea_8554_0433c279b76elevel0_row0\" class=\"row_heading level0 row0\" >KBA13_SITZE_4</th>\n",
       "                        <td id=\"T_d3e95cb6_d4bd_11ea_8554_0433c279b76erow0_col0\" class=\"data row0 col0\" >number of cars with less than 5 seats in the PLZ8</td>\n",
       "                        <td id=\"T_d3e95cb6_d4bd_11ea_8554_0433c279b76erow0_col1\" class=\"data row0 col1\" >0.124115</td>\n",
       "            </tr>\n",
       "            <tr>\n",
       "                        <th id=\"T_d3e95cb6_d4bd_11ea_8554_0433c279b76elevel0_row1\" class=\"row_heading level0 row1\" >KBA13_BMW</th>\n",
       "                        <td id=\"T_d3e95cb6_d4bd_11ea_8554_0433c279b76erow1_col0\" class=\"data row1 col0\" >share of BMW within the PLZ8</td>\n",
       "                        <td id=\"T_d3e95cb6_d4bd_11ea_8554_0433c279b76erow1_col1\" class=\"data row1 col1\" >0.127</td>\n",
       "            </tr>\n",
       "            <tr>\n",
       "                        <th id=\"T_d3e95cb6_d4bd_11ea_8554_0433c279b76elevel0_row2\" class=\"row_heading level0 row2\" >KBA13_MERCEDES</th>\n",
       "                        <td id=\"T_d3e95cb6_d4bd_11ea_8554_0433c279b76erow2_col0\" class=\"data row2 col0\" >share of MERCEDES within the PLZ8</td>\n",
       "                        <td id=\"T_d3e95cb6_d4bd_11ea_8554_0433c279b76erow2_col1\" class=\"data row2 col1\" >0.128644</td>\n",
       "            </tr>\n",
       "            <tr>\n",
       "                        <th id=\"T_d3e95cb6_d4bd_11ea_8554_0433c279b76elevel0_row3\" class=\"row_heading level0 row3\" >KBA13_SEG_OBEREMITTELKLASSE</th>\n",
       "                        <td id=\"T_d3e95cb6_d4bd_11ea_8554_0433c279b76erow3_col0\" class=\"data row3 col0\" >share of upper middle class cars and upper class cars (BMW5er, BMW7er etc.)</td>\n",
       "                        <td id=\"T_d3e95cb6_d4bd_11ea_8554_0433c279b76erow3_col1\" class=\"data row3 col1\" >0.132265</td>\n",
       "            </tr>\n",
       "            <tr>\n",
       "                        <th id=\"T_d3e95cb6_d4bd_11ea_8554_0433c279b76elevel0_row4\" class=\"row_heading level0 row4\" >KBA13_HERST_BMW_BENZ</th>\n",
       "                        <td id=\"T_d3e95cb6_d4bd_11ea_8554_0433c279b76erow4_col0\" class=\"data row4 col0\" >share of BMW & Mercedes Benz within the PLZ8</td>\n",
       "                        <td id=\"T_d3e95cb6_d4bd_11ea_8554_0433c279b76erow4_col1\" class=\"data row4 col1\" >0.151179</td>\n",
       "            </tr>\n",
       "            <tr>\n",
       "                        <th id=\"T_d3e95cb6_d4bd_11ea_8554_0433c279b76elevel0_row5\" class=\"row_heading level0 row5\" >KBA13_SITZE_5</th>\n",
       "                        <td id=\"T_d3e95cb6_d4bd_11ea_8554_0433c279b76erow5_col0\" class=\"data row5 col0\" >number of cars with 5 seats in the PLZ8</td>\n",
       "                        <td id=\"T_d3e95cb6_d4bd_11ea_8554_0433c279b76erow5_col1\" class=\"data row5 col1\" >-0.127017</td>\n",
       "            </tr>\n",
       "            <tr>\n",
       "                        <th id=\"T_d3e95cb6_d4bd_11ea_8554_0433c279b76elevel0_row6\" class=\"row_heading level0 row6\" >CJT_TYP_3</th>\n",
       "                        <td id=\"T_d3e95cb6_d4bd_11ea_8554_0433c279b76erow6_col0\" class=\"data row6 col0\" >-</td>\n",
       "                        <td id=\"T_d3e95cb6_d4bd_11ea_8554_0433c279b76erow6_col1\" class=\"data row6 col1\" >-0.110995</td>\n",
       "            </tr>\n",
       "            <tr>\n",
       "                        <th id=\"T_d3e95cb6_d4bd_11ea_8554_0433c279b76elevel0_row7\" class=\"row_heading level0 row7\" >KBA13_SEG_KLEINWAGEN</th>\n",
       "                        <td id=\"T_d3e95cb6_d4bd_11ea_8554_0433c279b76erow7_col0\" class=\"data row7 col0\" >share of small and very small cars (Ford Fiesta, Ford Ka etc.) in the PLZ8</td>\n",
       "                        <td id=\"T_d3e95cb6_d4bd_11ea_8554_0433c279b76erow7_col1\" class=\"data row7 col1\" >-0.106967</td>\n",
       "            </tr>\n",
       "            <tr>\n",
       "                        <th id=\"T_d3e95cb6_d4bd_11ea_8554_0433c279b76elevel0_row8\" class=\"row_heading level0 row8\" >KBA13_KMH_140_210</th>\n",
       "                        <td id=\"T_d3e95cb6_d4bd_11ea_8554_0433c279b76erow8_col0\" class=\"data row8 col0\" >share of cars with max speed between 140 and 210 km/h within the PLZ8</td>\n",
       "                        <td id=\"T_d3e95cb6_d4bd_11ea_8554_0433c279b76erow8_col1\" class=\"data row8 col1\" >-0.104352</td>\n",
       "            </tr>\n",
       "            <tr>\n",
       "                        <th id=\"T_d3e95cb6_d4bd_11ea_8554_0433c279b76elevel0_row9\" class=\"row_heading level0 row9\" >CJT_TYP_5</th>\n",
       "                        <td id=\"T_d3e95cb6_d4bd_11ea_8554_0433c279b76erow9_col0\" class=\"data row9 col0\" >-</td>\n",
       "                        <td id=\"T_d3e95cb6_d4bd_11ea_8554_0433c279b76erow9_col1\" class=\"data row9 col1\" >-0.102003</td>\n",
       "            </tr>\n",
       "    </tbody></table>"
      ],
      "text/plain": [
       "<pandas.io.formats.style.Styler at 0x1c3b471e4c8>"
      ]
     },
     "metadata": {},
     "output_type": "display_data"
    },
    {
     "data": {
      "text/html": [
       "<style  type=\"text/css\" >\n",
       "    #T_d3eda2b0_d4bd_11ea_9472_0433c279b76erow0_col1 {\n",
       "            background-color:  #7c0510;\n",
       "            color:  #f1f1f1;\n",
       "        }    #T_d3eda2b0_d4bd_11ea_9472_0433c279b76erow1_col1 {\n",
       "            background-color:  #77040f;\n",
       "            color:  #f1f1f1;\n",
       "        }    #T_d3eda2b0_d4bd_11ea_9472_0433c279b76erow2_col1 {\n",
       "            background-color:  #6b010e;\n",
       "            color:  #f1f1f1;\n",
       "        }    #T_d3eda2b0_d4bd_11ea_9472_0433c279b76erow3_col1 {\n",
       "            background-color:  #69000d;\n",
       "            color:  #f1f1f1;\n",
       "        }    #T_d3eda2b0_d4bd_11ea_9472_0433c279b76erow4_col1 {\n",
       "            background-color:  #67000d;\n",
       "            color:  #f1f1f1;\n",
       "        }    #T_d3eda2b0_d4bd_11ea_9472_0433c279b76erow5_col1 {\n",
       "            background-color:  #fff5f0;\n",
       "            color:  #000000;\n",
       "        }    #T_d3eda2b0_d4bd_11ea_9472_0433c279b76erow6_col1 {\n",
       "            background-color:  #fff0e8;\n",
       "            color:  #000000;\n",
       "        }    #T_d3eda2b0_d4bd_11ea_9472_0433c279b76erow7_col1 {\n",
       "            background-color:  #ffeee7;\n",
       "            color:  #000000;\n",
       "        }    #T_d3eda2b0_d4bd_11ea_9472_0433c279b76erow8_col1 {\n",
       "            background-color:  #feeae0;\n",
       "            color:  #000000;\n",
       "        }    #T_d3eda2b0_d4bd_11ea_9472_0433c279b76erow9_col1 {\n",
       "            background-color:  #feeae0;\n",
       "            color:  #000000;\n",
       "        }</style><table id=\"T_d3eda2b0_d4bd_11ea_9472_0433c279b76e\" ><thead>    <tr>        <th class=\"blank level0\" ></th>        <th class=\"col_heading level0 col0\" >Description</th>        <th class=\"col_heading level0 col1\" >1</th>    </tr></thead><tbody>\n",
       "                <tr>\n",
       "                        <th id=\"T_d3eda2b0_d4bd_11ea_9472_0433c279b76elevel0_row0\" class=\"row_heading level0 row0\" >CJT_TYP_1</th>\n",
       "                        <td id=\"T_d3eda2b0_d4bd_11ea_9472_0433c279b76erow0_col0\" class=\"data row0 col0\" >-</td>\n",
       "                        <td id=\"T_d3eda2b0_d4bd_11ea_9472_0433c279b76erow0_col1\" class=\"data row0 col1\" >0.124903</td>\n",
       "            </tr>\n",
       "            <tr>\n",
       "                        <th id=\"T_d3eda2b0_d4bd_11ea_9472_0433c279b76elevel0_row1\" class=\"row_heading level0 row1\" >FINANZ_SPARER</th>\n",
       "                        <td id=\"T_d3eda2b0_d4bd_11ea_9472_0433c279b76erow1_col0\" class=\"data row1 col0\" >financial typology: money saver</td>\n",
       "                        <td id=\"T_d3eda2b0_d4bd_11ea_9472_0433c279b76erow1_col1\" class=\"data row1 col1\" >0.127958</td>\n",
       "            </tr>\n",
       "            <tr>\n",
       "                        <th id=\"T_d3eda2b0_d4bd_11ea_9472_0433c279b76elevel0_row2\" class=\"row_heading level0 row2\" >ONLINE_AFFINITAET</th>\n",
       "                        <td id=\"T_d3eda2b0_d4bd_11ea_9472_0433c279b76erow2_col0\" class=\"data row2 col0\" >online affinity</td>\n",
       "                        <td id=\"T_d3eda2b0_d4bd_11ea_9472_0433c279b76erow2_col1\" class=\"data row2 col1\" >0.134101</td>\n",
       "            </tr>\n",
       "            <tr>\n",
       "                        <th id=\"T_d3eda2b0_d4bd_11ea_9472_0433c279b76elevel0_row3\" class=\"row_heading level0 row3\" >FINANZ_ANLEGER</th>\n",
       "                        <td id=\"T_d3eda2b0_d4bd_11ea_9472_0433c279b76erow3_col0\" class=\"data row3 col0\" >financial typology: investor</td>\n",
       "                        <td id=\"T_d3eda2b0_d4bd_11ea_9472_0433c279b76erow3_col1\" class=\"data row3 col1\" >0.135878</td>\n",
       "            </tr>\n",
       "            <tr>\n",
       "                        <th id=\"T_d3eda2b0_d4bd_11ea_9472_0433c279b76elevel0_row4\" class=\"row_heading level0 row4\" >DECADE_PRAGENDE_JUGENDJAHRE</th>\n",
       "                        <td id=\"T_d3eda2b0_d4bd_11ea_9472_0433c279b76erow4_col0\" class=\"data row4 col0\" >-</td>\n",
       "                        <td id=\"T_d3eda2b0_d4bd_11ea_9472_0433c279b76erow4_col1\" class=\"data row4 col1\" >0.137129</td>\n",
       "            </tr>\n",
       "            <tr>\n",
       "                        <th id=\"T_d3eda2b0_d4bd_11ea_9472_0433c279b76elevel0_row5\" class=\"row_heading level0 row5\" >FINANZ_VORSORGER</th>\n",
       "                        <td id=\"T_d3eda2b0_d4bd_11ea_9472_0433c279b76erow5_col0\" class=\"data row5 col0\" >financial typology: be prepared</td>\n",
       "                        <td id=\"T_d3eda2b0_d4bd_11ea_9472_0433c279b76erow5_col1\" class=\"data row5 col1\" >-0.129723</td>\n",
       "            </tr>\n",
       "            <tr>\n",
       "                        <th id=\"T_d3eda2b0_d4bd_11ea_9472_0433c279b76elevel0_row6\" class=\"row_heading level0 row6\" >CJT_TYP_4</th>\n",
       "                        <td id=\"T_d3eda2b0_d4bd_11ea_9472_0433c279b76erow6_col0\" class=\"data row6 col0\" >-</td>\n",
       "                        <td id=\"T_d3eda2b0_d4bd_11ea_9472_0433c279b76erow6_col1\" class=\"data row6 col1\" >-0.120769</td>\n",
       "            </tr>\n",
       "            <tr>\n",
       "                        <th id=\"T_d3eda2b0_d4bd_11ea_9472_0433c279b76elevel0_row7\" class=\"row_heading level0 row7\" >CJT_TYP_5</th>\n",
       "                        <td id=\"T_d3eda2b0_d4bd_11ea_9472_0433c279b76erow7_col0\" class=\"data row7 col0\" >-</td>\n",
       "                        <td id=\"T_d3eda2b0_d4bd_11ea_9472_0433c279b76erow7_col1\" class=\"data row7 col1\" >-0.118953</td>\n",
       "            </tr>\n",
       "            <tr>\n",
       "                        <th id=\"T_d3eda2b0_d4bd_11ea_9472_0433c279b76elevel0_row8\" class=\"row_heading level0 row8\" >ALTERSKATEGORIE_GROB</th>\n",
       "                        <td id=\"T_d3eda2b0_d4bd_11ea_9472_0433c279b76erow8_col0\" class=\"data row8 col0\" >age through prename analysis </td>\n",
       "                        <td id=\"T_d3eda2b0_d4bd_11ea_9472_0433c279b76erow8_col1\" class=\"data row8 col1\" >-0.111833</td>\n",
       "            </tr>\n",
       "            <tr>\n",
       "                        <th id=\"T_d3eda2b0_d4bd_11ea_9472_0433c279b76elevel0_row9\" class=\"row_heading level0 row9\" >D19_GESAMT_ONLINE_DATUM</th>\n",
       "                        <td id=\"T_d3eda2b0_d4bd_11ea_9472_0433c279b76erow9_col0\" class=\"data row9 col0\" >actuality of the last transaction with the complete file ONLINE</td>\n",
       "                        <td id=\"T_d3eda2b0_d4bd_11ea_9472_0433c279b76erow9_col1\" class=\"data row9 col1\" >-0.111587</td>\n",
       "            </tr>\n",
       "    </tbody></table>"
      ],
      "text/plain": [
       "<pandas.io.formats.style.Styler at 0x1c3bd55dbc8>"
      ]
     },
     "metadata": {},
     "output_type": "display_data"
    },
    {
     "name": "stdout",
     "output_type": "stream",
     "text": [
      "-------------------\n"
     ]
    }
   ],
   "source": [
    "# Customer Clusters (diff>0, top 2) - identifying and analyzing most important components\n",
    "for cluster in diff_comp[diff_comp['Delta'] > 0].sort_values(by='Delta', ascending=False)[:2].index.values:\n",
    "    # selecting the two components with the highest negative weight\n",
    "    neg_comp = pd.Series(model_k.cluster_centers_[cluster,:]).sort_values()[:2].index.values\n",
    "    # selecting the two components with the highest positive weight\n",
    "    pos_comp = pd.Series(model_k.cluster_centers_[cluster,:]).sort_values()[-2:].index.values\n",
    "    print('\\n','CLUSTER ', cluster)\n",
    "    print('Negative Components: ', neg_comp)\n",
    "    display(most_relevant_feats(neg_comp[0], 5).style.background_gradient(cmap='Reds',subset=[neg_comp[0]]))\n",
    "    display(most_relevant_feats(neg_comp[1], 5).style.background_gradient(cmap='Reds',subset=[neg_comp[1]]))\n",
    "    print('Positive Components: ', pos_comp)\n",
    "    display(most_relevant_feats(pos_comp[0], 5).style.background_gradient(cmap='Reds',subset=[pos_comp[0]]))\n",
    "    display(most_relevant_feats(pos_comp[1], 5).style.background_gradient(cmap='Reds',subset=[pos_comp[1]]))\n",
    "    print('-------------------')\n"
   ]
  },
  {
   "cell_type": "code",
   "execution_count": 179,
   "metadata": {},
   "outputs": [
    {
     "name": "stdout",
     "output_type": "stream",
     "text": [
      "\n",
      " CLUSTER  6\n",
      "Negative Components:  [0 2]\n"
     ]
    },
    {
     "data": {
      "text/html": [
       "<style  type=\"text/css\" >\n",
       "    #T_e3ce22f4_d4bd_11ea_bd20_0433c279b76erow0_col1 {\n",
       "            background-color:  #083c7d;\n",
       "            color:  #f1f1f1;\n",
       "        }    #T_e3ce22f4_d4bd_11ea_bd20_0433c279b76erow1_col1 {\n",
       "            background-color:  #083979;\n",
       "            color:  #f1f1f1;\n",
       "        }    #T_e3ce22f4_d4bd_11ea_bd20_0433c279b76erow2_col1 {\n",
       "            background-color:  #083674;\n",
       "            color:  #f1f1f1;\n",
       "        }    #T_e3ce22f4_d4bd_11ea_bd20_0433c279b76erow3_col1 {\n",
       "            background-color:  #083573;\n",
       "            color:  #f1f1f1;\n",
       "        }    #T_e3ce22f4_d4bd_11ea_bd20_0433c279b76erow4_col1 {\n",
       "            background-color:  #08306b;\n",
       "            color:  #f1f1f1;\n",
       "        }    #T_e3ce22f4_d4bd_11ea_bd20_0433c279b76erow5_col1 {\n",
       "            background-color:  #f7fbff;\n",
       "            color:  #000000;\n",
       "        }    #T_e3ce22f4_d4bd_11ea_bd20_0433c279b76erow6_col1 {\n",
       "            background-color:  #f7fbff;\n",
       "            color:  #000000;\n",
       "        }    #T_e3ce22f4_d4bd_11ea_bd20_0433c279b76erow7_col1 {\n",
       "            background-color:  #f5f9fe;\n",
       "            color:  #000000;\n",
       "        }    #T_e3ce22f4_d4bd_11ea_bd20_0433c279b76erow8_col1 {\n",
       "            background-color:  #f4f9fe;\n",
       "            color:  #000000;\n",
       "        }    #T_e3ce22f4_d4bd_11ea_bd20_0433c279b76erow9_col1 {\n",
       "            background-color:  #f4f9fe;\n",
       "            color:  #000000;\n",
       "        }</style><table id=\"T_e3ce22f4_d4bd_11ea_bd20_0433c279b76e\" ><thead>    <tr>        <th class=\"blank level0\" ></th>        <th class=\"col_heading level0 col0\" >Description</th>        <th class=\"col_heading level0 col1\" >0</th>    </tr></thead><tbody>\n",
       "                <tr>\n",
       "                        <th id=\"T_e3ce22f4_d4bd_11ea_bd20_0433c279b76elevel0_row0\" class=\"row_heading level0 row0\" >MOBI_RASTER</th>\n",
       "                        <td id=\"T_e3ce22f4_d4bd_11ea_bd20_0433c279b76erow0_col0\" class=\"data row0 col0\" >-</td>\n",
       "                        <td id=\"T_e3ce22f4_d4bd_11ea_bd20_0433c279b76erow0_col1\" class=\"data row0 col1\" >0.127864</td>\n",
       "            </tr>\n",
       "            <tr>\n",
       "                        <th id=\"T_e3ce22f4_d4bd_11ea_bd20_0433c279b76elevel0_row1\" class=\"row_heading level0 row1\" >KBA05_ANTG1</th>\n",
       "                        <td id=\"T_e3ce22f4_d4bd_11ea_bd20_0433c279b76erow1_col0\" class=\"data row1 col0\" >number of 1-2 family houses in the cell</td>\n",
       "                        <td id=\"T_e3ce22f4_d4bd_11ea_bd20_0433c279b76erow1_col1\" class=\"data row1 col1\" >0.130827</td>\n",
       "            </tr>\n",
       "            <tr>\n",
       "                        <th id=\"T_e3ce22f4_d4bd_11ea_bd20_0433c279b76elevel0_row2\" class=\"row_heading level0 row2\" >KBA13_ANTG1</th>\n",
       "                        <td id=\"T_e3ce22f4_d4bd_11ea_bd20_0433c279b76erow2_col0\" class=\"data row2 col0\" >-</td>\n",
       "                        <td id=\"T_e3ce22f4_d4bd_11ea_bd20_0433c279b76erow2_col1\" class=\"data row2 col1\" >0.134723</td>\n",
       "            </tr>\n",
       "            <tr>\n",
       "                        <th id=\"T_e3ce22f4_d4bd_11ea_bd20_0433c279b76elevel0_row3\" class=\"row_heading level0 row3\" >PLZ8_ANTG1</th>\n",
       "                        <td id=\"T_e3ce22f4_d4bd_11ea_bd20_0433c279b76erow3_col0\" class=\"data row3 col0\" >number of 1-2 family houses in the PLZ8</td>\n",
       "                        <td id=\"T_e3ce22f4_d4bd_11ea_bd20_0433c279b76erow3_col1\" class=\"data row3 col1\" >0.135135</td>\n",
       "            </tr>\n",
       "            <tr>\n",
       "                        <th id=\"T_e3ce22f4_d4bd_11ea_bd20_0433c279b76elevel0_row4\" class=\"row_heading level0 row4\" >MOBI_REGIO</th>\n",
       "                        <td id=\"T_e3ce22f4_d4bd_11ea_bd20_0433c279b76erow4_col0\" class=\"data row4 col0\" >moving patterns</td>\n",
       "                        <td id=\"T_e3ce22f4_d4bd_11ea_bd20_0433c279b76erow4_col1\" class=\"data row4 col1\" >0.141189</td>\n",
       "            </tr>\n",
       "            <tr>\n",
       "                        <th id=\"T_e3ce22f4_d4bd_11ea_bd20_0433c279b76elevel0_row5\" class=\"row_heading level0 row5\" >PLZ8_ANTG3</th>\n",
       "                        <td id=\"T_e3ce22f4_d4bd_11ea_bd20_0433c279b76erow5_col0\" class=\"data row5 col0\" >number of 6-10 family houses in the PLZ8</td>\n",
       "                        <td id=\"T_e3ce22f4_d4bd_11ea_bd20_0433c279b76erow5_col1\" class=\"data row5 col1\" >-0.133818</td>\n",
       "            </tr>\n",
       "            <tr>\n",
       "                        <th id=\"T_e3ce22f4_d4bd_11ea_bd20_0433c279b76elevel0_row6\" class=\"row_heading level0 row6\" >KBA13_ANTG3</th>\n",
       "                        <td id=\"T_e3ce22f4_d4bd_11ea_bd20_0433c279b76erow6_col0\" class=\"data row6 col0\" >-</td>\n",
       "                        <td id=\"T_e3ce22f4_d4bd_11ea_bd20_0433c279b76erow6_col1\" class=\"data row6 col1\" >-0.133253</td>\n",
       "            </tr>\n",
       "            <tr>\n",
       "                        <th id=\"T_e3ce22f4_d4bd_11ea_bd20_0433c279b76elevel0_row7\" class=\"row_heading level0 row7\" >KBA13_ANTG4</th>\n",
       "                        <td id=\"T_e3ce22f4_d4bd_11ea_bd20_0433c279b76erow7_col0\" class=\"data row7 col0\" >-</td>\n",
       "                        <td id=\"T_e3ce22f4_d4bd_11ea_bd20_0433c279b76erow7_col1\" class=\"data row7 col1\" >-0.129879</td>\n",
       "            </tr>\n",
       "            <tr>\n",
       "                        <th id=\"T_e3ce22f4_d4bd_11ea_bd20_0433c279b76elevel0_row8\" class=\"row_heading level0 row8\" >KBA13_BAUMAX</th>\n",
       "                        <td id=\"T_e3ce22f4_d4bd_11ea_bd20_0433c279b76erow8_col0\" class=\"data row8 col0\" >-</td>\n",
       "                        <td id=\"T_e3ce22f4_d4bd_11ea_bd20_0433c279b76erow8_col1\" class=\"data row8 col1\" >-0.12926</td>\n",
       "            </tr>\n",
       "            <tr>\n",
       "                        <th id=\"T_e3ce22f4_d4bd_11ea_bd20_0433c279b76elevel0_row9\" class=\"row_heading level0 row9\" >PLZ8_ANTG4</th>\n",
       "                        <td id=\"T_e3ce22f4_d4bd_11ea_bd20_0433c279b76erow9_col0\" class=\"data row9 col0\" >number of >10 family houses in the PLZ8</td>\n",
       "                        <td id=\"T_e3ce22f4_d4bd_11ea_bd20_0433c279b76erow9_col1\" class=\"data row9 col1\" >-0.12856</td>\n",
       "            </tr>\n",
       "    </tbody></table>"
      ],
      "text/plain": [
       "<pandas.io.formats.style.Styler at 0x1c3caa2c4c8>"
      ]
     },
     "metadata": {},
     "output_type": "display_data"
    },
    {
     "data": {
      "text/html": [
       "<style  type=\"text/css\" >\n",
       "    #T_e3d491c6_d4bd_11ea_b624_0433c279b76erow0_col1 {\n",
       "            background-color:  #084990;\n",
       "            color:  #f1f1f1;\n",
       "        }    #T_e3d491c6_d4bd_11ea_b624_0433c279b76erow1_col1 {\n",
       "            background-color:  #08478d;\n",
       "            color:  #f1f1f1;\n",
       "        }    #T_e3d491c6_d4bd_11ea_b624_0433c279b76erow2_col1 {\n",
       "            background-color:  #08458a;\n",
       "            color:  #f1f1f1;\n",
       "        }    #T_e3d491c6_d4bd_11ea_b624_0433c279b76erow3_col1 {\n",
       "            background-color:  #084285;\n",
       "            color:  #f1f1f1;\n",
       "        }    #T_e3d491c6_d4bd_11ea_b624_0433c279b76erow4_col1 {\n",
       "            background-color:  #08306b;\n",
       "            color:  #f1f1f1;\n",
       "        }    #T_e3d491c6_d4bd_11ea_b624_0433c279b76erow5_col1 {\n",
       "            background-color:  #f7fbff;\n",
       "            color:  #000000;\n",
       "        }    #T_e3d491c6_d4bd_11ea_b624_0433c279b76erow6_col1 {\n",
       "            background-color:  #ecf4fb;\n",
       "            color:  #000000;\n",
       "        }    #T_e3d491c6_d4bd_11ea_b624_0433c279b76erow7_col1 {\n",
       "            background-color:  #e9f2fa;\n",
       "            color:  #000000;\n",
       "        }    #T_e3d491c6_d4bd_11ea_b624_0433c279b76erow8_col1 {\n",
       "            background-color:  #e7f1fa;\n",
       "            color:  #000000;\n",
       "        }    #T_e3d491c6_d4bd_11ea_b624_0433c279b76erow9_col1 {\n",
       "            background-color:  #e5eff9;\n",
       "            color:  #000000;\n",
       "        }</style><table id=\"T_e3d491c6_d4bd_11ea_b624_0433c279b76e\" ><thead>    <tr>        <th class=\"blank level0\" ></th>        <th class=\"col_heading level0 col0\" >Description</th>        <th class=\"col_heading level0 col1\" >2</th>    </tr></thead><tbody>\n",
       "                <tr>\n",
       "                        <th id=\"T_e3d491c6_d4bd_11ea_b624_0433c279b76elevel0_row0\" class=\"row_heading level0 row0\" >KBA13_SITZE_4</th>\n",
       "                        <td id=\"T_e3d491c6_d4bd_11ea_b624_0433c279b76erow0_col0\" class=\"data row0 col0\" >number of cars with less than 5 seats in the PLZ8</td>\n",
       "                        <td id=\"T_e3d491c6_d4bd_11ea_b624_0433c279b76erow0_col1\" class=\"data row0 col1\" >0.124115</td>\n",
       "            </tr>\n",
       "            <tr>\n",
       "                        <th id=\"T_e3d491c6_d4bd_11ea_b624_0433c279b76elevel0_row1\" class=\"row_heading level0 row1\" >KBA13_BMW</th>\n",
       "                        <td id=\"T_e3d491c6_d4bd_11ea_b624_0433c279b76erow1_col0\" class=\"data row1 col0\" >share of BMW within the PLZ8</td>\n",
       "                        <td id=\"T_e3d491c6_d4bd_11ea_b624_0433c279b76erow1_col1\" class=\"data row1 col1\" >0.127</td>\n",
       "            </tr>\n",
       "            <tr>\n",
       "                        <th id=\"T_e3d491c6_d4bd_11ea_b624_0433c279b76elevel0_row2\" class=\"row_heading level0 row2\" >KBA13_MERCEDES</th>\n",
       "                        <td id=\"T_e3d491c6_d4bd_11ea_b624_0433c279b76erow2_col0\" class=\"data row2 col0\" >share of MERCEDES within the PLZ8</td>\n",
       "                        <td id=\"T_e3d491c6_d4bd_11ea_b624_0433c279b76erow2_col1\" class=\"data row2 col1\" >0.128644</td>\n",
       "            </tr>\n",
       "            <tr>\n",
       "                        <th id=\"T_e3d491c6_d4bd_11ea_b624_0433c279b76elevel0_row3\" class=\"row_heading level0 row3\" >KBA13_SEG_OBEREMITTELKLASSE</th>\n",
       "                        <td id=\"T_e3d491c6_d4bd_11ea_b624_0433c279b76erow3_col0\" class=\"data row3 col0\" >share of upper middle class cars and upper class cars (BMW5er, BMW7er etc.)</td>\n",
       "                        <td id=\"T_e3d491c6_d4bd_11ea_b624_0433c279b76erow3_col1\" class=\"data row3 col1\" >0.132265</td>\n",
       "            </tr>\n",
       "            <tr>\n",
       "                        <th id=\"T_e3d491c6_d4bd_11ea_b624_0433c279b76elevel0_row4\" class=\"row_heading level0 row4\" >KBA13_HERST_BMW_BENZ</th>\n",
       "                        <td id=\"T_e3d491c6_d4bd_11ea_b624_0433c279b76erow4_col0\" class=\"data row4 col0\" >share of BMW & Mercedes Benz within the PLZ8</td>\n",
       "                        <td id=\"T_e3d491c6_d4bd_11ea_b624_0433c279b76erow4_col1\" class=\"data row4 col1\" >0.151179</td>\n",
       "            </tr>\n",
       "            <tr>\n",
       "                        <th id=\"T_e3d491c6_d4bd_11ea_b624_0433c279b76elevel0_row5\" class=\"row_heading level0 row5\" >KBA13_SITZE_5</th>\n",
       "                        <td id=\"T_e3d491c6_d4bd_11ea_b624_0433c279b76erow5_col0\" class=\"data row5 col0\" >number of cars with 5 seats in the PLZ8</td>\n",
       "                        <td id=\"T_e3d491c6_d4bd_11ea_b624_0433c279b76erow5_col1\" class=\"data row5 col1\" >-0.127017</td>\n",
       "            </tr>\n",
       "            <tr>\n",
       "                        <th id=\"T_e3d491c6_d4bd_11ea_b624_0433c279b76elevel0_row6\" class=\"row_heading level0 row6\" >CJT_TYP_3</th>\n",
       "                        <td id=\"T_e3d491c6_d4bd_11ea_b624_0433c279b76erow6_col0\" class=\"data row6 col0\" >-</td>\n",
       "                        <td id=\"T_e3d491c6_d4bd_11ea_b624_0433c279b76erow6_col1\" class=\"data row6 col1\" >-0.110995</td>\n",
       "            </tr>\n",
       "            <tr>\n",
       "                        <th id=\"T_e3d491c6_d4bd_11ea_b624_0433c279b76elevel0_row7\" class=\"row_heading level0 row7\" >KBA13_SEG_KLEINWAGEN</th>\n",
       "                        <td id=\"T_e3d491c6_d4bd_11ea_b624_0433c279b76erow7_col0\" class=\"data row7 col0\" >share of small and very small cars (Ford Fiesta, Ford Ka etc.) in the PLZ8</td>\n",
       "                        <td id=\"T_e3d491c6_d4bd_11ea_b624_0433c279b76erow7_col1\" class=\"data row7 col1\" >-0.106967</td>\n",
       "            </tr>\n",
       "            <tr>\n",
       "                        <th id=\"T_e3d491c6_d4bd_11ea_b624_0433c279b76elevel0_row8\" class=\"row_heading level0 row8\" >KBA13_KMH_140_210</th>\n",
       "                        <td id=\"T_e3d491c6_d4bd_11ea_b624_0433c279b76erow8_col0\" class=\"data row8 col0\" >share of cars with max speed between 140 and 210 km/h within the PLZ8</td>\n",
       "                        <td id=\"T_e3d491c6_d4bd_11ea_b624_0433c279b76erow8_col1\" class=\"data row8 col1\" >-0.104352</td>\n",
       "            </tr>\n",
       "            <tr>\n",
       "                        <th id=\"T_e3d491c6_d4bd_11ea_b624_0433c279b76elevel0_row9\" class=\"row_heading level0 row9\" >CJT_TYP_5</th>\n",
       "                        <td id=\"T_e3d491c6_d4bd_11ea_b624_0433c279b76erow9_col0\" class=\"data row9 col0\" >-</td>\n",
       "                        <td id=\"T_e3d491c6_d4bd_11ea_b624_0433c279b76erow9_col1\" class=\"data row9 col1\" >-0.102003</td>\n",
       "            </tr>\n",
       "    </tbody></table>"
      ],
      "text/plain": [
       "<pandas.io.formats.style.Styler at 0x1c3bd3e0988>"
      ]
     },
     "metadata": {},
     "output_type": "display_data"
    },
    {
     "name": "stdout",
     "output_type": "stream",
     "text": [
      "Positive Components:  [3 4]\n"
     ]
    },
    {
     "data": {
      "text/html": [
       "<style  type=\"text/css\" >\n",
       "    #T_e3dbdc2e_d4bd_11ea_844f_0433c279b76erow0_col1 {\n",
       "            background-color:  #084488;\n",
       "            color:  #f1f1f1;\n",
       "        }    #T_e3dbdc2e_d4bd_11ea_844f_0433c279b76erow1_col1 {\n",
       "            background-color:  #084184;\n",
       "            color:  #f1f1f1;\n",
       "        }    #T_e3dbdc2e_d4bd_11ea_844f_0433c279b76erow2_col1 {\n",
       "            background-color:  #083776;\n",
       "            color:  #f1f1f1;\n",
       "        }    #T_e3dbdc2e_d4bd_11ea_844f_0433c279b76erow3_col1 {\n",
       "            background-color:  #083776;\n",
       "            color:  #f1f1f1;\n",
       "        }    #T_e3dbdc2e_d4bd_11ea_844f_0433c279b76erow4_col1 {\n",
       "            background-color:  #08306b;\n",
       "            color:  #f1f1f1;\n",
       "        }    #T_e3dbdc2e_d4bd_11ea_844f_0433c279b76erow5_col1 {\n",
       "            background-color:  #f7fbff;\n",
       "            color:  #000000;\n",
       "        }    #T_e3dbdc2e_d4bd_11ea_844f_0433c279b76erow6_col1 {\n",
       "            background-color:  #f5fafe;\n",
       "            color:  #000000;\n",
       "        }    #T_e3dbdc2e_d4bd_11ea_844f_0433c279b76erow7_col1 {\n",
       "            background-color:  #f0f6fd;\n",
       "            color:  #000000;\n",
       "        }    #T_e3dbdc2e_d4bd_11ea_844f_0433c279b76erow8_col1 {\n",
       "            background-color:  #ecf4fb;\n",
       "            color:  #000000;\n",
       "        }    #T_e3dbdc2e_d4bd_11ea_844f_0433c279b76erow9_col1 {\n",
       "            background-color:  #ebf3fb;\n",
       "            color:  #000000;\n",
       "        }</style><table id=\"T_e3dbdc2e_d4bd_11ea_844f_0433c279b76e\" ><thead>    <tr>        <th class=\"blank level0\" ></th>        <th class=\"col_heading level0 col0\" >Description</th>        <th class=\"col_heading level0 col1\" >3</th>    </tr></thead><tbody>\n",
       "                <tr>\n",
       "                        <th id=\"T_e3dbdc2e_d4bd_11ea_844f_0433c279b76elevel0_row0\" class=\"row_heading level0 row0\" >FINANZ_VORSORGER</th>\n",
       "                        <td id=\"T_e3dbdc2e_d4bd_11ea_844f_0433c279b76erow0_col0\" class=\"data row0 col0\" >financial typology: be prepared</td>\n",
       "                        <td id=\"T_e3dbdc2e_d4bd_11ea_844f_0433c279b76erow0_col1\" class=\"data row0 col1\" >0.106282</td>\n",
       "            </tr>\n",
       "            <tr>\n",
       "                        <th id=\"T_e3dbdc2e_d4bd_11ea_844f_0433c279b76elevel0_row1\" class=\"row_heading level0 row1\" >D19_VERSAND_ANZ_12</th>\n",
       "                        <td id=\"T_e3dbdc2e_d4bd_11ea_844f_0433c279b76erow1_col0\" class=\"data row1 col0\" >-</td>\n",
       "                        <td id=\"T_e3dbdc2e_d4bd_11ea_844f_0433c279b76erow1_col1\" class=\"data row1 col1\" >0.109349</td>\n",
       "            </tr>\n",
       "            <tr>\n",
       "                        <th id=\"T_e3dbdc2e_d4bd_11ea_844f_0433c279b76elevel0_row2\" class=\"row_heading level0 row2\" >D19_GESAMT_ANZ_12</th>\n",
       "                        <td id=\"T_e3dbdc2e_d4bd_11ea_844f_0433c279b76erow2_col0\" class=\"data row2 col0\" >transaction activity TOTAL POOL in the last 12 months </td>\n",
       "                        <td id=\"T_e3dbdc2e_d4bd_11ea_844f_0433c279b76erow2_col1\" class=\"data row2 col1\" >0.118422</td>\n",
       "            </tr>\n",
       "            <tr>\n",
       "                        <th id=\"T_e3dbdc2e_d4bd_11ea_844f_0433c279b76elevel0_row3\" class=\"row_heading level0 row3\" >D19_VERSAND_ANZ_24</th>\n",
       "                        <td id=\"T_e3dbdc2e_d4bd_11ea_844f_0433c279b76erow3_col0\" class=\"data row3 col0\" >-</td>\n",
       "                        <td id=\"T_e3dbdc2e_d4bd_11ea_844f_0433c279b76erow3_col1\" class=\"data row3 col1\" >0.118495</td>\n",
       "            </tr>\n",
       "            <tr>\n",
       "                        <th id=\"T_e3dbdc2e_d4bd_11ea_844f_0433c279b76elevel0_row4\" class=\"row_heading level0 row4\" >D19_GESAMT_ANZ_24</th>\n",
       "                        <td id=\"T_e3dbdc2e_d4bd_11ea_844f_0433c279b76erow4_col0\" class=\"data row4 col0\" >transaction activity TOTAL POOL in the last 24 months </td>\n",
       "                        <td id=\"T_e3dbdc2e_d4bd_11ea_844f_0433c279b76erow4_col1\" class=\"data row4 col1\" >0.12615</td>\n",
       "            </tr>\n",
       "            <tr>\n",
       "                        <th id=\"T_e3dbdc2e_d4bd_11ea_844f_0433c279b76elevel0_row5\" class=\"row_heading level0 row5\" >VK_ZG11</th>\n",
       "                        <td id=\"T_e3dbdc2e_d4bd_11ea_844f_0433c279b76erow5_col0\" class=\"data row5 col0\" >-</td>\n",
       "                        <td id=\"T_e3dbdc2e_d4bd_11ea_844f_0433c279b76erow5_col1\" class=\"data row5 col1\" >-0.140464</td>\n",
       "            </tr>\n",
       "            <tr>\n",
       "                        <th id=\"T_e3dbdc2e_d4bd_11ea_844f_0433c279b76elevel0_row6\" class=\"row_heading level0 row6\" >VK_DISTANZ</th>\n",
       "                        <td id=\"T_e3dbdc2e_d4bd_11ea_844f_0433c279b76erow6_col0\" class=\"data row6 col0\" >-</td>\n",
       "                        <td id=\"T_e3dbdc2e_d4bd_11ea_844f_0433c279b76erow6_col1\" class=\"data row6 col1\" >-0.137844</td>\n",
       "            </tr>\n",
       "            <tr>\n",
       "                        <th id=\"T_e3dbdc2e_d4bd_11ea_844f_0433c279b76elevel0_row7\" class=\"row_heading level0 row7\" >D19_GESAMT_DATUM</th>\n",
       "                        <td id=\"T_e3dbdc2e_d4bd_11ea_844f_0433c279b76erow7_col0\" class=\"data row7 col0\" >actuality of the last transaction with the complete file TOTAL</td>\n",
       "                        <td id=\"T_e3dbdc2e_d4bd_11ea_844f_0433c279b76erow7_col1\" class=\"data row7 col1\" >-0.131058</td>\n",
       "            </tr>\n",
       "            <tr>\n",
       "                        <th id=\"T_e3dbdc2e_d4bd_11ea_844f_0433c279b76elevel0_row8\" class=\"row_heading level0 row8\" >D19_KONSUMTYP_MAX</th>\n",
       "                        <td id=\"T_e3dbdc2e_d4bd_11ea_844f_0433c279b76erow8_col0\" class=\"data row8 col0\" >-</td>\n",
       "                        <td id=\"T_e3dbdc2e_d4bd_11ea_844f_0433c279b76erow8_col1\" class=\"data row8 col1\" >-0.125054</td>\n",
       "            </tr>\n",
       "            <tr>\n",
       "                        <th id=\"T_e3dbdc2e_d4bd_11ea_844f_0433c279b76elevel0_row9\" class=\"row_heading level0 row9\" >D19_VERSAND_DATUM</th>\n",
       "                        <td id=\"T_e3dbdc2e_d4bd_11ea_844f_0433c279b76erow9_col0\" class=\"data row9 col0\" >actuality of the last transaction for the segment mail-order TOTAL</td>\n",
       "                        <td id=\"T_e3dbdc2e_d4bd_11ea_844f_0433c279b76erow9_col1\" class=\"data row9 col1\" >-0.124471</td>\n",
       "            </tr>\n",
       "    </tbody></table>"
      ],
      "text/plain": [
       "<pandas.io.formats.style.Styler at 0x1c3c32be6c8>"
      ]
     },
     "metadata": {},
     "output_type": "display_data"
    },
    {
     "data": {
      "text/html": [
       "<style  type=\"text/css\" >\n",
       "    #T_e3e26bc8_d4bd_11ea_962f_0433c279b76erow0_col1 {\n",
       "            background-color:  #084b93;\n",
       "            color:  #f1f1f1;\n",
       "        }    #T_e3e26bc8_d4bd_11ea_962f_0433c279b76erow1_col1 {\n",
       "            background-color:  #084b93;\n",
       "            color:  #f1f1f1;\n",
       "        }    #T_e3e26bc8_d4bd_11ea_962f_0433c279b76erow2_col1 {\n",
       "            background-color:  #084387;\n",
       "            color:  #f1f1f1;\n",
       "        }    #T_e3e26bc8_d4bd_11ea_962f_0433c279b76erow3_col1 {\n",
       "            background-color:  #083776;\n",
       "            color:  #f1f1f1;\n",
       "        }    #T_e3e26bc8_d4bd_11ea_962f_0433c279b76erow4_col1 {\n",
       "            background-color:  #08306b;\n",
       "            color:  #f1f1f1;\n",
       "        }    #T_e3e26bc8_d4bd_11ea_962f_0433c279b76erow5_col1 {\n",
       "            background-color:  #f7fbff;\n",
       "            color:  #000000;\n",
       "        }    #T_e3e26bc8_d4bd_11ea_962f_0433c279b76erow6_col1 {\n",
       "            background-color:  #f2f7fd;\n",
       "            color:  #000000;\n",
       "        }    #T_e3e26bc8_d4bd_11ea_962f_0433c279b76erow7_col1 {\n",
       "            background-color:  #f1f7fd;\n",
       "            color:  #000000;\n",
       "        }    #T_e3e26bc8_d4bd_11ea_962f_0433c279b76erow8_col1 {\n",
       "            background-color:  #e3eef8;\n",
       "            color:  #000000;\n",
       "        }    #T_e3e26bc8_d4bd_11ea_962f_0433c279b76erow9_col1 {\n",
       "            background-color:  #e3eef8;\n",
       "            color:  #000000;\n",
       "        }</style><table id=\"T_e3e26bc8_d4bd_11ea_962f_0433c279b76e\" ><thead>    <tr>        <th class=\"blank level0\" ></th>        <th class=\"col_heading level0 col0\" >Description</th>        <th class=\"col_heading level0 col1\" >4</th>    </tr></thead><tbody>\n",
       "                <tr>\n",
       "                        <th id=\"T_e3e26bc8_d4bd_11ea_962f_0433c279b76elevel0_row0\" class=\"row_heading level0 row0\" >KBA13_SITZE_5</th>\n",
       "                        <td id=\"T_e3e26bc8_d4bd_11ea_962f_0433c279b76erow0_col0\" class=\"data row0 col0\" >number of cars with 5 seats in the PLZ8</td>\n",
       "                        <td id=\"T_e3e26bc8_d4bd_11ea_962f_0433c279b76erow0_col1\" class=\"data row0 col1\" >0.139682</td>\n",
       "            </tr>\n",
       "            <tr>\n",
       "                        <th id=\"T_e3e26bc8_d4bd_11ea_962f_0433c279b76elevel0_row1\" class=\"row_heading level0 row1\" >KBA13_CCM_1401_2500</th>\n",
       "                        <td id=\"T_e3e26bc8_d4bd_11ea_962f_0433c279b76erow1_col0\" class=\"data row1 col0\" >-</td>\n",
       "                        <td id=\"T_e3e26bc8_d4bd_11ea_962f_0433c279b76erow1_col1\" class=\"data row1 col1\" >0.140505</td>\n",
       "            </tr>\n",
       "            <tr>\n",
       "                        <th id=\"T_e3e26bc8_d4bd_11ea_962f_0433c279b76elevel0_row2\" class=\"row_heading level0 row2\" >KBA13_VORB_0</th>\n",
       "                        <td id=\"T_e3e26bc8_d4bd_11ea_962f_0433c279b76erow2_col0\" class=\"data row2 col0\" >share of cars with no preowner - PLZ8</td>\n",
       "                        <td id=\"T_e3e26bc8_d4bd_11ea_962f_0433c279b76erow2_col1\" class=\"data row2 col1\" >0.151946</td>\n",
       "            </tr>\n",
       "            <tr>\n",
       "                        <th id=\"T_e3e26bc8_d4bd_11ea_962f_0433c279b76elevel0_row3\" class=\"row_heading level0 row3\" >KBA13_KMH_210</th>\n",
       "                        <td id=\"T_e3e26bc8_d4bd_11ea_962f_0433c279b76erow3_col0\" class=\"data row3 col0\" >-</td>\n",
       "                        <td id=\"T_e3e26bc8_d4bd_11ea_962f_0433c279b76erow3_col1\" class=\"data row3 col1\" >0.166981</td>\n",
       "            </tr>\n",
       "            <tr>\n",
       "                        <th id=\"T_e3e26bc8_d4bd_11ea_962f_0433c279b76elevel0_row4\" class=\"row_heading level0 row4\" >KBA13_KW_61_120</th>\n",
       "                        <td id=\"T_e3e26bc8_d4bd_11ea_962f_0433c279b76erow4_col0\" class=\"data row4 col0\" >share of cars with an engine power between 61 and 120 KW - PLZ8</td>\n",
       "                        <td id=\"T_e3e26bc8_d4bd_11ea_962f_0433c279b76erow4_col1\" class=\"data row4 col1\" >0.177252</td>\n",
       "            </tr>\n",
       "            <tr>\n",
       "                        <th id=\"T_e3e26bc8_d4bd_11ea_962f_0433c279b76elevel0_row5\" class=\"row_heading level0 row5\" >KBA13_KW_0_60</th>\n",
       "                        <td id=\"T_e3e26bc8_d4bd_11ea_962f_0433c279b76erow5_col0\" class=\"data row5 col0\" >share of cars with less than 61 KW engine power - PLZ8</td>\n",
       "                        <td id=\"T_e3e26bc8_d4bd_11ea_962f_0433c279b76erow5_col1\" class=\"data row5 col1\" >-0.182226</td>\n",
       "            </tr>\n",
       "            <tr>\n",
       "                        <th id=\"T_e3e26bc8_d4bd_11ea_962f_0433c279b76elevel0_row6\" class=\"row_heading level0 row6\" >KBA13_BJ_2000</th>\n",
       "                        <td id=\"T_e3e26bc8_d4bd_11ea_962f_0433c279b76erow6_col0\" class=\"data row6 col0\" >share of cars built between 2000 and 2003 within the PLZ8</td>\n",
       "                        <td id=\"T_e3e26bc8_d4bd_11ea_962f_0433c279b76erow6_col1\" class=\"data row6 col1\" >-0.171737</td>\n",
       "            </tr>\n",
       "            <tr>\n",
       "                        <th id=\"T_e3e26bc8_d4bd_11ea_962f_0433c279b76elevel0_row7\" class=\"row_heading level0 row7\" >OST_WEST_KZ</th>\n",
       "                        <td id=\"T_e3e26bc8_d4bd_11ea_962f_0433c279b76erow7_col0\" class=\"data row7 col0\" >flag indicating the former GDR/FRG</td>\n",
       "                        <td id=\"T_e3e26bc8_d4bd_11ea_962f_0433c279b76erow7_col1\" class=\"data row7 col1\" >-0.169897</td>\n",
       "            </tr>\n",
       "            <tr>\n",
       "                        <th id=\"T_e3e26bc8_d4bd_11ea_962f_0433c279b76elevel0_row8\" class=\"row_heading level0 row8\" >KBA13_KMH_140</th>\n",
       "                        <td id=\"T_e3e26bc8_d4bd_11ea_962f_0433c279b76erow8_col0\" class=\"data row8 col0\" >share of cars with max speed between 110 km/h and 140km/h within the PLZ8</td>\n",
       "                        <td id=\"T_e3e26bc8_d4bd_11ea_962f_0433c279b76erow8_col1\" class=\"data row8 col1\" >-0.145413</td>\n",
       "            </tr>\n",
       "            <tr>\n",
       "                        <th id=\"T_e3e26bc8_d4bd_11ea_962f_0433c279b76elevel0_row9\" class=\"row_heading level0 row9\" >KBA13_CCM_0_1400</th>\n",
       "                        <td id=\"T_e3e26bc8_d4bd_11ea_962f_0433c279b76erow9_col0\" class=\"data row9 col0\" >share of cars with less than 1401ccm within the PLZ8</td>\n",
       "                        <td id=\"T_e3e26bc8_d4bd_11ea_962f_0433c279b76erow9_col1\" class=\"data row9 col1\" >-0.145085</td>\n",
       "            </tr>\n",
       "    </tbody></table>"
      ],
      "text/plain": [
       "<pandas.io.formats.style.Styler at 0x1c3c21b9888>"
      ]
     },
     "metadata": {},
     "output_type": "display_data"
    },
    {
     "name": "stdout",
     "output_type": "stream",
     "text": [
      "-------------------\n",
      "\n",
      " CLUSTER  2\n",
      "Negative Components:  [ 4 37]\n"
     ]
    },
    {
     "data": {
      "text/html": [
       "<style  type=\"text/css\" >\n",
       "    #T_e3e87c2e_d4bd_11ea_9f1b_0433c279b76erow0_col1 {\n",
       "            background-color:  #084b93;\n",
       "            color:  #f1f1f1;\n",
       "        }    #T_e3e87c2e_d4bd_11ea_9f1b_0433c279b76erow1_col1 {\n",
       "            background-color:  #084b93;\n",
       "            color:  #f1f1f1;\n",
       "        }    #T_e3e87c2e_d4bd_11ea_9f1b_0433c279b76erow2_col1 {\n",
       "            background-color:  #084387;\n",
       "            color:  #f1f1f1;\n",
       "        }    #T_e3e87c2e_d4bd_11ea_9f1b_0433c279b76erow3_col1 {\n",
       "            background-color:  #083776;\n",
       "            color:  #f1f1f1;\n",
       "        }    #T_e3e87c2e_d4bd_11ea_9f1b_0433c279b76erow4_col1 {\n",
       "            background-color:  #08306b;\n",
       "            color:  #f1f1f1;\n",
       "        }    #T_e3e87c2e_d4bd_11ea_9f1b_0433c279b76erow5_col1 {\n",
       "            background-color:  #f7fbff;\n",
       "            color:  #000000;\n",
       "        }    #T_e3e87c2e_d4bd_11ea_9f1b_0433c279b76erow6_col1 {\n",
       "            background-color:  #f2f7fd;\n",
       "            color:  #000000;\n",
       "        }    #T_e3e87c2e_d4bd_11ea_9f1b_0433c279b76erow7_col1 {\n",
       "            background-color:  #f1f7fd;\n",
       "            color:  #000000;\n",
       "        }    #T_e3e87c2e_d4bd_11ea_9f1b_0433c279b76erow8_col1 {\n",
       "            background-color:  #e3eef8;\n",
       "            color:  #000000;\n",
       "        }    #T_e3e87c2e_d4bd_11ea_9f1b_0433c279b76erow9_col1 {\n",
       "            background-color:  #e3eef8;\n",
       "            color:  #000000;\n",
       "        }</style><table id=\"T_e3e87c2e_d4bd_11ea_9f1b_0433c279b76e\" ><thead>    <tr>        <th class=\"blank level0\" ></th>        <th class=\"col_heading level0 col0\" >Description</th>        <th class=\"col_heading level0 col1\" >4</th>    </tr></thead><tbody>\n",
       "                <tr>\n",
       "                        <th id=\"T_e3e87c2e_d4bd_11ea_9f1b_0433c279b76elevel0_row0\" class=\"row_heading level0 row0\" >KBA13_SITZE_5</th>\n",
       "                        <td id=\"T_e3e87c2e_d4bd_11ea_9f1b_0433c279b76erow0_col0\" class=\"data row0 col0\" >number of cars with 5 seats in the PLZ8</td>\n",
       "                        <td id=\"T_e3e87c2e_d4bd_11ea_9f1b_0433c279b76erow0_col1\" class=\"data row0 col1\" >0.139682</td>\n",
       "            </tr>\n",
       "            <tr>\n",
       "                        <th id=\"T_e3e87c2e_d4bd_11ea_9f1b_0433c279b76elevel0_row1\" class=\"row_heading level0 row1\" >KBA13_CCM_1401_2500</th>\n",
       "                        <td id=\"T_e3e87c2e_d4bd_11ea_9f1b_0433c279b76erow1_col0\" class=\"data row1 col0\" >-</td>\n",
       "                        <td id=\"T_e3e87c2e_d4bd_11ea_9f1b_0433c279b76erow1_col1\" class=\"data row1 col1\" >0.140505</td>\n",
       "            </tr>\n",
       "            <tr>\n",
       "                        <th id=\"T_e3e87c2e_d4bd_11ea_9f1b_0433c279b76elevel0_row2\" class=\"row_heading level0 row2\" >KBA13_VORB_0</th>\n",
       "                        <td id=\"T_e3e87c2e_d4bd_11ea_9f1b_0433c279b76erow2_col0\" class=\"data row2 col0\" >share of cars with no preowner - PLZ8</td>\n",
       "                        <td id=\"T_e3e87c2e_d4bd_11ea_9f1b_0433c279b76erow2_col1\" class=\"data row2 col1\" >0.151946</td>\n",
       "            </tr>\n",
       "            <tr>\n",
       "                        <th id=\"T_e3e87c2e_d4bd_11ea_9f1b_0433c279b76elevel0_row3\" class=\"row_heading level0 row3\" >KBA13_KMH_210</th>\n",
       "                        <td id=\"T_e3e87c2e_d4bd_11ea_9f1b_0433c279b76erow3_col0\" class=\"data row3 col0\" >-</td>\n",
       "                        <td id=\"T_e3e87c2e_d4bd_11ea_9f1b_0433c279b76erow3_col1\" class=\"data row3 col1\" >0.166981</td>\n",
       "            </tr>\n",
       "            <tr>\n",
       "                        <th id=\"T_e3e87c2e_d4bd_11ea_9f1b_0433c279b76elevel0_row4\" class=\"row_heading level0 row4\" >KBA13_KW_61_120</th>\n",
       "                        <td id=\"T_e3e87c2e_d4bd_11ea_9f1b_0433c279b76erow4_col0\" class=\"data row4 col0\" >share of cars with an engine power between 61 and 120 KW - PLZ8</td>\n",
       "                        <td id=\"T_e3e87c2e_d4bd_11ea_9f1b_0433c279b76erow4_col1\" class=\"data row4 col1\" >0.177252</td>\n",
       "            </tr>\n",
       "            <tr>\n",
       "                        <th id=\"T_e3e87c2e_d4bd_11ea_9f1b_0433c279b76elevel0_row5\" class=\"row_heading level0 row5\" >KBA13_KW_0_60</th>\n",
       "                        <td id=\"T_e3e87c2e_d4bd_11ea_9f1b_0433c279b76erow5_col0\" class=\"data row5 col0\" >share of cars with less than 61 KW engine power - PLZ8</td>\n",
       "                        <td id=\"T_e3e87c2e_d4bd_11ea_9f1b_0433c279b76erow5_col1\" class=\"data row5 col1\" >-0.182226</td>\n",
       "            </tr>\n",
       "            <tr>\n",
       "                        <th id=\"T_e3e87c2e_d4bd_11ea_9f1b_0433c279b76elevel0_row6\" class=\"row_heading level0 row6\" >KBA13_BJ_2000</th>\n",
       "                        <td id=\"T_e3e87c2e_d4bd_11ea_9f1b_0433c279b76erow6_col0\" class=\"data row6 col0\" >share of cars built between 2000 and 2003 within the PLZ8</td>\n",
       "                        <td id=\"T_e3e87c2e_d4bd_11ea_9f1b_0433c279b76erow6_col1\" class=\"data row6 col1\" >-0.171737</td>\n",
       "            </tr>\n",
       "            <tr>\n",
       "                        <th id=\"T_e3e87c2e_d4bd_11ea_9f1b_0433c279b76elevel0_row7\" class=\"row_heading level0 row7\" >OST_WEST_KZ</th>\n",
       "                        <td id=\"T_e3e87c2e_d4bd_11ea_9f1b_0433c279b76erow7_col0\" class=\"data row7 col0\" >flag indicating the former GDR/FRG</td>\n",
       "                        <td id=\"T_e3e87c2e_d4bd_11ea_9f1b_0433c279b76erow7_col1\" class=\"data row7 col1\" >-0.169897</td>\n",
       "            </tr>\n",
       "            <tr>\n",
       "                        <th id=\"T_e3e87c2e_d4bd_11ea_9f1b_0433c279b76elevel0_row8\" class=\"row_heading level0 row8\" >KBA13_KMH_140</th>\n",
       "                        <td id=\"T_e3e87c2e_d4bd_11ea_9f1b_0433c279b76erow8_col0\" class=\"data row8 col0\" >share of cars with max speed between 110 km/h and 140km/h within the PLZ8</td>\n",
       "                        <td id=\"T_e3e87c2e_d4bd_11ea_9f1b_0433c279b76erow8_col1\" class=\"data row8 col1\" >-0.145413</td>\n",
       "            </tr>\n",
       "            <tr>\n",
       "                        <th id=\"T_e3e87c2e_d4bd_11ea_9f1b_0433c279b76elevel0_row9\" class=\"row_heading level0 row9\" >KBA13_CCM_0_1400</th>\n",
       "                        <td id=\"T_e3e87c2e_d4bd_11ea_9f1b_0433c279b76erow9_col0\" class=\"data row9 col0\" >share of cars with less than 1401ccm within the PLZ8</td>\n",
       "                        <td id=\"T_e3e87c2e_d4bd_11ea_9f1b_0433c279b76erow9_col1\" class=\"data row9 col1\" >-0.145085</td>\n",
       "            </tr>\n",
       "    </tbody></table>"
      ],
      "text/plain": [
       "<pandas.io.formats.style.Styler at 0x1c3b8b67348>"
      ]
     },
     "metadata": {},
     "output_type": "display_data"
    },
    {
     "data": {
      "text/html": [
       "<style  type=\"text/css\" >\n",
       "    #T_e3ed3d6c_d4bd_11ea_a54e_0433c279b76erow0_col1 {\n",
       "            background-color:  #1c6bb0;\n",
       "            color:  #f1f1f1;\n",
       "        }    #T_e3ed3d6c_d4bd_11ea_a54e_0433c279b76erow1_col1 {\n",
       "            background-color:  #1b69af;\n",
       "            color:  #f1f1f1;\n",
       "        }    #T_e3ed3d6c_d4bd_11ea_a54e_0433c279b76erow2_col1 {\n",
       "            background-color:  #1966ad;\n",
       "            color:  #f1f1f1;\n",
       "        }    #T_e3ed3d6c_d4bd_11ea_a54e_0433c279b76erow3_col1 {\n",
       "            background-color:  #0e58a2;\n",
       "            color:  #f1f1f1;\n",
       "        }    #T_e3ed3d6c_d4bd_11ea_a54e_0433c279b76erow4_col1 {\n",
       "            background-color:  #08306b;\n",
       "            color:  #f1f1f1;\n",
       "        }    #T_e3ed3d6c_d4bd_11ea_a54e_0433c279b76erow5_col1 {\n",
       "            background-color:  #f7fbff;\n",
       "            color:  #000000;\n",
       "        }    #T_e3ed3d6c_d4bd_11ea_a54e_0433c279b76erow6_col1 {\n",
       "            background-color:  #d8e7f5;\n",
       "            color:  #000000;\n",
       "        }    #T_e3ed3d6c_d4bd_11ea_a54e_0433c279b76erow7_col1 {\n",
       "            background-color:  #d0e2f2;\n",
       "            color:  #000000;\n",
       "        }    #T_e3ed3d6c_d4bd_11ea_a54e_0433c279b76erow8_col1 {\n",
       "            background-color:  #cee0f2;\n",
       "            color:  #000000;\n",
       "        }    #T_e3ed3d6c_d4bd_11ea_a54e_0433c279b76erow9_col1 {\n",
       "            background-color:  #c8dcf0;\n",
       "            color:  #000000;\n",
       "        }</style><table id=\"T_e3ed3d6c_d4bd_11ea_a54e_0433c279b76e\" ><thead>    <tr>        <th class=\"blank level0\" ></th>        <th class=\"col_heading level0 col0\" >Description</th>        <th class=\"col_heading level0 col1\" >37</th>    </tr></thead><tbody>\n",
       "                <tr>\n",
       "                        <th id=\"T_e3ed3d6c_d4bd_11ea_a54e_0433c279b76elevel0_row0\" class=\"row_heading level0 row0\" >SEMIO_MAT</th>\n",
       "                        <td id=\"T_e3ed3d6c_d4bd_11ea_a54e_0433c279b76erow0_col0\" class=\"data row0 col0\" >affinity indicating in what way the person is material minded</td>\n",
       "                        <td id=\"T_e3ed3d6c_d4bd_11ea_a54e_0433c279b76erow0_col1\" class=\"data row0 col1\" >0.147626</td>\n",
       "            </tr>\n",
       "            <tr>\n",
       "                        <th id=\"T_e3ed3d6c_d4bd_11ea_a54e_0433c279b76elevel0_row1\" class=\"row_heading level0 row1\" >LP_FAMILIE_GROB_0.0</th>\n",
       "                        <td id=\"T_e3ed3d6c_d4bd_11ea_a54e_0433c279b76erow1_col0\" class=\"data row1 col0\" >-</td>\n",
       "                        <td id=\"T_e3ed3d6c_d4bd_11ea_a54e_0433c279b76erow1_col1\" class=\"data row1 col1\" >0.15319</td>\n",
       "            </tr>\n",
       "            <tr>\n",
       "                        <th id=\"T_e3ed3d6c_d4bd_11ea_a54e_0433c279b76elevel0_row2\" class=\"row_heading level0 row2\" >D19_BANKEN_DIREKT</th>\n",
       "                        <td id=\"T_e3ed3d6c_d4bd_11ea_a54e_0433c279b76erow2_col0\" class=\"data row2 col0\" >-</td>\n",
       "                        <td id=\"T_e3ed3d6c_d4bd_11ea_a54e_0433c279b76erow2_col1\" class=\"data row2 col1\" >0.157562</td>\n",
       "            </tr>\n",
       "            <tr>\n",
       "                        <th id=\"T_e3ed3d6c_d4bd_11ea_a54e_0433c279b76elevel0_row3\" class=\"row_heading level0 row3\" >GEBURTSJAHR</th>\n",
       "                        <td id=\"T_e3ed3d6c_d4bd_11ea_a54e_0433c279b76erow3_col0\" class=\"data row3 col0\" >year of birth</td>\n",
       "                        <td id=\"T_e3ed3d6c_d4bd_11ea_a54e_0433c279b76erow3_col1\" class=\"data row3 col1\" >0.187261</td>\n",
       "            </tr>\n",
       "            <tr>\n",
       "                        <th id=\"T_e3ed3d6c_d4bd_11ea_a54e_0433c279b76elevel0_row4\" class=\"row_heading level0 row4\" >EINGEZOGENAM_HH_JAHR</th>\n",
       "                        <td id=\"T_e3ed3d6c_d4bd_11ea_a54e_0433c279b76erow4_col0\" class=\"data row4 col0\" >-</td>\n",
       "                        <td id=\"T_e3ed3d6c_d4bd_11ea_a54e_0433c279b76erow4_col1\" class=\"data row4 col1\" >0.267009</td>\n",
       "            </tr>\n",
       "            <tr>\n",
       "                        <th id=\"T_e3ed3d6c_d4bd_11ea_a54e_0433c279b76elevel0_row5\" class=\"row_heading level0 row5\" >WOHNDAUER_2008</th>\n",
       "                        <td id=\"T_e3ed3d6c_d4bd_11ea_a54e_0433c279b76erow5_col0\" class=\"data row5 col0\" >length of residenca</td>\n",
       "                        <td id=\"T_e3ed3d6c_d4bd_11ea_a54e_0433c279b76erow5_col1\" class=\"data row5 col1\" >-0.252836</td>\n",
       "            </tr>\n",
       "            <tr>\n",
       "                        <th id=\"T_e3ed3d6c_d4bd_11ea_a54e_0433c279b76elevel0_row6\" class=\"row_heading level0 row6\" >NATIONALITAET_KZ_1.0</th>\n",
       "                        <td id=\"T_e3ed3d6c_d4bd_11ea_a54e_0433c279b76erow6_col0\" class=\"data row6 col0\" >-</td>\n",
       "                        <td id=\"T_e3ed3d6c_d4bd_11ea_a54e_0433c279b76erow6_col1\" class=\"data row6 col1\" >-0.170953</td>\n",
       "            </tr>\n",
       "            <tr>\n",
       "                        <th id=\"T_e3ed3d6c_d4bd_11ea_a54e_0433c279b76elevel0_row7\" class=\"row_heading level0 row7\" >D19_VERSAND_ANZ_12</th>\n",
       "                        <td id=\"T_e3ed3d6c_d4bd_11ea_a54e_0433c279b76erow7_col0\" class=\"data row7 col0\" >-</td>\n",
       "                        <td id=\"T_e3ed3d6c_d4bd_11ea_a54e_0433c279b76erow7_col1\" class=\"data row7 col1\" >-0.14983</td>\n",
       "            </tr>\n",
       "            <tr>\n",
       "                        <th id=\"T_e3ed3d6c_d4bd_11ea_a54e_0433c279b76elevel0_row8\" class=\"row_heading level0 row8\" >D19_GESAMT_ANZ_12</th>\n",
       "                        <td id=\"T_e3ed3d6c_d4bd_11ea_a54e_0433c279b76erow8_col0\" class=\"data row8 col0\" >transaction activity TOTAL POOL in the last 12 months </td>\n",
       "                        <td id=\"T_e3ed3d6c_d4bd_11ea_a54e_0433c279b76erow8_col1\" class=\"data row8 col1\" >-0.143393</td>\n",
       "            </tr>\n",
       "            <tr>\n",
       "                        <th id=\"T_e3ed3d6c_d4bd_11ea_a54e_0433c279b76elevel0_row9\" class=\"row_heading level0 row9\" >REGIOTYP</th>\n",
       "                        <td id=\"T_e3ed3d6c_d4bd_11ea_a54e_0433c279b76erow9_col0\" class=\"data row9 col0\" >AZ neighbourhood typology</td>\n",
       "                        <td id=\"T_e3ed3d6c_d4bd_11ea_a54e_0433c279b76erow9_col1\" class=\"data row9 col1\" >-0.128505</td>\n",
       "            </tr>\n",
       "    </tbody></table>"
      ],
      "text/plain": [
       "<pandas.io.formats.style.Styler at 0x1c3c7590388>"
      ]
     },
     "metadata": {},
     "output_type": "display_data"
    },
    {
     "name": "stdout",
     "output_type": "stream",
     "text": [
      "Positive Components:  [1 0]\n"
     ]
    },
    {
     "data": {
      "text/html": [
       "<style  type=\"text/css\" >\n",
       "    #T_e3f2bb9c_d4bd_11ea_8883_0433c279b76erow0_col1 {\n",
       "            background-color:  #083b7c;\n",
       "            color:  #f1f1f1;\n",
       "        }    #T_e3f2bb9c_d4bd_11ea_8883_0433c279b76erow1_col1 {\n",
       "            background-color:  #083877;\n",
       "            color:  #f1f1f1;\n",
       "        }    #T_e3f2bb9c_d4bd_11ea_8883_0433c279b76erow2_col1 {\n",
       "            background-color:  #08326e;\n",
       "            color:  #f1f1f1;\n",
       "        }    #T_e3f2bb9c_d4bd_11ea_8883_0433c279b76erow3_col1 {\n",
       "            background-color:  #08316d;\n",
       "            color:  #f1f1f1;\n",
       "        }    #T_e3f2bb9c_d4bd_11ea_8883_0433c279b76erow4_col1 {\n",
       "            background-color:  #08306b;\n",
       "            color:  #f1f1f1;\n",
       "        }    #T_e3f2bb9c_d4bd_11ea_8883_0433c279b76erow5_col1 {\n",
       "            background-color:  #f7fbff;\n",
       "            color:  #000000;\n",
       "        }    #T_e3f2bb9c_d4bd_11ea_8883_0433c279b76erow6_col1 {\n",
       "            background-color:  #f1f7fd;\n",
       "            color:  #000000;\n",
       "        }    #T_e3f2bb9c_d4bd_11ea_8883_0433c279b76erow7_col1 {\n",
       "            background-color:  #eff6fc;\n",
       "            color:  #000000;\n",
       "        }    #T_e3f2bb9c_d4bd_11ea_8883_0433c279b76erow8_col1 {\n",
       "            background-color:  #eaf2fb;\n",
       "            color:  #000000;\n",
       "        }    #T_e3f2bb9c_d4bd_11ea_8883_0433c279b76erow9_col1 {\n",
       "            background-color:  #eaf2fb;\n",
       "            color:  #000000;\n",
       "        }</style><table id=\"T_e3f2bb9c_d4bd_11ea_8883_0433c279b76e\" ><thead>    <tr>        <th class=\"blank level0\" ></th>        <th class=\"col_heading level0 col0\" >Description</th>        <th class=\"col_heading level0 col1\" >1</th>    </tr></thead><tbody>\n",
       "                <tr>\n",
       "                        <th id=\"T_e3f2bb9c_d4bd_11ea_8883_0433c279b76elevel0_row0\" class=\"row_heading level0 row0\" >CJT_TYP_1</th>\n",
       "                        <td id=\"T_e3f2bb9c_d4bd_11ea_8883_0433c279b76erow0_col0\" class=\"data row0 col0\" >-</td>\n",
       "                        <td id=\"T_e3f2bb9c_d4bd_11ea_8883_0433c279b76erow0_col1\" class=\"data row0 col1\" >0.124903</td>\n",
       "            </tr>\n",
       "            <tr>\n",
       "                        <th id=\"T_e3f2bb9c_d4bd_11ea_8883_0433c279b76elevel0_row1\" class=\"row_heading level0 row1\" >FINANZ_SPARER</th>\n",
       "                        <td id=\"T_e3f2bb9c_d4bd_11ea_8883_0433c279b76erow1_col0\" class=\"data row1 col0\" >financial typology: money saver</td>\n",
       "                        <td id=\"T_e3f2bb9c_d4bd_11ea_8883_0433c279b76erow1_col1\" class=\"data row1 col1\" >0.127958</td>\n",
       "            </tr>\n",
       "            <tr>\n",
       "                        <th id=\"T_e3f2bb9c_d4bd_11ea_8883_0433c279b76elevel0_row2\" class=\"row_heading level0 row2\" >ONLINE_AFFINITAET</th>\n",
       "                        <td id=\"T_e3f2bb9c_d4bd_11ea_8883_0433c279b76erow2_col0\" class=\"data row2 col0\" >online affinity</td>\n",
       "                        <td id=\"T_e3f2bb9c_d4bd_11ea_8883_0433c279b76erow2_col1\" class=\"data row2 col1\" >0.134101</td>\n",
       "            </tr>\n",
       "            <tr>\n",
       "                        <th id=\"T_e3f2bb9c_d4bd_11ea_8883_0433c279b76elevel0_row3\" class=\"row_heading level0 row3\" >FINANZ_ANLEGER</th>\n",
       "                        <td id=\"T_e3f2bb9c_d4bd_11ea_8883_0433c279b76erow3_col0\" class=\"data row3 col0\" >financial typology: investor</td>\n",
       "                        <td id=\"T_e3f2bb9c_d4bd_11ea_8883_0433c279b76erow3_col1\" class=\"data row3 col1\" >0.135878</td>\n",
       "            </tr>\n",
       "            <tr>\n",
       "                        <th id=\"T_e3f2bb9c_d4bd_11ea_8883_0433c279b76elevel0_row4\" class=\"row_heading level0 row4\" >DECADE_PRAGENDE_JUGENDJAHRE</th>\n",
       "                        <td id=\"T_e3f2bb9c_d4bd_11ea_8883_0433c279b76erow4_col0\" class=\"data row4 col0\" >-</td>\n",
       "                        <td id=\"T_e3f2bb9c_d4bd_11ea_8883_0433c279b76erow4_col1\" class=\"data row4 col1\" >0.137129</td>\n",
       "            </tr>\n",
       "            <tr>\n",
       "                        <th id=\"T_e3f2bb9c_d4bd_11ea_8883_0433c279b76elevel0_row5\" class=\"row_heading level0 row5\" >FINANZ_VORSORGER</th>\n",
       "                        <td id=\"T_e3f2bb9c_d4bd_11ea_8883_0433c279b76erow5_col0\" class=\"data row5 col0\" >financial typology: be prepared</td>\n",
       "                        <td id=\"T_e3f2bb9c_d4bd_11ea_8883_0433c279b76erow5_col1\" class=\"data row5 col1\" >-0.129723</td>\n",
       "            </tr>\n",
       "            <tr>\n",
       "                        <th id=\"T_e3f2bb9c_d4bd_11ea_8883_0433c279b76elevel0_row6\" class=\"row_heading level0 row6\" >CJT_TYP_4</th>\n",
       "                        <td id=\"T_e3f2bb9c_d4bd_11ea_8883_0433c279b76erow6_col0\" class=\"data row6 col0\" >-</td>\n",
       "                        <td id=\"T_e3f2bb9c_d4bd_11ea_8883_0433c279b76erow6_col1\" class=\"data row6 col1\" >-0.120769</td>\n",
       "            </tr>\n",
       "            <tr>\n",
       "                        <th id=\"T_e3f2bb9c_d4bd_11ea_8883_0433c279b76elevel0_row7\" class=\"row_heading level0 row7\" >CJT_TYP_5</th>\n",
       "                        <td id=\"T_e3f2bb9c_d4bd_11ea_8883_0433c279b76erow7_col0\" class=\"data row7 col0\" >-</td>\n",
       "                        <td id=\"T_e3f2bb9c_d4bd_11ea_8883_0433c279b76erow7_col1\" class=\"data row7 col1\" >-0.118953</td>\n",
       "            </tr>\n",
       "            <tr>\n",
       "                        <th id=\"T_e3f2bb9c_d4bd_11ea_8883_0433c279b76elevel0_row8\" class=\"row_heading level0 row8\" >ALTERSKATEGORIE_GROB</th>\n",
       "                        <td id=\"T_e3f2bb9c_d4bd_11ea_8883_0433c279b76erow8_col0\" class=\"data row8 col0\" >age through prename analysis </td>\n",
       "                        <td id=\"T_e3f2bb9c_d4bd_11ea_8883_0433c279b76erow8_col1\" class=\"data row8 col1\" >-0.111833</td>\n",
       "            </tr>\n",
       "            <tr>\n",
       "                        <th id=\"T_e3f2bb9c_d4bd_11ea_8883_0433c279b76elevel0_row9\" class=\"row_heading level0 row9\" >D19_GESAMT_ONLINE_DATUM</th>\n",
       "                        <td id=\"T_e3f2bb9c_d4bd_11ea_8883_0433c279b76erow9_col0\" class=\"data row9 col0\" >actuality of the last transaction with the complete file ONLINE</td>\n",
       "                        <td id=\"T_e3f2bb9c_d4bd_11ea_8883_0433c279b76erow9_col1\" class=\"data row9 col1\" >-0.111587</td>\n",
       "            </tr>\n",
       "    </tbody></table>"
      ],
      "text/plain": [
       "<pandas.io.formats.style.Styler at 0x1c3bd391f08>"
      ]
     },
     "metadata": {},
     "output_type": "display_data"
    },
    {
     "data": {
      "text/html": [
       "<style  type=\"text/css\" >\n",
       "    #T_e3f70164_d4bd_11ea_8784_0433c279b76erow0_col1 {\n",
       "            background-color:  #083c7d;\n",
       "            color:  #f1f1f1;\n",
       "        }    #T_e3f70164_d4bd_11ea_8784_0433c279b76erow1_col1 {\n",
       "            background-color:  #083979;\n",
       "            color:  #f1f1f1;\n",
       "        }    #T_e3f70164_d4bd_11ea_8784_0433c279b76erow2_col1 {\n",
       "            background-color:  #083674;\n",
       "            color:  #f1f1f1;\n",
       "        }    #T_e3f70164_d4bd_11ea_8784_0433c279b76erow3_col1 {\n",
       "            background-color:  #083573;\n",
       "            color:  #f1f1f1;\n",
       "        }    #T_e3f70164_d4bd_11ea_8784_0433c279b76erow4_col1 {\n",
       "            background-color:  #08306b;\n",
       "            color:  #f1f1f1;\n",
       "        }    #T_e3f70164_d4bd_11ea_8784_0433c279b76erow5_col1 {\n",
       "            background-color:  #f7fbff;\n",
       "            color:  #000000;\n",
       "        }    #T_e3f70164_d4bd_11ea_8784_0433c279b76erow6_col1 {\n",
       "            background-color:  #f7fbff;\n",
       "            color:  #000000;\n",
       "        }    #T_e3f70164_d4bd_11ea_8784_0433c279b76erow7_col1 {\n",
       "            background-color:  #f5f9fe;\n",
       "            color:  #000000;\n",
       "        }    #T_e3f70164_d4bd_11ea_8784_0433c279b76erow8_col1 {\n",
       "            background-color:  #f4f9fe;\n",
       "            color:  #000000;\n",
       "        }    #T_e3f70164_d4bd_11ea_8784_0433c279b76erow9_col1 {\n",
       "            background-color:  #f4f9fe;\n",
       "            color:  #000000;\n",
       "        }</style><table id=\"T_e3f70164_d4bd_11ea_8784_0433c279b76e\" ><thead>    <tr>        <th class=\"blank level0\" ></th>        <th class=\"col_heading level0 col0\" >Description</th>        <th class=\"col_heading level0 col1\" >0</th>    </tr></thead><tbody>\n",
       "                <tr>\n",
       "                        <th id=\"T_e3f70164_d4bd_11ea_8784_0433c279b76elevel0_row0\" class=\"row_heading level0 row0\" >MOBI_RASTER</th>\n",
       "                        <td id=\"T_e3f70164_d4bd_11ea_8784_0433c279b76erow0_col0\" class=\"data row0 col0\" >-</td>\n",
       "                        <td id=\"T_e3f70164_d4bd_11ea_8784_0433c279b76erow0_col1\" class=\"data row0 col1\" >0.127864</td>\n",
       "            </tr>\n",
       "            <tr>\n",
       "                        <th id=\"T_e3f70164_d4bd_11ea_8784_0433c279b76elevel0_row1\" class=\"row_heading level0 row1\" >KBA05_ANTG1</th>\n",
       "                        <td id=\"T_e3f70164_d4bd_11ea_8784_0433c279b76erow1_col0\" class=\"data row1 col0\" >number of 1-2 family houses in the cell</td>\n",
       "                        <td id=\"T_e3f70164_d4bd_11ea_8784_0433c279b76erow1_col1\" class=\"data row1 col1\" >0.130827</td>\n",
       "            </tr>\n",
       "            <tr>\n",
       "                        <th id=\"T_e3f70164_d4bd_11ea_8784_0433c279b76elevel0_row2\" class=\"row_heading level0 row2\" >KBA13_ANTG1</th>\n",
       "                        <td id=\"T_e3f70164_d4bd_11ea_8784_0433c279b76erow2_col0\" class=\"data row2 col0\" >-</td>\n",
       "                        <td id=\"T_e3f70164_d4bd_11ea_8784_0433c279b76erow2_col1\" class=\"data row2 col1\" >0.134723</td>\n",
       "            </tr>\n",
       "            <tr>\n",
       "                        <th id=\"T_e3f70164_d4bd_11ea_8784_0433c279b76elevel0_row3\" class=\"row_heading level0 row3\" >PLZ8_ANTG1</th>\n",
       "                        <td id=\"T_e3f70164_d4bd_11ea_8784_0433c279b76erow3_col0\" class=\"data row3 col0\" >number of 1-2 family houses in the PLZ8</td>\n",
       "                        <td id=\"T_e3f70164_d4bd_11ea_8784_0433c279b76erow3_col1\" class=\"data row3 col1\" >0.135135</td>\n",
       "            </tr>\n",
       "            <tr>\n",
       "                        <th id=\"T_e3f70164_d4bd_11ea_8784_0433c279b76elevel0_row4\" class=\"row_heading level0 row4\" >MOBI_REGIO</th>\n",
       "                        <td id=\"T_e3f70164_d4bd_11ea_8784_0433c279b76erow4_col0\" class=\"data row4 col0\" >moving patterns</td>\n",
       "                        <td id=\"T_e3f70164_d4bd_11ea_8784_0433c279b76erow4_col1\" class=\"data row4 col1\" >0.141189</td>\n",
       "            </tr>\n",
       "            <tr>\n",
       "                        <th id=\"T_e3f70164_d4bd_11ea_8784_0433c279b76elevel0_row5\" class=\"row_heading level0 row5\" >PLZ8_ANTG3</th>\n",
       "                        <td id=\"T_e3f70164_d4bd_11ea_8784_0433c279b76erow5_col0\" class=\"data row5 col0\" >number of 6-10 family houses in the PLZ8</td>\n",
       "                        <td id=\"T_e3f70164_d4bd_11ea_8784_0433c279b76erow5_col1\" class=\"data row5 col1\" >-0.133818</td>\n",
       "            </tr>\n",
       "            <tr>\n",
       "                        <th id=\"T_e3f70164_d4bd_11ea_8784_0433c279b76elevel0_row6\" class=\"row_heading level0 row6\" >KBA13_ANTG3</th>\n",
       "                        <td id=\"T_e3f70164_d4bd_11ea_8784_0433c279b76erow6_col0\" class=\"data row6 col0\" >-</td>\n",
       "                        <td id=\"T_e3f70164_d4bd_11ea_8784_0433c279b76erow6_col1\" class=\"data row6 col1\" >-0.133253</td>\n",
       "            </tr>\n",
       "            <tr>\n",
       "                        <th id=\"T_e3f70164_d4bd_11ea_8784_0433c279b76elevel0_row7\" class=\"row_heading level0 row7\" >KBA13_ANTG4</th>\n",
       "                        <td id=\"T_e3f70164_d4bd_11ea_8784_0433c279b76erow7_col0\" class=\"data row7 col0\" >-</td>\n",
       "                        <td id=\"T_e3f70164_d4bd_11ea_8784_0433c279b76erow7_col1\" class=\"data row7 col1\" >-0.129879</td>\n",
       "            </tr>\n",
       "            <tr>\n",
       "                        <th id=\"T_e3f70164_d4bd_11ea_8784_0433c279b76elevel0_row8\" class=\"row_heading level0 row8\" >KBA13_BAUMAX</th>\n",
       "                        <td id=\"T_e3f70164_d4bd_11ea_8784_0433c279b76erow8_col0\" class=\"data row8 col0\" >-</td>\n",
       "                        <td id=\"T_e3f70164_d4bd_11ea_8784_0433c279b76erow8_col1\" class=\"data row8 col1\" >-0.12926</td>\n",
       "            </tr>\n",
       "            <tr>\n",
       "                        <th id=\"T_e3f70164_d4bd_11ea_8784_0433c279b76elevel0_row9\" class=\"row_heading level0 row9\" >PLZ8_ANTG4</th>\n",
       "                        <td id=\"T_e3f70164_d4bd_11ea_8784_0433c279b76erow9_col0\" class=\"data row9 col0\" >number of >10 family houses in the PLZ8</td>\n",
       "                        <td id=\"T_e3f70164_d4bd_11ea_8784_0433c279b76erow9_col1\" class=\"data row9 col1\" >-0.12856</td>\n",
       "            </tr>\n",
       "    </tbody></table>"
      ],
      "text/plain": [
       "<pandas.io.formats.style.Styler at 0x1c3c6158608>"
      ]
     },
     "metadata": {},
     "output_type": "display_data"
    },
    {
     "name": "stdout",
     "output_type": "stream",
     "text": [
      "-------------------\n"
     ]
    }
   ],
   "source": [
    "# Non-Customer Clusters (diff<0, top 2) - identifying and analyzing most important components\n",
    "for cluster in diff_comp[diff_comp['Delta'] < 0].sort_values(by='Delta', ascending=False)[-2:].index.values:\n",
    "    # selecting the two components with the highest negative weight\n",
    "    neg_comp = pd.Series(model_k.cluster_centers_[cluster,:]).sort_values()[:2].index.values\n",
    "    # selecting the two components with the highest positive weight\n",
    "    pos_comp = pd.Series(model_k.cluster_centers_[cluster,:]).sort_values()[-2:].index.values\n",
    "    print('\\n','CLUSTER ', cluster)\n",
    "    print('Negative Components: ', neg_comp)\n",
    "    display(most_relevant_feats(neg_comp[0], 5).style.background_gradient(cmap='Blues',subset=[neg_comp[0]]))\n",
    "    display(most_relevant_feats(neg_comp[1], 5).style.background_gradient(cmap='Blues',subset=[neg_comp[1]]))\n",
    "    print('Positive Components: ', pos_comp)\n",
    "    display(most_relevant_feats(pos_comp[0], 5).style.background_gradient(cmap='Blues',subset=[pos_comp[0]]))\n",
    "    display(most_relevant_feats(pos_comp[1], 5).style.background_gradient(cmap='Blues',subset=[pos_comp[1]]))\n",
    "    print('-------------------')"
   ]
  },
  {
   "cell_type": "code",
   "execution_count": 70,
   "metadata": {},
   "outputs": [
    {
     "data": {
      "image/png": "[encoded data removed]",
      "text/plain": [
       "<Figure size 1080x720 with 1 Axes>"
      ]
     },
     "metadata": {
      "needs_background": "light"
     },
     "output_type": "display_data"
    }
   ],
   "source": [
    "# Using Seaborn's distplot to plot the proportion of individuals in each cluster\n",
    "fig, ax = plt.subplots(figsize=(15,10))\n",
    "ax.set_title('General Population vs Customers Distribution')\n",
    "ax.set_xticks([0,1,2,3,4,5,6,7,8,9])\n",
    "ax.set_xlabel('Cluster')\n",
    "ax.set_ylabel('Proportion of individuals')\n",
    "sns.distplot(prediction_clusters_azdias, hist=False, label='General Population',ax=ax)\n",
    "sns.distplot(prediction_clusters_cust , hist=False, label='Customers', ax=ax)\n",
    "ax.legend();"
   ]
  },
  {
   "cell_type": "markdown",
   "metadata": {},
   "source": [
    "## Part 2: Supervised Learning Model\n",
    "\n",
    "Now that we've found which parts of the population are more likely to be customers of the mail-order company, it's time to build a prediction model. \n",
    "\n",
    "I've picked the XGBoost algorithm to predict which customers are most likely to respond to mail-order campaigns. The results are obviously skewed because of the dataset's imbalance. I have used the [SMOTE](https://machinelearningmastery.com/smote-oversampling-for-imbalanced-classification/) oversampling technique to offset the imbalance effect, to little avail."
   ]
  },
  {
   "cell_type": "code",
   "execution_count": 105,
   "metadata": {},
   "outputs": [
    {
     "name": "stderr",
     "output_type": "stream",
     "text": [
      "C:\\Users\\Theoto Tatiana\\AppData\\Local\\Continuum\\anaconda3\\lib\\site-packages\\IPython\\core\\interactiveshell.py:3058: DtypeWarning: Columns (18,19) have mixed types. Specify dtype option on import or set low_memory=False.\n",
      "  interactivity=interactivity, compiler=compiler, result=result)\n"
     ]
    }
   ],
   "source": [
    "# load train data - change to \";\"\n",
    "mailout_train = pd.read_csv('Udacity_MAILOUT_052018_TRAIN.csv', sep=',')"
   ]
  },
  {
   "cell_type": "code",
   "execution_count": 107,
   "metadata": {},
   "outputs": [
    {
     "data": {
      "text/html": [
       "<div>\n",
       "<style scoped>\n",
       "    .dataframe tbody tr th:only-of-type {\n",
       "        vertical-align: middle;\n",
       "    }\n",
       "\n",
       "    .dataframe tbody tr th {\n",
       "        vertical-align: top;\n",
       "    }\n",
       "\n",
       "    .dataframe thead th {\n",
       "        text-align: right;\n",
       "    }\n",
       "</style>\n",
       "<table border=\"1\" class=\"dataframe\">\n",
       "  <thead>\n",
       "    <tr style=\"text-align: right;\">\n",
       "      <th></th>\n",
       "      <th>LNR</th>\n",
       "      <th>AGER_TYP</th>\n",
       "      <th>AKT_DAT_KL</th>\n",
       "      <th>ALTER_HH</th>\n",
       "      <th>ALTER_KIND1</th>\n",
       "      <th>ALTER_KIND2</th>\n",
       "      <th>ALTER_KIND3</th>\n",
       "      <th>ALTER_KIND4</th>\n",
       "      <th>ALTERSKATEGORIE_FEIN</th>\n",
       "      <th>ANZ_HAUSHALTE_AKTIV</th>\n",
       "      <th>...</th>\n",
       "      <th>VK_DHT4A</th>\n",
       "      <th>VK_DISTANZ</th>\n",
       "      <th>VK_ZG11</th>\n",
       "      <th>W_KEIT_KIND_HH</th>\n",
       "      <th>WOHNDAUER_2008</th>\n",
       "      <th>WOHNLAGE</th>\n",
       "      <th>ZABEOTYP</th>\n",
       "      <th>RESPONSE</th>\n",
       "      <th>ANREDE_KZ</th>\n",
       "      <th>ALTERSKATEGORIE_GROB</th>\n",
       "    </tr>\n",
       "  </thead>\n",
       "  <tbody>\n",
       "    <tr>\n",
       "      <td>0</td>\n",
       "      <td>1763</td>\n",
       "      <td>2</td>\n",
       "      <td>1.0</td>\n",
       "      <td>8.0</td>\n",
       "      <td>NaN</td>\n",
       "      <td>NaN</td>\n",
       "      <td>NaN</td>\n",
       "      <td>NaN</td>\n",
       "      <td>8.0</td>\n",
       "      <td>15.0</td>\n",
       "      <td>...</td>\n",
       "      <td>5.0</td>\n",
       "      <td>2.0</td>\n",
       "      <td>1.0</td>\n",
       "      <td>6.0</td>\n",
       "      <td>9.0</td>\n",
       "      <td>3.0</td>\n",
       "      <td>3</td>\n",
       "      <td>0</td>\n",
       "      <td>2</td>\n",
       "      <td>4</td>\n",
       "    </tr>\n",
       "    <tr>\n",
       "      <td>1</td>\n",
       "      <td>1771</td>\n",
       "      <td>1</td>\n",
       "      <td>4.0</td>\n",
       "      <td>13.0</td>\n",
       "      <td>NaN</td>\n",
       "      <td>NaN</td>\n",
       "      <td>NaN</td>\n",
       "      <td>NaN</td>\n",
       "      <td>13.0</td>\n",
       "      <td>1.0</td>\n",
       "      <td>...</td>\n",
       "      <td>1.0</td>\n",
       "      <td>2.0</td>\n",
       "      <td>1.0</td>\n",
       "      <td>4.0</td>\n",
       "      <td>9.0</td>\n",
       "      <td>7.0</td>\n",
       "      <td>1</td>\n",
       "      <td>0</td>\n",
       "      <td>2</td>\n",
       "      <td>3</td>\n",
       "    </tr>\n",
       "    <tr>\n",
       "      <td>2</td>\n",
       "      <td>1776</td>\n",
       "      <td>1</td>\n",
       "      <td>1.0</td>\n",
       "      <td>9.0</td>\n",
       "      <td>NaN</td>\n",
       "      <td>NaN</td>\n",
       "      <td>NaN</td>\n",
       "      <td>NaN</td>\n",
       "      <td>7.0</td>\n",
       "      <td>0.0</td>\n",
       "      <td>...</td>\n",
       "      <td>6.0</td>\n",
       "      <td>4.0</td>\n",
       "      <td>2.0</td>\n",
       "      <td>NaN</td>\n",
       "      <td>9.0</td>\n",
       "      <td>2.0</td>\n",
       "      <td>3</td>\n",
       "      <td>0</td>\n",
       "      <td>1</td>\n",
       "      <td>4</td>\n",
       "    </tr>\n",
       "    <tr>\n",
       "      <td>3</td>\n",
       "      <td>1460</td>\n",
       "      <td>2</td>\n",
       "      <td>1.0</td>\n",
       "      <td>6.0</td>\n",
       "      <td>NaN</td>\n",
       "      <td>NaN</td>\n",
       "      <td>NaN</td>\n",
       "      <td>NaN</td>\n",
       "      <td>6.0</td>\n",
       "      <td>4.0</td>\n",
       "      <td>...</td>\n",
       "      <td>8.0</td>\n",
       "      <td>11.0</td>\n",
       "      <td>11.0</td>\n",
       "      <td>6.0</td>\n",
       "      <td>9.0</td>\n",
       "      <td>1.0</td>\n",
       "      <td>3</td>\n",
       "      <td>0</td>\n",
       "      <td>2</td>\n",
       "      <td>4</td>\n",
       "    </tr>\n",
       "    <tr>\n",
       "      <td>4</td>\n",
       "      <td>1783</td>\n",
       "      <td>2</td>\n",
       "      <td>1.0</td>\n",
       "      <td>9.0</td>\n",
       "      <td>NaN</td>\n",
       "      <td>NaN</td>\n",
       "      <td>NaN</td>\n",
       "      <td>NaN</td>\n",
       "      <td>9.0</td>\n",
       "      <td>53.0</td>\n",
       "      <td>...</td>\n",
       "      <td>2.0</td>\n",
       "      <td>2.0</td>\n",
       "      <td>1.0</td>\n",
       "      <td>6.0</td>\n",
       "      <td>9.0</td>\n",
       "      <td>3.0</td>\n",
       "      <td>3</td>\n",
       "      <td>0</td>\n",
       "      <td>1</td>\n",
       "      <td>3</td>\n",
       "    </tr>\n",
       "  </tbody>\n",
       "</table>\n",
       "<p>5 rows × 367 columns</p>\n",
       "</div>"
      ],
      "text/plain": [
       "    LNR  AGER_TYP  AKT_DAT_KL  ALTER_HH  ALTER_KIND1  ALTER_KIND2  \\\n",
       "0  1763         2         1.0       8.0          NaN          NaN   \n",
       "1  1771         1         4.0      13.0          NaN          NaN   \n",
       "2  1776         1         1.0       9.0          NaN          NaN   \n",
       "3  1460         2         1.0       6.0          NaN          NaN   \n",
       "4  1783         2         1.0       9.0          NaN          NaN   \n",
       "\n",
       "   ALTER_KIND3  ALTER_KIND4  ALTERSKATEGORIE_FEIN  ANZ_HAUSHALTE_AKTIV  ...  \\\n",
       "0          NaN          NaN                   8.0                 15.0  ...   \n",
       "1          NaN          NaN                  13.0                  1.0  ...   \n",
       "2          NaN          NaN                   7.0                  0.0  ...   \n",
       "3          NaN          NaN                   6.0                  4.0  ...   \n",
       "4          NaN          NaN                   9.0                 53.0  ...   \n",
       "\n",
       "   VK_DHT4A  VK_DISTANZ  VK_ZG11  W_KEIT_KIND_HH  WOHNDAUER_2008  WOHNLAGE  \\\n",
       "0       5.0         2.0      1.0             6.0             9.0       3.0   \n",
       "1       1.0         2.0      1.0             4.0             9.0       7.0   \n",
       "2       6.0         4.0      2.0             NaN             9.0       2.0   \n",
       "3       8.0        11.0     11.0             6.0             9.0       1.0   \n",
       "4       2.0         2.0      1.0             6.0             9.0       3.0   \n",
       "\n",
       "   ZABEOTYP RESPONSE ANREDE_KZ ALTERSKATEGORIE_GROB  \n",
       "0         3        0         2                    4  \n",
       "1         1        0         2                    3  \n",
       "2         3        0         1                    4  \n",
       "3         3        0         2                    4  \n",
       "4         3        0         1                    3  \n",
       "\n",
       "[5 rows x 367 columns]"
      ]
     },
     "execution_count": 107,
     "metadata": {},
     "output_type": "execute_result"
    }
   ],
   "source": [
    "# Exploring the dataset\n",
    "mailout_train.head()"
   ]
  },
  {
   "cell_type": "code",
   "execution_count": 106,
   "metadata": {},
   "outputs": [],
   "source": [
    "# split train data into X and y\n",
    "X = mailout_train.copy().drop(columns=['RESPONSE'])\n",
    "y = mailout_train.copy()['RESPONSE']"
   ]
  },
  {
   "cell_type": "code",
   "execution_count": 108,
   "metadata": {},
   "outputs": [
    {
     "data": {
      "text/plain": [
       "0    42430\n",
       "1      532\n",
       "Name: RESPONSE, dtype: int64"
      ]
     },
     "execution_count": 108,
     "metadata": {},
     "output_type": "execute_result"
    }
   ],
   "source": [
    "# Response values - dataset is heavily imbalanced!\n",
    "y.value_counts()"
   ]
  },
  {
   "cell_type": "code",
   "execution_count": 109,
   "metadata": {},
   "outputs": [],
   "source": [
    "# cleaning dataset, but preserving all its rows\n",
    "pd.options.mode.chained_assignment = None\n",
    "X_clean = clean_dataset(X, model=True)"
   ]
  },
  {
   "cell_type": "code",
   "execution_count": 110,
   "metadata": {},
   "outputs": [],
   "source": [
    "# scaling, inputing & creating PCA matrix\n",
    "X_clean_pca = scale_imput_pca(X_clean, comp_80)"
   ]
  },
  {
   "cell_type": "code",
   "execution_count": 111,
   "metadata": {},
   "outputs": [],
   "source": [
    "# splitting into train and validation\n",
    "X_train, X_valid, y_train, y_valid = train_test_split(X_clean_pca, y, test_size=0.3, random_state=42)"
   ]
  },
  {
   "cell_type": "code",
   "execution_count": 112,
   "metadata": {},
   "outputs": [],
   "source": [
    "# balancing input\n",
    "sm = SMOTE(sampling_strategy = 1.0, random_state=42)\n",
    "X_balanced_train, y_balanced_train = sm.fit_resample(X_train, y_train)"
   ]
  },
  {
   "cell_type": "code",
   "execution_count": 113,
   "metadata": {},
   "outputs": [
    {
     "data": {
      "text/plain": [
       "1    29713\n",
       "0    29713\n",
       "Name: RESPONSE, dtype: int64"
      ]
     },
     "execution_count": 113,
     "metadata": {},
     "output_type": "execute_result"
    }
   ],
   "source": [
    "# checking re-balanced training set\n",
    "y_balanced_train.value_counts()"
   ]
  },
  {
   "cell_type": "markdown",
   "metadata": {},
   "source": [
    "### XGBClassifier Algorithm\n",
    "\n",
    "In order to identify potential customers (i.e. individuals that will potentially answer to a marketing campaign), I chose XGBoost's classifier algorithm, XGBClassifier. As [this post](https://towardsdatascience.com/a-beginners-guide-to-xgboost-87f5d4c30ed7) highlights, XGBoost offers a high-performance implementation of gradient boosted trees, training models in succession, with each new model beign trained to correct the errors made by the previous ones.  \n",
    "\n",
    "In order to tune the algorithm's hyperparameters, I have resorted to GridSearchCV, as well as fit_params with f1 scoring for [early stopping](https://www.kaggle.com/c/sberbank-russian-housing-market/discussion/32739). The f1_eval wrapper was found [here](https://stackoverflow.com/questions/51587535/custom-evaluation-function-based-on-f1-for-use-in-xgboost-python-api)."
   ]
  },
  {
   "cell_type": "code",
   "execution_count": 114,
   "metadata": {},
   "outputs": [],
   "source": [
    "# sklearn f1 wrapper for early stopping\n",
    "def f1_eval(y_pred, dtrain):\n",
    "    y_true = dtrain.get_label()\n",
    "    err = 1-f1_score(y_true, np.round(y_pred))\n",
    "    return 'f1_err', err"
   ]
  },
  {
   "cell_type": "code",
   "execution_count": 115,
   "metadata": {},
   "outputs": [
    {
     "name": "stdout",
     "output_type": "stream",
     "text": [
      "Elapsed computation time: 81.372 mins\n"
     ]
    }
   ],
   "source": [
    "# Tuning hyperparameters\n",
    "cv = GridSearchCV(estimator=XGBClassifier(), param_grid={\n",
    "        \"max_depth\": range(5,8,1),\n",
    "        \"min_child_weight\": [5, 10, 20, 50],\n",
    "        \"gamma\": [0, 0.1, 0.2],\n",
    "        \"random_state\": [42],\n",
    "        \"n_estimators\": [1000]\n",
    "        },         \n",
    "        scoring=\"f1\", cv=3)\n",
    "\n",
    "start_time = time.time()\n",
    "\n",
    "# Setting fit_params for early stopping\n",
    "fit_params= {\n",
    "            \"eval_set\": [(X_valid, y_valid)],\n",
    "            \"eval_metric\": f1_eval,\n",
    "            \"early_stopping_rounds\":20,\n",
    "            \"verbose\": 0\n",
    "        }\n",
    "\n",
    "# fitting GridSearchCV to the balanced training dataset\n",
    "cv.fit(X_balanced_train, y_balanced_train, **fit_params)\n",
    "\n",
    "elapsed_time = (time.time() - start_time) / 60\n",
    "print('Elapsed computation time: {:.3f} mins'.format(elapsed_time))"
   ]
  },
  {
   "cell_type": "code",
   "execution_count": 116,
   "metadata": {},
   "outputs": [
    {
     "data": {
      "text/plain": [
       "{'gamma': 0.2,\n",
       " 'max_depth': 7,\n",
       " 'min_child_weight': 5,\n",
       " 'n_estimators': 1000,\n",
       " 'random_state': 42}"
      ]
     },
     "execution_count": 116,
     "metadata": {},
     "output_type": "execute_result"
    }
   ],
   "source": [
    "# observing the selected hyperparameters\n",
    "cv.best_params_"
   ]
  },
  {
   "cell_type": "code",
   "execution_count": 117,
   "metadata": {},
   "outputs": [
    {
     "name": "stdout",
     "output_type": "stream",
     "text": [
      "[0]\tvalidation_0-error:0.34479\tvalidation_0-f1_err:0.96525\n",
      "Multiple eval metrics have been passed: 'validation_0-f1_err' will be used for early stopping.\n",
      "\n",
      "Will train until validation_0-f1_err hasn't improved in 10 rounds.\n",
      "[10]\tvalidation_0-error:0.12934\tvalidation_0-f1_err:0.96414\n",
      "[20]\tvalidation_0-error:0.09140\tvalidation_0-f1_err:0.96557\n",
      "Stopping. Best iteration:\n",
      "[10]\tvalidation_0-error:0.12934\tvalidation_0-f1_err:0.96414\n",
      "\n"
     ]
    },
    {
     "data": {
      "text/plain": [
       "XGBClassifier(base_score=0.5, booster='gbtree', colsample_bylevel=1,\n",
       "              colsample_bynode=1, colsample_bytree=1, gamma=0.2, gpu_id=-1,\n",
       "              importance_type='gain', interaction_constraints='',\n",
       "              learning_rate=0.300000012, max_delta_step=0, max_depth=7,\n",
       "              min_child_weight=5, missing=nan, monotone_constraints='()',\n",
       "              n_estimators=1000, n_jobs=0, num_parallel_tree=1, random_state=42,\n",
       "              reg_alpha=0, reg_lambda=1, scale_pos_weight=1, subsample=1,\n",
       "              tree_method='exact', validate_parameters=1, verbosity=None)"
      ]
     },
     "execution_count": 117,
     "metadata": {},
     "output_type": "execute_result"
    }
   ],
   "source": [
    "# Fitting & Validating XGBModel with Grid Search parameters\n",
    "xgb = XGBClassifier(n_estimators=1000)\n",
    "best_params_xgb = cv.best_params_\n",
    "xgb.set_params(**best_params_xgb)\n",
    "xgb.fit(X=X_balanced_train, y=y_balanced_train.values.ravel(), eval_set=[(X_valid, y_valid)], eval_metric=f1_eval, early_stopping_rounds=10, verbose=10)"
   ]
  },
  {
   "cell_type": "code",
   "execution_count": 118,
   "metadata": {},
   "outputs": [],
   "source": [
    "# Storing the model as a pickle file\n",
    "pickle.dump(xgb, open('./xgb_model.pkl', 'wb'))\n",
    "model = pickle.load(open(\"./xgb_model.pkl\", 'rb'))"
   ]
  },
  {
   "cell_type": "code",
   "execution_count": 119,
   "metadata": {},
   "outputs": [],
   "source": [
    "# Using the validation set to explicitly evaluate the model\n",
    "y_pred = model.predict(X_valid)"
   ]
  },
  {
   "cell_type": "code",
   "execution_count": 120,
   "metadata": {},
   "outputs": [
    {
     "name": "stdout",
     "output_type": "stream",
     "text": [
      "Accuracy Score:  0.871\n",
      "Confusion Matrix: \n",
      " [[11191  1526]\n",
      " [  141    31]]\n"
     ]
    }
   ],
   "source": [
    "# Evaluation\n",
    "print('Accuracy Score: ', accuracy_score(y_valid, y_pred).round(3))\n",
    "print('Confusion Matrix: \\n', confusion_matrix(y_valid, y_pred))"
   ]
  },
  {
   "cell_type": "code",
   "execution_count": 121,
   "metadata": {},
   "outputs": [
    {
     "data": {
      "image/png": "[encoded data removed]",
      "text/plain": [
       "<Figure size 432x288 with 2 Axes>"
      ]
     },
     "metadata": {
      "needs_background": "light"
     },
     "output_type": "display_data"
    },
    {
     "data": {
      "image/png": "[encoded data removed]",
      "text/plain": [
       "<Figure size 432x288 with 2 Axes>"
      ]
     },
     "metadata": {
      "needs_background": "light"
     },
     "output_type": "display_data"
    }
   ],
   "source": [
    "# Plot confusion matrices\n",
    "titles_options = [(\"Confusion matrix, without normalization\", None),\n",
    "                  (\"Normalized confusion matrix\", 'true')]\n",
    "\n",
    "for title, normalize in titles_options:\n",
    "    disp = plot_confusion_matrix(model, X_valid, y_valid,\n",
    "                                 display_labels=[0,1],\n",
    "                                 cmap=plt.cm.Blues,\n",
    "                                 normalize=normalize)\n",
    "    disp.ax_.set_title(title)\n",
    "    plt.grid(False)\n"
   ]
  },
  {
   "cell_type": "markdown",
   "metadata": {},
   "source": [
    "The dataset's imbalance is reflected on the results - the model is quite accurate, but does well only in predicting non-customers (0), whereas potential customers (1) are systematically ill-predicted."
   ]
  },
  {
   "cell_type": "markdown",
   "metadata": {},
   "source": [
    "### XGBRegressor Algorithm\n",
    "\n",
    "Another possibility is, instead of classifying individuals as \"non-customers\" (0) and \"customers\" (1), we can assign each individual a \"probability\" of becoming a customer - that is, the higher the number, the higher the probability of responding to a market campaign.\n",
    "\n",
    "In order to do so, I will use the XGBoost Regression Algorithm, using the Receiver Operating Characteristic (ROC) curve to measure the model's performance.\n",
    "\n",
    "This helpful [article](https://www.analyticsvidhya.com/blog/2016/03/complete-guide-parameter-tuning-xgboost-with-codes-python/) was used to tune the parameters."
   ]
  },
  {
   "cell_type": "code",
   "execution_count": 137,
   "metadata": {},
   "outputs": [
    {
     "name": "stdout",
     "output_type": "stream",
     "text": [
      "Elapsed computation time: 33.468 mins\n"
     ]
    }
   ],
   "source": [
    "# Instanciate model\n",
    "xgb_reg = XGBRegressor()\n",
    "\n",
    "# # Define hyperparameters grid\n",
    "# # parameters = { 'learning_rate' : [0.01, 0.1],\n",
    "# #                 'gamma' : [0, 0.1, 0.2],\n",
    "# #                 'max_depth' : [3, 5, 7],\n",
    "# #                 'min_child_weight': [1,3,5],\n",
    "# #                 'colsample_bytree':[0.8],\n",
    "# #                 'scale_pos_weight' : [1],\n",
    "# #                 'random_state' : [42], \n",
    "# #                 'n_estimators': [500],\n",
    "# #              }\n",
    "\n",
    "# best parameters \n",
    "parameters = { 'learning_rate' : [0.1],\n",
    "                'gamma' : [0],\n",
    "                'max_depth' : [7],\n",
    "                'min_child_weight': [1],\n",
    "                'colsample_bytree':[0.8],\n",
    "                'scale_pos_weight' : [1],\n",
    "                'random_state' : [42], \n",
    "                'n_estimators': [500],\n",
    "             }\n",
    "\n",
    "start_time = time.time()\n",
    "\n",
    "# Instanciate and fit CV \n",
    "cv = GridSearchCV(xgb_reg, parameters, n_jobs= -1)\n",
    "cv.fit(X_balanced_train, y_balanced_train)\n",
    "\n",
    "# Grab best estimator and predict values\n",
    "best_xgb = cv.best_estimator_\n",
    "best_prediction = best_xgb.predict(X_valid)\n",
    "\n",
    "elapsed_time = (time.time() - start_time) / 60\n",
    "print('Elapsed computation time: {:.3f} mins'.format(elapsed_time))"
   ]
  },
  {
   "cell_type": "code",
   "execution_count": 138,
   "metadata": {},
   "outputs": [
    {
     "data": {
      "text/plain": [
       "{'colsample_bytree': 0.8,\n",
       " 'gamma': 0,\n",
       " 'learning_rate': 0.1,\n",
       " 'max_depth': 7,\n",
       " 'min_child_weight': 1,\n",
       " 'n_estimators': 500,\n",
       " 'random_state': 42,\n",
       " 'scale_pos_weight': 1}"
      ]
     },
     "execution_count": 138,
     "metadata": {},
     "output_type": "execute_result"
    }
   ],
   "source": [
    "cv.best_params_"
   ]
  },
  {
   "cell_type": "code",
   "execution_count": 139,
   "metadata": {},
   "outputs": [
    {
     "data": {
      "text/plain": [
       "0.5687755906303775"
      ]
     },
     "execution_count": 139,
     "metadata": {},
     "output_type": "execute_result"
    }
   ],
   "source": [
    "roc_auc_score(y_valid, best_prediction)"
   ]
  },
  {
   "cell_type": "code",
   "execution_count": 141,
   "metadata": {},
   "outputs": [],
   "source": [
    "model_reg = best_xgb"
   ]
  },
  {
   "cell_type": "code",
   "execution_count": 125,
   "metadata": {},
   "outputs": [],
   "source": [
    "pickle.dump(xgb, open('./xgb_reg_model.pkl', 'wb'))\n",
    "model_reg = pickle.load(open(\"./xgb_reg_model.pkl\", 'rb'))"
   ]
  },
  {
   "cell_type": "markdown",
   "metadata": {},
   "source": [
    "## Part 3: Kaggle Competition\n",
    "\n",
    "Now that you've created a model to predict which individuals are most likely to respond to a mailout campaign, it's time to test that model in competition through Kaggle. If you click on the link [here](http://www.kaggle.com/t/21e6d45d4c574c7fa2d868f0e8c83140), you'll be taken to the competition page where, if you have a Kaggle account, you can enter. If you're one of the top performers, you may have the chance to be contacted by a hiring manager from Arvato or Bertelsmann for an interview!\n",
    "\n",
    "Your entry to the competition should be a CSV file with two columns. The first column should be a copy of \"LNR\", which acts as an ID number for each individual in the \"TEST\" partition. The second column, \"RESPONSE\", should be some measure of how likely each individual became a customer – this might not be a straightforward probability. As you should have found in Part 2, there is a large output class imbalance, where most individuals did not respond to the mailout. Thus, predicting individual classes and using accuracy does not seem to be an appropriate performance evaluation method. Instead, the competition will be using AUC to evaluate performance. The exact values of the \"RESPONSE\" column do not matter as much: only that the higher values try to capture as many of the actual customers as possible, early in the ROC curve sweep."
   ]
  },
  {
   "cell_type": "code",
   "execution_count": 140,
   "metadata": {},
   "outputs": [
    {
     "name": "stderr",
     "output_type": "stream",
     "text": [
      "C:\\Users\\Theoto Tatiana\\AppData\\Local\\Continuum\\anaconda3\\lib\\site-packages\\IPython\\core\\interactiveshell.py:3058: DtypeWarning: Columns (18,19) have mixed types. Specify dtype option on import or set low_memory=False.\n",
      "  interactivity=interactivity, compiler=compiler, result=result)\n"
     ]
    }
   ],
   "source": [
    "# load test data - adapt path as needed\n",
    "# please change to \";\" for the original dataset - I saved with \",\" locally\n",
    "mailout_test = pd.read_csv('Udacity_MAILOUT_052018_TEST.csv', sep=',')"
   ]
  },
  {
   "cell_type": "code",
   "execution_count": 142,
   "metadata": {},
   "outputs": [],
   "source": [
    "# preparing the dataset\n",
    "mailout_clean = clean_dataset(mailout_test, model=True)\n",
    "mailout_clean_pca = scale_imput_pca(mailout_clean, comp_80)"
   ]
  },
  {
   "cell_type": "code",
   "execution_count": 143,
   "metadata": {},
   "outputs": [],
   "source": [
    "# predicting\n",
    "response = model_reg.predict(mailout_clean_pca)"
   ]
  },
  {
   "cell_type": "code",
   "execution_count": 145,
   "metadata": {},
   "outputs": [],
   "source": [
    "# creating submission file\n",
    "kaggle_sub = pd.DataFrame()\n",
    "kaggle_sub['LNR'] = mailout_test['LNR']\n",
    "kaggle_sub['RESPONSE'] = response"
   ]
  },
  {
   "cell_type": "code",
   "execution_count": 147,
   "metadata": {},
   "outputs": [],
   "source": [
    "# saving to CSV\n",
    "kaggle_sub.to_csv('Kaggle_Submission.csv', index=False)"
   ]
  }
 ],
 "metadata": {
  "kernelspec": {
   "display_name": "Python 3",
   "language": "python",
   "name": "python3"
  },
  "language_info": {
   "codemirror_mode": {
    "name": "ipython",
    "version": 3
   },
   "file_extension": ".py",
   "mimetype": "text/x-python",
   "name": "python",
   "nbconvert_exporter": "python",
   "pygments_lexer": "ipython3",
   "version": "3.7.4"
  }
 },
 "nbformat": 4,
 "nbformat_minor": 2
}
